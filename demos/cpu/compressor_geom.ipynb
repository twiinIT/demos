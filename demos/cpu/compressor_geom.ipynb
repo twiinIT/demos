{
 "cells": [
  {
   "cell_type": "code",
   "execution_count": 29,
   "id": "19ad0c36-5c76-44b2-ba9a-51878c8e9330",
   "metadata": {},
   "outputs": [],
   "source": [
    "from math import pi\n",
    "from cpu.systems.fan_geometry import ParametricBladeGeometry\n",
    "from cosapp.systems import System\n",
    "\n",
    "from pythonocc_helpers.create import CreateTopology, CreateRotation\n",
    "from OCC.Core.BRepBuilderAPI import BRepBuilderAPI_Transform\n",
    "\n",
    "class RotorGeometry(System):\n",
    "    def setup(self):\n",
    "        blade = self.add_child(\n",
    "            ParametricBladeGeometry(\"blade\"),\n",
    "            pulling={\n",
    "                \"tip_radius\": \"tip_radius\",\n",
    "                \"hub_to_tip_ratio\": \"hub_to_tip_ratio\",\n",
    "                \"position\": \"blade_position\",\n",
    "                \"dimension\": \"blade_dimension\",\n",
    "            },\n",
    "        )\n",
    "\n",
    "        self.add_inward(\"count\", 2)\n",
    "        self.add_inward(\"thickness\", 1e-3, unit=\"m\")\n",
    "        self.add_outward(\"geometry\", None)\n",
    "\n",
    "    def compute(self):\n",
    "        blades = []\n",
    "        for i in range(self.count):\n",
    "            trsf = BRepBuilderAPI_Transform(\n",
    "                self.blade.geometry, CreateRotation.rotation_x(2 * pi / self.count * i)\n",
    "            )\n",
    "            blades.append(trsf.Shape())\n",
    "\n",
    "        self.geometry = CreateTopology.make_compound(*blades)\n",
    "\n",
    "row = RotorGeometry(\"blade\")\n",
    "blade = row.blade"
   ]
  },
  {
   "cell_type": "code",
   "execution_count": 42,
   "id": "02ea9acd-652c-4c4e-a7ba-6e0634495b4c",
   "metadata": {},
   "outputs": [
    {
     "data": {
      "application/vnd.jupyter.widget-view+json": {
       "model_id": "01937c92633849efa25fee4899b5d36a",
       "version_major": 2,
       "version_minor": 0
      },
      "text/plain": [
       "HBox(children=(Renderer(background='pink', camera=PerspectiveCamera(aspect=2.25, children=(DirectionalLight(in…"
      ]
     },
     "metadata": {},
     "output_type": "display_data"
    }
   ],
   "source": [
    "from pythonocc_helpers.render import JupyterThreeJSRenderer\n",
    "\n",
    "import ipywidgets as widgets\n",
    "\n",
    "\n",
    "def grid(s, render):\n",
    "\n",
    "    blade_slider = widgets.IntSlider(\n",
    "        value=60,\n",
    "        min=50,\n",
    "        max=70,\n",
    "        step=1,\n",
    "        description='Blade count:',\n",
    "        disabled=False,\n",
    "        continuous_update=False,\n",
    "        orientation='horizontal',\n",
    "        readout=True\n",
    "    )\n",
    "\n",
    "    def on_value_change(change):\n",
    "        s.count = change['new']\n",
    "        s.run_drivers()\n",
    "        render.update_shape(s.geometry, uid=\"row\");\n",
    "\n",
    "    blade_slider.observe(on_value_change, names='value')\n",
    "\n",
    "    return widgets.HBox([render.show(), widgets.VBox([blade_slider, ])])\n",
    "\n",
    "render = JupyterThreeJSRenderer(view_size=(1800, 800), camera_target=(1., 0., 0.), camera_position=(-2., 0., 0.))\n",
    "\n",
    "render_row = render.add_shape(row.geometry, uid=\"row\", face_color=\"#156289\", opacity=1., linear_deflection = 0.15, angular_deflection = 0.15, curvature_deflection=0.15)\n",
    "grid(row, render)"
   ]
  },
  {
   "cell_type": "code",
   "execution_count": 48,
   "id": "d00da295-6606-4515-b88a-14bef8351c48",
   "metadata": {},
   "outputs": [],
   "source": [
    "blade.height_over_chord = 1.\n",
    "blade.q_factor = 1.\n",
    "blade.max_thickness_position = 0.3\n",
    "blade.max_thickness_ratio = 0.05\n",
    "blade.leading_tension = 0.3\n",
    "blade.trailing_tension = 0.3\n",
    "blade.inlet_angle = 60.\n",
    "blade.exit_angle = 20.\n",
    "blade.stacking_parameter = 0.\n",
    "blade.stacking_angle = 0.\n",
    "blade.swirl = 0.\n",
    "\n",
    "row.tip_radius = 0.8\n",
    "row.hub_to_tip_ratio = 0.85\n",
    "row.count = 60\n",
    "\n",
    "row.run_drivers()\n",
    "\n",
    "render.update_shape(row.geometry, uid=\"row\");"
   ]
  },
  {
   "cell_type": "code",
   "execution_count": null,
   "id": "6d04a96c-5eb4-440d-abe5-e8901033d10f",
   "metadata": {},
   "outputs": [],
   "source": []
  }
 ],
 "metadata": {
  "kernelspec": {
   "display_name": "Python 3 (ipykernel)",
   "language": "python",
   "name": "python3"
  },
  "language_info": {
   "codemirror_mode": {
    "name": "ipython",
    "version": 3
   },
   "file_extension": ".py",
   "mimetype": "text/x-python",
   "name": "python",
   "nbconvert_exporter": "python",
   "pygments_lexer": "ipython3",
   "version": "3.9.10"
  }
 },
 "nbformat": 4,
 "nbformat_minor": 5
}
