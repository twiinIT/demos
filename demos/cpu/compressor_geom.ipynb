{
 "cells": [
  {
   "cell_type": "code",
   "execution_count": null,
   "id": "19ad0c36-5c76-44b2-ba9a-51878c8e9330",
   "metadata": {},
   "outputs": [],
   "source": [
    "from math import pi\n",
    "from cpu.systems.fan_geometry import ParametricBladeGeometry\n",
    "from cosapp.systems import System\n",
    "\n",
    "from pythonocc_helpers.create import CreateTopology, CreateRotation\n",
    "from OCC.Core.BRepBuilderAPI import BRepBuilderAPI_Transform\n",
    "\n",
    "class RotorGeometry(System):\n",
    "    def setup(self):\n",
    "        blade = self.add_child(\n",
    "            ParametricBladeGeometry(\"blade\"),\n",
    "            pulling={\n",
    "                \"tip_radius\": \"tip_radius\",\n",
    "                \"hub_to_tip_ratio\": \"hub_to_tip_ratio\",\n",
    "                \"position\": \"blade_position\",\n",
    "                \"dimension\": \"blade_dimension\",\n",
    "            },\n",
    "        )\n",
    "\n",
    "        self.add_inward(\"count\", 2)\n",
    "        self.add_inward(\"thickness\", 1e-3, unit=\"m\")\n",
    "        self.add_outward(\"geometry\", None)\n",
    "\n",
    "    def compute(self):\n",
    "        blades = []\n",
    "        for i in range(self.count):\n",
    "            trsf = BRepBuilderAPI_Transform(\n",
    "                self.blade.geometry, CreateRotation.rotation_x(2 * pi / self.count * i)\n",
    "            )\n",
    "            blades.append(trsf.Shape())\n",
    "\n",
    "        self.geometry = CreateTopology.make_compound(*blades)\n",
    "\n",
    "row = RotorGeometry(\"blade\")\n",
    "blade = row.blade"
   ]
  },
  {
   "cell_type": "code",
   "execution_count": null,
   "id": "02ea9acd-652c-4c4e-a7ba-6e0634495b4c",
   "metadata": {},
   "outputs": [],
   "source": [
    "from pythonocc_helpers.render import JupyterThreeJSRenderer\n",
    "from cpu.utils.display import grid_display\n",
    "\n",
    "\n",
    "render = JupyterThreeJSRenderer(view_size=(1800, 800), camera_target=(1., 0., 0.), camera_position=(-2., 0., 0.))\n",
    "\n",
    "render_row = render.add_shape(row.geometry, uid=\"row\", face_color=\"#156289\", opacity=1., linear_deflection = 0.15, angular_deflection = 0.15, curvature_deflection=0.15)\n",
    "grid_display(row, render)"
   ]
  },
  {
   "cell_type": "code",
   "execution_count": null,
   "id": "d00da295-6606-4515-b88a-14bef8351c48",
   "metadata": {},
   "outputs": [],
   "source": [
    "blade.height_over_chord = 1.\n",
    "blade.q_factor = 1.\n",
    "blade.max_thickness_position = 0.3\n",
    "blade.max_thickness_ratio = 0.05\n",
    "blade.leading_tension = 0.3\n",
    "blade.trailing_tension = 0.3\n",
    "blade.inlet_angle = 60.\n",
    "blade.exit_angle = 20.\n",
    "blade.stacking_parameter = 0.\n",
    "blade.stacking_angle = 0.\n",
    "blade.swirl = 0.\n",
    "\n",
    "row.tip_radius = 0.8\n",
    "row.hub_to_tip_ratio = 0.85\n",
    "row.count = 60\n",
    "\n",
    "row.run_drivers()\n",
    "\n",
    "render.update_shape(row.geometry, uid=\"row\");"
   ]
  }
 ],
 "metadata": {
  "kernelspec": {
   "display_name": "Python 3 (ipykernel)",
   "language": "python",
   "name": "python3"
  },
  "language_info": {
   "codemirror_mode": {
    "name": "ipython",
    "version": 3
   },
   "file_extension": ".py",
   "mimetype": "text/x-python",
   "name": "python",
   "nbconvert_exporter": "python",
   "pygments_lexer": "ipython3",
   "version": "3.9.12"
  }
 },
 "nbformat": 4,
 "nbformat_minor": 5
}
