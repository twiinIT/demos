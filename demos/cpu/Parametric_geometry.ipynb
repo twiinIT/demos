{
 "cells": [
  {
   "cell_type": "markdown",
   "id": "07063a6b-ec55-49bb-91ee-b802619bce29",
   "metadata": {},
   "source": [
    "# Parametric geometry\n",
    "\n",
    "## Why?\n",
    "\n",
    "Geometrical representation of the product is useful to understand the impact of a design process on physical parts, but not only.\n",
    "When running several computations/simulations of various physics on the product, they are all related to the same object and they need access to the geometry to perform relevant evaluations.\n",
    "\n",
    "Most of the time, the geometry is the first source of coupling between multi-physics simulations.\n",
    "\n",
    "## Example\n",
    "\n",
    "Let's keep a simple example: the CPU fan. We need the geometry to evalute the mass flow blown by the fan on the heat exchanger.\n",
    "\n",
    "![](images/fan.png)\n",
    "\n",
    "### The blade\n",
    "\n",
    "We need to have a fairly simple parametric fan blade geometry."
   ]
  },
  {
   "cell_type": "code",
   "execution_count": null,
   "id": "19ad0c36-5c76-44b2-ba9a-51878c8e9330",
   "metadata": {},
   "outputs": [],
   "source": [
    "from cpu.systems.fan_geometry import ParametricBladeGeometry\n",
    "\n",
    "p_blade = ParametricBladeGeometry(\"blade\")"
   ]
  },
  {
   "cell_type": "code",
   "execution_count": null,
   "id": "02ea9acd-652c-4c4e-a7ba-6e0634495b4c",
   "metadata": {},
   "outputs": [],
   "source": [
    "from pythonocc_helpers.render import JupyterThreeJSRenderer\n",
    "\n",
    "render = JupyterThreeJSRenderer(view_size=(1800, 800), camera_target=(1., 0., 0.), camera_position=(-2., 0., 0.))\n",
    "\n",
    "render_row = render.add_shape(p_blade.geometry, uid=\"blade\", face_color=\"#156289\", opacity=1.)\n",
    "render_row.scale = (10., 10., 10.)\n",
    "render.show()"
   ]
  },
  {
   "cell_type": "code",
   "execution_count": null,
   "id": "d00da295-6606-4515-b88a-14bef8351c48",
   "metadata": {},
   "outputs": [],
   "source": [
    "p_blade.hub_to_tip_ratio = 0.3\n",
    "p_blade.height_over_chord = 1.5\n",
    "p_blade.q_factor = 1.\n",
    "p_blade.max_thickness_position = 0.3\n",
    "p_blade.max_thickness_ratio = 0.1\n",
    "p_blade.leading_tension = 0.1\n",
    "p_blade.trailing_tension = 0.1\n",
    "p_blade.inlet_angle = 40.\n",
    "p_blade.exit_angle = 10.\n",
    "p_blade.stacking_parameter = 0.3\n",
    "p_blade.stacking_angle = 0.\n",
    "p_blade.swirl = 0.\n",
    "\n",
    "p_blade.run_drivers()\n",
    "\n",
    "render.update_shape(p_blade.geometry, uid=\"blade\");"
   ]
  },
  {
   "cell_type": "markdown",
   "id": "294c5096-7537-4a4c-a693-741a2219107b",
   "metadata": {},
   "source": [
    "It looks promising!"
   ]
  },
  {
   "cell_type": "code",
   "execution_count": null,
   "id": "23e1afd4-942f-4f4f-90eb-43cea30b40b2",
   "metadata": {},
   "outputs": [],
   "source": [
    "from cpu.systems.fan_geometry import FanGeometry\n",
    "\n",
    "fan = FanGeometry('fan')\n",
    "rotor = fan.rotor\n",
    "blade = rotor.blade\n",
    "casing = fan.casing"
   ]
  },
  {
   "cell_type": "code",
   "execution_count": null,
   "id": "90d20baa-296f-4b6a-b5c8-c84cf7408124",
   "metadata": {},
   "outputs": [],
   "source": [
    "from pythonocc_helpers.render import JupyterThreeJSRenderer, JupyterThreeJSRenderer2d\n",
    "from cpu.utils.display import compare_with_image\n",
    "\n",
    "render2d = JupyterThreeJSRenderer2d(view_size=(600, 600), camera_target=(1., 0., 0.), camera_position=(-1.5, 0., 0.))\n",
    "render_row2d = render2d.add_shape(fan.geometry.shape, uid=\"blade\", face_color=\"#156289\", opacity=1., plot_edges=False)\n",
    "\n",
    "render = JupyterThreeJSRenderer(view_size=(600, 600), camera_target=(1., 0., 0.), camera_position=(-1.5, 0., 0.))\n",
    "render_row = render.add_shape(fan.geometry.shape, uid=\"blade\", face_color=\"#156289\", opacity=1., plot_edges=False)\n",
    "\n",
    "compare_with_image(fan, render2d, render)"
   ]
  },
  {
   "cell_type": "code",
   "execution_count": null,
   "id": "b61809f9-df8c-4d48-b3a3-25d984689abe",
   "metadata": {
    "tags": []
   },
   "outputs": [],
   "source": [
    "blade.height_over_chord = 1.3\n",
    "blade.q_factor = 1.\n",
    "blade.max_thickness_position = 0.3\n",
    "blade.max_thickness_ratio = 0.1\n",
    "blade.leading_tension = 1.\n",
    "blade.trailing_tension = 1.\n",
    "blade.inlet_angle = 80.\n",
    "blade.exit_angle = 60.\n",
    "blade.stacking_parameter = 0.\n",
    "blade.stacking_angle = 0.\n",
    "blade.swirl = 25.\n",
    "\n",
    "casing.thickness_ratio = 0.03\n",
    "casing.min_thickness = 0.002\n",
    "casing.clearance_ratio = 0.02\n",
    "casing.min_clearance = 0.005\n",
    "casing.struts_clearance_ratio = 0.05\n",
    "\n",
    "rotor.count = 7\n",
    "\n",
    "f = 1.\n",
    "fan.tip_radius = 0.1 / f\n",
    "fan.hub_to_tip_ratio = 0.4\n",
    "fan.factor = 10. * f * 1.\n",
    "\n",
    "fan.run_drivers()\n",
    "\n",
    "render_row.linear_deflection = 0.15\n",
    "render_row.angular_deflection = 0.15\n",
    "render_row2d.linear_deflection = 0.15\n",
    "render_row2d.angular_deflection = 0.15\n",
    "\n",
    "render.update_shape(fan.geometry.shape, uid=\"blade\");\n",
    "render2d.update_shape(fan.geometry.shape, uid=\"blade\");"
   ]
  },
  {
   "cell_type": "code",
   "execution_count": null,
   "id": "82e4cfa7-a6cd-48c6-93dc-c696ef7b19d8",
   "metadata": {},
   "outputs": [],
   "source": [
    "# start interface viewer\n",
    "from cosapp_lab.widgets import SysExplorer\n",
    "\n",
    "a = SysExplorer(fan, template = \"parametric_geom_dashboard.json\", anchor = \"tab-after\")"
   ]
  }
 ],
 "metadata": {
  "kernelspec": {
   "display_name": "Python 3 (ipykernel)",
   "language": "python",
   "name": "python3"
  },
  "language_info": {
   "codemirror_mode": {
    "name": "ipython",
    "version": 3
   },
   "file_extension": ".py",
   "mimetype": "text/x-python",
   "name": "python",
   "nbconvert_exporter": "python",
   "pygments_lexer": "ipython3",
   "version": "3.9.12"
  }
 },
 "nbformat": 4,
 "nbformat_minor": 5
}
