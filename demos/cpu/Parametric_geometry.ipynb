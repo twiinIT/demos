{
 "cells": [
  {
   "cell_type": "markdown",
   "id": "07063a6b-ec55-49bb-91ee-b802619bce29",
   "metadata": {},
   "source": [
    "# Parametric geometry\n",
    "\n",
    "## Why?\n",
    "\n",
    "Geometrical representation of the product is useful to understand the impact of a design process on physical parts, but not only.\n",
    "When running several computations/simulations of various physics on the product, they are all related to the same object and they need access to the geometry to perform relevant evaluations.\n",
    "\n",
    "Most of the time, the geometry is the first source of coupling between multi-physics simulations.\n",
    "\n",
    "## Example\n",
    "\n",
    "Let's keep a simple example: the CPU fan. We need the geometry to evalute the mass flow blown by the fan on the heat exchanger.\n",
    "\n",
    "![](images/fan.png)\n",
    "\n",
    "### The blade\n",
    "\n",
    "We need to have a fairly simple parametric fan blade geometry."
   ]
  },
  {
   "cell_type": "code",
   "execution_count": 15,
   "id": "19ad0c36-5c76-44b2-ba9a-51878c8e9330",
   "metadata": {},
   "outputs": [],
   "source": [
    "from cpu.systems.fan_geometry import ParametricBladeGeometry\n",
    "\n",
    "p_blade = ParametricBladeGeometry(\"blade\")"
   ]
  },
  {
   "cell_type": "code",
   "execution_count": 16,
   "id": "02ea9acd-652c-4c4e-a7ba-6e0634495b4c",
   "metadata": {},
   "outputs": [
    {
     "data": {
      "application/vnd.jupyter.widget-view+json": {
       "model_id": "d93c608281014257822a12d3933e66d3",
       "version_major": 2,
       "version_minor": 0
      },
      "text/plain": [
       "Renderer(background='pink', camera=PerspectiveCamera(aspect=2.25, children=(DirectionalLight(intensity=0.3, po…"
      ]
     },
     "metadata": {},
     "output_type": "display_data"
    }
   ],
   "source": [
    "from pythonocc_helpers.render import JupyterThreeJSRenderer\n",
    "\n",
    "render = JupyterThreeJSRenderer(view_size=(1800, 800), camera_target=(1., 0., 0.), camera_position=(-2., 0., 0.))\n",
    "\n",
    "render_row = render.add_shape(p_blade.geometry, uid=\"blade\", face_color=\"#156289\", opacity=1.)\n",
    "render_row.scale = (10., 10., 10.)\n",
    "render.show()"
   ]
  },
  {
   "cell_type": "code",
   "execution_count": 19,
   "id": "d00da295-6606-4515-b88a-14bef8351c48",
   "metadata": {},
   "outputs": [],
   "source": [
    "p_blade.hub_to_tip_ratio = 0.3\n",
    "p_blade.height_over_chord = 1.5\n",
    "p_blade.q_factor = 1.\n",
    "p_blade.max_thickness_position = 0.3\n",
    "p_blade.max_thickness_ratio = 0.1\n",
    "p_blade.leading_tension = 0.1\n",
    "p_blade.trailing_tension = 0.1\n",
    "p_blade.inlet_angle = 40.\n",
    "p_blade.exit_angle = 10.\n",
    "p_blade.stacking_parameter = 0.3\n",
    "p_blade.stacking_angle = 0.\n",
    "p_blade.swirl = 0.\n",
    "\n",
    "p_blade.run_drivers()\n",
    "\n",
    "render.update_shape(p_blade.geometry, uid=\"blade\");"
   ]
  },
  {
   "cell_type": "code",
   "execution_count": 13,
   "id": "0ac075a9-b1dd-42a9-9d76-888c4100f553",
   "metadata": {},
   "outputs": [
    {
     "data": {
      "text/plain": [
       "1"
      ]
     },
     "execution_count": 13,
     "metadata": {},
     "output_type": "execute_result"
    }
   ],
   "source": [
    "len(render_row.faces_group)"
   ]
  },
  {
   "cell_type": "code",
   "execution_count": 9,
   "id": "e4499472-b816-46d5-98de-a0480dddfa34",
   "metadata": {},
   "outputs": [],
   "source": [
    "render_row.wireframe = not render_row.wireframe"
   ]
  },
  {
   "cell_type": "markdown",
   "id": "294c5096-7537-4a4c-a693-741a2219107b",
   "metadata": {},
   "source": [
    "It looks promising!"
   ]
  },
  {
   "cell_type": "code",
   "execution_count": 30,
   "id": "23e1afd4-942f-4f4f-90eb-43cea30b40b2",
   "metadata": {},
   "outputs": [],
   "source": [
    "from cpu.systems.fan_geometry import FanGeometry\n",
    "\n",
    "fan = FanGeometry('fan')\n",
    "rotor = fan.rotor\n",
    "blade = rotor.blade\n",
    "casing = fan.casing"
   ]
  },
  {
   "cell_type": "code",
   "execution_count": 33,
   "id": "90d20baa-296f-4b6a-b5c8-c84cf7408124",
   "metadata": {},
   "outputs": [
    {
     "data": {
      "application/vnd.jupyter.widget-view+json": {
       "model_id": "c82a161aaf62481a9e101c6fcf6fa601",
       "version_major": 2,
       "version_minor": 0
      },
      "text/plain": [
       "HBox(children=(Image(value=b'\\x89PNG\\r\\n\\x1a\\n\\x00\\x00\\x00\\rIHDR\\x00\\x00\\x01\\xa8\\x00\\x00\\x01\\xa7\\x08\\x06\\x00\\x…"
      ]
     },
     "metadata": {},
     "output_type": "display_data"
    }
   ],
   "source": [
    "from pythonocc_helpers.render import JupyterThreeJSRenderer, JupyterThreeJSRenderer2d\n",
    "from utils.display import compare_with_image\n",
    "\n",
    "render = JupyterThreeJSRenderer(view_size=(600, 600), camera_target=(1., 0., 0.), camera_position=(-1.5, 0., 0.))\n",
    "render_row = render.add_shape(fan.geometry.shape, uid=\"blade\", face_color=\"#156289\", opacity=1.)\n",
    "\n",
    "compare_with_image(fan, render)"
   ]
  },
  {
   "cell_type": "code",
   "execution_count": 32,
   "id": "b61809f9-df8c-4d48-b3a3-25d984689abe",
   "metadata": {
    "tags": []
   },
   "outputs": [
    {
     "name": "stdout",
     "output_type": "stream",
     "text": [
      "0.04642857142857143 0.04362858596506003 0.4241150082346221\n",
      "0.646349421704593 0.10947165397855234\n"
     ]
    }
   ],
   "source": [
    "blade.height_over_chord = 1.4\n",
    "blade.q_factor = 1.\n",
    "blade.max_thickness_position = 0.3\n",
    "blade.max_thickness_ratio = 0.1\n",
    "blade.leading_tension = 1.\n",
    "blade.trailing_tension = 1.\n",
    "blade.inlet_angle = 80.\n",
    "blade.exit_angle = 60.\n",
    "blade.stacking_parameter = 0.\n",
    "blade.stacking_angle = 0.\n",
    "blade.swirl = 25.\n",
    "\n",
    "casing.thickness_ratio = 0.03\n",
    "casing.min_thickness = 0.002\n",
    "casing.clearance_ratio = 0.02\n",
    "casing.min_clearance = 0.005\n",
    "casing.struts_clearance_ratio = 0.05\n",
    "\n",
    "rotor.count = 7\n",
    "\n",
    "f = 1.\n",
    "fan.tip_radius = 0.1 / f\n",
    "fan.hub_to_tip_ratio = 0.35\n",
    "fan.factor = 10. * f\n",
    "\n",
    "fan.run_drivers()\n",
    "\n",
    "render_row.linear_deflection = 0.1\n",
    "render_row.angular_deflection = 0.1\n",
    "render.update_shape(fan.geometry.shape, uid=\"blade\");"
   ]
  },
  {
   "cell_type": "code",
   "execution_count": 34,
   "id": "82e4cfa7-a6cd-48c6-93dc-c696ef7b19d8",
   "metadata": {},
   "outputs": [
    {
     "name": "stderr",
     "output_type": "stream",
     "text": [
      "/home/adrien/micromamba/envs/aml/lib/python3.9/site-packages/jupyter_client/session.py:716: UserWarning: Message serialization failed with:\n",
      "Out of range float values are not JSON compliant\n",
      "Supporting this message is deprecated in jupyter-client 7, please make sure your message is JSON-compliant\n",
      "  content = self.pack(content)\n"
     ]
    }
   ],
   "source": [
    "# start interface viewer\n",
    "from cosapp_lab.widgets import SysExplorer\n",
    "\n",
    "a = SysExplorer(fan, template = \"fan_geom.json\", anchor = \"tab-after\")"
   ]
  },
  {
   "cell_type": "code",
   "execution_count": null,
   "id": "bb2af0a3-95d2-4f99-8b39-38689e93d00e",
   "metadata": {},
   "outputs": [],
   "source": []
  }
 ],
 "metadata": {
  "kernelspec": {
   "display_name": "Python 3 (ipykernel)",
   "language": "python",
   "name": "python3"
  },
  "language_info": {
   "codemirror_mode": {
    "name": "ipython",
    "version": 3
   },
   "file_extension": ".py",
   "mimetype": "text/x-python",
   "name": "python",
   "nbconvert_exporter": "python",
   "pygments_lexer": "ipython3",
   "version": "3.9.10"
  }
 },
 "nbformat": 4,
 "nbformat_minor": 5
}
