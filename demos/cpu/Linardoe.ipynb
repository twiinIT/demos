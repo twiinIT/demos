{
 "cells": [
  {
   "cell_type": "code",
   "execution_count": null,
   "id": "cb75600f-8427-478a-89df-c937255ffa7f",
   "metadata": {},
   "outputs": [],
   "source": [
    "from cosapp.drivers import NonLinearSolver, RungeKutta, MonteCarlo, LinearDoE\n",
    "from cosapp.recorders import DataFrameRecorder\n",
    "from cosapp.utils.distributions import Normal\n",
    "\n",
    "from cosapp_lab.widgets import SysExplorer\n",
    "\n",
    "from cpu.systems import CPUSystem"
   ]
  },
  {
   "cell_type": "code",
   "execution_count": null,
   "id": "9b501070-1c02-40c2-9850-a009506d72db",
   "metadata": {},
   "outputs": [],
   "source": [
    "cpu = CPUSystem(\"cpu\")"
   ]
  },
  {
   "cell_type": "code",
   "execution_count": null,
   "id": "de552c76-078a-4c2a-a76a-beff6c19cf59",
   "metadata": {},
   "outputs": [],
   "source": [
    "design = cpu.add_driver(NonLinearSolver('solver'))\n",
    "design.extend(cpu.design_methods[\"exchanger_surface\"])\n",
    "design.runner.set_values({\"fan.T_air\": 40., \"T_cpu\": 80., \"cpu.usage\": 100.})\n",
    "\n",
    "doe = cpu.add_driver(LinearDoE('doe'))\n",
    "\n",
    "time_driver = doe.add_child(RungeKutta(order=3, history = True))\n",
    "solver = time_driver.add_child(NonLinearSolver('solver', max_iter=10, factor=1.0))\n",
    "time_driver.time_interval = (0, 30)\n",
    "time_driver.dt = 0.5\n",
    "time_driver.set_scenario(\n",
    "    init={'T_cpu': 10.},\n",
    "    values={\n",
    "        \"cpu.usage\": \"100 if time <20 else 0.\"\n",
    "    }\n",
    ")\n",
    "\n",
    "doe.add_recorder(DataFrameRecorder(includes=['fan.tension', 'cpu.usage', 'T_cpu', 'fan.T_air']))\n",
    "doe.add_input_var({'fan.T_air': {\"lower\": 30.0, \"upper\": 60.0, \"count\": 21}})"
   ]
  },
  {
   "cell_type": "code",
   "execution_count": null,
   "id": "5325478f-3512-428a-8b1c-3b6149b359a6",
   "metadata": {},
   "outputs": [],
   "source": [
    "cpu.run_drivers()\n",
    "doe.recorder.data"
   ]
  }
 ],
 "metadata": {
  "kernelspec": {
   "display_name": "Python 3 (ipykernel)",
   "language": "python",
   "name": "python3"
  },
  "language_info": {
   "codemirror_mode": {
    "name": "ipython",
    "version": 3
   },
   "file_extension": ".py",
   "mimetype": "text/x-python",
   "name": "python",
   "nbconvert_exporter": "python",
   "pygments_lexer": "ipython3",
   "version": "3.9.12"
  }
 },
 "nbformat": 4,
 "nbformat_minor": 5
}
