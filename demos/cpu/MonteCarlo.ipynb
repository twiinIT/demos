{
 "cells": [
  {
   "cell_type": "code",
   "execution_count": null,
   "id": "d952aada-6dd7-4faf-a8a3-3edca994a72f",
   "metadata": {},
   "outputs": [],
   "source": [
    "from cosapp.drivers import MonteCarlo, RungeKutta, NonLinearSolver\n",
    "from cosapp.recorders import DataFrameRecorder\n",
    "from cosapp.utils.distributions import Normal\n",
    "\n",
    "from cpu.systems import CPUSystem\n",
    "from cpu.utils import createCPU"
   ]
  },
  {
   "cell_type": "code",
   "execution_count": null,
   "id": "72c15f7a-91b6-4a12-a0ba-8473aee59c82",
   "metadata": {},
   "outputs": [],
   "source": [
    "cpu = CPUSystem(\"cpu\")"
   ]
  },
  {
   "cell_type": "code",
   "execution_count": null,
   "id": "adb6dc84-bc90-40c3-a23a-8c710c1d97c2",
   "metadata": {},
   "outputs": [],
   "source": [
    "design = cpu.add_driver(NonLinearSolver('solver'))\n",
    "design.extend(cpu.design_methods[\"exchanger_surface\"])\n",
    "design.runner.set_values({\"fan.T_air\": 40., \"T_cpu\": 80., \"cpu.usage\": 100.})\n",
    "\n",
    "mc = cpu.add_driver(MonteCarlo('mc'))\n",
    "\n",
    "time_driver = mc.add_child(RungeKutta(order=3, history=True))\n",
    "time_driver.time_interval = (0, 30)\n",
    "time_driver.dt = 0.5\n",
    "# Define a simulation scenario\n",
    "time_driver.set_scenario(\n",
    "    init = {'T_cpu': 10.},\n",
    "    values = {\n",
    "        \"cpu.usage\": \"100 if time <20 else 0.\"\n",
    "    }\n",
    ")\n",
    "\n",
    "solver = time_driver.add_child(NonLinearSolver('solver', max_iter=10, factor=1.0))\n",
    "\n",
    "mc.add_recorder(DataFrameRecorder(includes=['fan.tension', 'cpu.usage', 'T_cpu']))\n",
    "mc.draws = 10\n",
    "\n",
    "# parameters for uncertainties in the data\n",
    "T_attr = cpu.fan.inwards.get_details('T_air')\n",
    "# Set the distribution around the current value\n",
    "T_attr.distribution = Normal(best=1, worst=-0.5)\n",
    "mc.add_random_variable('fan.T_air')\n",
    "mc.add_response(['fan.tension', 'cpu.usage', 'T_cpu'])"
   ]
  },
  {
   "cell_type": "code",
   "execution_count": null,
   "id": "ba159772-9069-465a-ba6e-20e717e9cd7b",
   "metadata": {},
   "outputs": [],
   "source": [
    "cpu.run_drivers()\n",
    "mc.recorder.export_data()"
   ]
  }
 ],
 "metadata": {
  "kernelspec": {
   "display_name": "Python 3 (ipykernel)",
   "language": "python",
   "name": "python3"
  },
  "language_info": {
   "codemirror_mode": {
    "name": "ipython",
    "version": 3
   },
   "file_extension": ".py",
   "mimetype": "text/x-python",
   "name": "python",
   "nbconvert_exporter": "python",
   "pygments_lexer": "ipython3",
   "version": "3.9.12"
  }
 },
 "nbformat": 4,
 "nbformat_minor": 5
}
