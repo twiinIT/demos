{
 "cells": [
  {
   "cell_type": "code",
   "execution_count": null,
   "id": "0508c99a-2dec-4244-8210-3bd096a050d1",
   "metadata": {},
   "outputs": [],
   "source": [
    "from cosapp.systems import System\n",
    "\n",
    "from cpu.systems import CPU, HeatExchanger, Fan, FanController\n",
    "\n",
    "            \n",
    "class CpuSystem(System):\n",
    "\n",
    "    def setup(self):\n",
    "\n",
    "        exchanger = self.add_child(HeatExchanger(\"exchanger\"))\n",
    "        cpu = self.add_child(CPU(\"cpu\"), pulling=[\"T\"])\n",
    "        controller = self.add_child(FanController(\"controler\"))\n",
    "        fan = self.add_child(Fan(\"fan\"))\n",
    "        \n",
    "        self.connect(cpu.inwards, exchanger.inwards, [\"T\"])\n",
    "        self.connect(fan.fl_out, exchanger.fl_in)\n",
    "        self.connect(controller.outwards, fan.inwards, [\"tension\"])\n",
    "        self.connect(cpu.inwards, controller.inwards, [\"T\"])\n",
    "        self.connect(exchanger.outwards, cpu.inwards, [\"heat_flow\"])\n",
    "        \n",
    "        self.add_design_method(\"exchanger_surface\").add_equation(\"exchanger.heat_flow == cpu.tdp\").add_unknown(\"exchanger.surface\")"
   ]
  },
  {
   "cell_type": "code",
   "execution_count": null,
   "id": "3da91fb9-e97f-4783-abc8-05f2761f6777",
   "metadata": {},
   "outputs": [],
   "source": [
    "from cosapp.drivers import RungeKutta, NonLinearSolver\n",
    "from cosapp.recorders import DataFrameRecorder\n",
    "\n",
    "cpu = CpuSystem(\"cpu\")\n",
    "\n",
    "design = cpu.add_driver(NonLinearSolver('solver', max_iter=10, factor=1.0))\n",
    "design.extend(cpu.design_methods[\"exchanger_surface\"])\n",
    "design.runner.set_values({\"fan.T_air\": 313.15, \"T\": 363.15, \"cpu.usage\": 100.})\n",
    "\n",
    "time_driver = cpu.add_driver(RungeKutta(order=3, history = True))\n",
    "solver = time_driver.add_child(NonLinearSolver('solver', max_iter=10, factor=1.0))\n",
    "\n",
    "time_driver.time_interval = (0, 30)\n",
    "time_driver.dt = 0.5\n",
    "rec = time_driver.add_recorder(DataFrameRecorder(includes=['cpu.T', 'cpu.power', 'cpu.usage', 'cpu.heat_flow', 'exchanger.heat_flow', 'exchanger.h', \n",
    "                                                'exchanger.surface', 'fan.tension', 'fan.fl_out.mass_flow', 'controler.T', 'controler.tension'], hold=False), period=0.5)\n",
    "\n",
    "# Define a simulation scenario\n",
    "time_driver.set_scenario(\n",
    "    init = {'T': cpu.fan.T_air},\n",
    ")\n",
    "\n",
    "cpu.run_drivers()"
   ]
  },
  {
   "cell_type": "code",
   "execution_count": null,
   "id": "66e189ca-e04b-4c7c-8692-88047cd65b2d",
   "metadata": {},
   "outputs": [],
   "source": [
    "data = rec.export_data()\n",
    "data"
   ]
  },
  {
   "cell_type": "code",
   "execution_count": null,
   "id": "cc6ca60b-00e8-45dc-8f9a-2d0a157422c4",
   "metadata": {},
   "outputs": [],
   "source": [
    "import plotly.graph_objs as go\n",
    "import numpy as np\n",
    "\n",
    "\n",
    "time = np.asarray(data['time'])\n",
    "go.Figure(\n",
    "    data = [\n",
    "        go.Scatter(\n",
    "            x = time,\n",
    "            y = data['cpu.T'],\n",
    "            mode = 'markers',\n",
    "            marker_color = \"blue\",\n",
    "            name = 'cpu.T',\n",
    "            yaxis = \"y1\",\n",
    "        ),\n",
    "        go.Scatter(\n",
    "            x = time,\n",
    "            y = data['fan.tension'],\n",
    "            mode = 'markers',\n",
    "            marker_color = \"red\",\n",
    "            name = 'fan.tension',\n",
    "            yaxis = \"y2\",\n",
    "        ),\n",
    "    ],\n",
    "    layout = go.Layout(\n",
    "        title = \"CPU temperature\",\n",
    "        width = 1500,\n",
    "        height = 600,\n",
    "        xaxis = {'title': 'time'},\n",
    "        yaxis = {'title': 'temperature'},\n",
    "        yaxis2 = {'title': 'tension', 'side': \"right\", \"overlaying\": \"y\"},\n",
    "        hovermode = 'x',\n",
    "    )\n",
    ")"
   ]
  },
  {
   "cell_type": "code",
   "execution_count": null,
   "id": "048fc4c7-0028-4614-ad89-c1974650566a",
   "metadata": {},
   "outputs": [],
   "source": [
    "from cosapp_lab.widgets import SysExplorer\n",
    "\n",
    "# cpu.drivers.pop(\"solver\")\n",
    "a = SysExplorer(cpu, template = \"cpu_lab.json\", anchor = \"tab-after\")"
   ]
  },
  {
   "cell_type": "code",
   "execution_count": null,
   "id": "e93f621a-1930-4e49-8548-5858c29e2ede",
   "metadata": {},
   "outputs": [],
   "source": []
  }
 ],
 "metadata": {
  "kernelspec": {
   "display_name": "Python 3",
   "language": "python",
   "name": "python3"
  },
  "language_info": {
   "codemirror_mode": {
    "name": "ipython",
    "version": 3
   },
   "file_extension": ".py",
   "mimetype": "text/x-python",
   "name": "python",
   "nbconvert_exporter": "python",
   "pygments_lexer": "ipython3",
   "version": "3.9.7"
  },
  "toc-showcode": false
 },
 "nbformat": 4,
 "nbformat_minor": 5
}
