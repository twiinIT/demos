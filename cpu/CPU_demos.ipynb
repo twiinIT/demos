{
 "cells": [
  {
   "cell_type": "markdown",
   "id": "967a015d-9a4c-4464-999d-50b3329c5dbf",
   "metadata": {},
   "source": [
    "# System description\n",
    "The system is made of 4 sub-systems:\n",
    "- a `CPU`, generating a thermal flow when running\n",
    "- a `fan` blowing fresh air on the exhanger\n",
    "- an `exchanger` to dissipate the heat flow from `CPU`\n",
    "- a `controler` to decide the power level of the `fan` from the `CPU` temperature\n",
    "\n",
    "<img src=\"images/AMD_heatsink_and_fan.jpg\" alt=\"drawing\" style=\"width:600px;\"/>\n",
    "\n",
    "# Design\n",
    "- How to easily [design a product](notebooks/steady-state_design.ipynb)\n",
    "\n",
    "# Simulation\n",
    "- Steady-state simulation\n",
    "- [Transient simulation](notebooks/transient_simulation.ipynb)\n",
    "- Generate operation data using simulation\n",
    "  - a [nominal/fully working](notebooks/generate_nominal_operation_data.ipynb) case\n",
    "  - a case [including a dysfunction](notebooks/generate_dysfunctional_operation_data.ipynb)\n",
    "\n",
    "# Operation\n",
    "- Running a case at the [same conditions](notebooks/same_operating_conditions_simulation.ipynb) as operation data\n",
    "- Data labelling, spot events using AI\n",
    "  - [generate a dataset for AI](notebooks/ai_dataset_for_event_detection.ipynb) training/learning\n",
    "  - [train](notebooks/ai_training_for_event_detection.ipynb) the AI model\n",
    "  - use it to [spot events](notebooks/spot_event_using_ai.ipynb)\n",
    "\n",
    "# Calibration\n",
    "- basics on steady-state data\n",
    "- [basics on transient data](notebooks/calibration_transient_basics.ipynb)\n",
    "- a dysfunctional case\n",
    "  - [without considering events](notebooks/calibration_broken_wo_event.ipynb)\n",
    "  - [including events](notebooks/calibration_broken_with_event.ipynb)\n",
    "\n",
    "# Anticipating the futures\n",
    "- MRO assessments\n",
    "\n",
    "# Orthogonal toolbox\n",
    "- Run a [Design of Experiments](notebooks/doe.ipynb)\n",
    "- Uncertainties assessment using [Montecarlo](notebooks/montecarlo.ipynb)\n",
    "- solver [debugging capabilities](notebooks/solver_debugging.ipynb)"
   ]
  }
 ],
 "metadata": {
  "kernelspec": {
   "display_name": "Python 3",
   "language": "python",
   "name": "python3"
  },
  "language_info": {
   "codemirror_mode": {
    "name": "ipython",
    "version": 3
   },
   "file_extension": ".py",
   "mimetype": "text/x-python",
   "name": "python",
   "nbconvert_exporter": "python",
   "pygments_lexer": "ipython3",
   "version": "3.12.7"
  }
 },
 "nbformat": 4,
 "nbformat_minor": 5
}
