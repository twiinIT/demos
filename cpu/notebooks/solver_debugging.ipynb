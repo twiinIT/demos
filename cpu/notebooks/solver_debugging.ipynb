{
 "cells": [
  {
   "cell_type": "markdown",
   "id": "9737d3ac-abb5-4c54-b255-773e57c5b8a3",
   "metadata": {},
   "source": [
    "# Solver debugging capabilities\n",
    "\n",
    "When setting up a model or a use case, it's pretty often handy to be able to introspect the solver (e.g. plot intermediate resolution steps)."
   ]
  },
  {
   "cell_type": "code",
   "execution_count": null,
   "id": "05aab7a7-ed84-478e-89e7-72feb2676074",
   "metadata": {},
   "outputs": [],
   "source": [
    "from cosapp.recorders import DataFrameRecorder\n",
    "from cosapp.utils import set_log, LogLevel\n",
    "\n",
    "from cpu.systems import CPUSystem\n",
    "from cpu.utils.solver_trace import plot_solver_trace\n",
    "\n",
    "cpu = CPUSystem(\"cpu\")\n",
    "set_log()"
   ]
  },
  {
   "cell_type": "code",
   "execution_count": null,
   "id": "1a57f20d-cb9a-4b1b-ba97-6b50d111d9ba",
   "metadata": {},
   "outputs": [],
   "source": [
    "from cosapp.drivers import NonLinearSolver\n",
    "\n",
    "design = cpu.add_driver(NonLinearSolver('solver', factor=0.1, history=True))\n",
    "design.extend(cpu.design_methods[\"exchanger_surface\"])\n",
    "design.runner.set_values({\"fan.T_air\": 40., \"T_cpu\": 80., \"cpu.usage\": 100.})\n",
    "\n",
    "rec = design.runner.add_recorder(DataFrameRecorder(includes=['T_cpu', 'cpu.power', 'cpu.usage', 'cpu.heat_flow', 'exchanger.heat_flow', 'exchanger.h', \n",
    "                                                             'exchanger.surface', 'fan.tension', 'fan.fl_out.mass_flow', 'controler.T', 'controler.tension'], hold=False))\n",
    "# run design\n",
    "cpu.run_drivers()"
   ]
  },
  {
   "cell_type": "code",
   "execution_count": null,
   "id": "cc4c24c9-6a6e-48f6-80cf-57563f87cfca",
   "metadata": {},
   "outputs": [],
   "source": [
    "rec.data"
   ]
  },
  {
   "cell_type": "code",
   "execution_count": null,
   "id": "bc074d5e-dd3d-4de3-9473-91f877a825fd",
   "metadata": {},
   "outputs": [],
   "source": [
    "plot_solver_trace(design)"
   ]
  },
  {
   "cell_type": "code",
   "execution_count": null,
   "id": "5260ed4b-dac7-497d-9d11-7f67007361f3",
   "metadata": {},
   "outputs": [],
   "source": [
    "from cosapp.systems import System\n",
    "\n",
    "\n",
    "class ParabolicSystem(System):\n",
    "\n",
    "    def setup(self):\n",
    "        self.add_inward(\"a\", 2.)\n",
    "        self.add_inward(\"x\", 1.)\n",
    "        \n",
    "        self.add_outward(\"y\")\n",
    "\n",
    "    def compute(self):\n",
    "        self.y = self.a * self.x**2\n",
    "\n",
    "\n",
    "p = ParabolicSystem(\"p\")\n",
    "\n",
    "p_design = p.add_driver(NonLinearSolver('solver', factor=1., history=True))\n",
    "p_design.add_equation(\"y == 10.\").add_unknown(\"x\")\n",
    "p.run_drivers()\n",
    "\n",
    "plot_solver_trace(p_design)"
   ]
  }
 ],
 "metadata": {
  "kernelspec": {
   "display_name": "Python 3 (ipykernel)",
   "language": "python",
   "name": "python3"
  },
  "language_info": {
   "codemirror_mode": {
    "name": "ipython",
    "version": 3
   },
   "file_extension": ".py",
   "mimetype": "text/x-python",
   "name": "python",
   "nbconvert_exporter": "python",
   "pygments_lexer": "ipython3",
   "version": "3.9.12"
  },
  "toc-showcode": false
 },
 "nbformat": 4,
 "nbformat_minor": 5
}
