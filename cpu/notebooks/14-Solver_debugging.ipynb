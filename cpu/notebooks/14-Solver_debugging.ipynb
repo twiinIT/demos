{
 "cells": [
  {
   "cell_type": "markdown",
   "id": "9737d3ac-abb5-4c54-b255-773e57c5b8a3",
   "metadata": {},
   "source": [
    "# Solver debugging capabilities\n",
    "\n",
    "When setting up a model or a use case, it's pretty often handy to be able to introspect the solver (e.g. plot intermediate resolution steps)."
   ]
  },
  {
   "cell_type": "code",
   "execution_count": 1,
   "id": "05aab7a7-ed84-478e-89e7-72feb2676074",
   "metadata": {},
   "outputs": [],
   "source": [
    "from cosapp.recorders import DataFrameRecorder\n",
    "from cosapp.utils import set_log, LogLevel\n",
    "\n",
    "from cpu.systems import CPUSystem\n",
    "from cpu.utils.plot_solver_trace import plot_solver_trace\n",
    "\n",
    "cpu = CPUSystem(\"cpu\")\n",
    "set_log(level=LogLevel.DEBUG)"
   ]
  },
  {
   "cell_type": "code",
   "execution_count": 2,
   "id": "1a57f20d-cb9a-4b1b-ba97-6b50d111d9ba",
   "metadata": {},
   "outputs": [
    {
     "name": "stdout",
     "output_type": "stream",
     "text": [
      "System <cpu - CPUSystem> is the execution master.\n",
      "Call cpu.open_loops\n",
      "Call controler.open_loops\n",
      "Call fan.open_loops\n",
      "Call exchanger.open_loops\n",
      "Call cpu.open_loops\n",
      "Start setup_run recursive calls.\n",
      "Call solver.setup_run\n",
      "Call runner.setup_run\n",
      "****************************************\n",
      "*\n",
      "* Assemble mathematical problem\n",
      "*\n",
      "****************************************\n",
      "Mathematical problem:\n",
      "Unknowns [1]\n",
      "  exchanger.surface = 0.01\n",
      "Equations [1]\n",
      "  cpu.heat_flow == cpu.power := -20.0\n",
      "Call cpu.setup_run\n",
      "Call controler.setup_run\n",
      "Call fan.setup_run\n",
      "Call exchanger.setup_run\n",
      "Call cpu.setup_run\n",
      "Exec order for cpu: ['controler', 'fan', 'exchanger', 'cpu']\n",
      "Call driver solver.run_once on cpu\n",
      " ------------------------------------------------------------\n",
      " # Starting driver 'solver' on 'cpu'\n",
      "Call solver.compute_before()\n",
      "Set unknowns initial values: [0.01]\n",
      "Call solver.compute()\n",
      "NR - Reference call\n",
      "Call fresidues with x = array([0.01])\n",
      "Call runner.run_once()\n",
      "Entering runner (on System 'cpu') - RunSingleCase - run_once\n",
      "Call runner.compute_before()\n",
      "Call runner.compute()\n",
      "Call cpu.compute_before\n",
      "Call cpu.controler.run_once()\n",
      "Call controler.compute_before\n",
      "Call cpu.fan.run_once()\n",
      "Call fan.compute_before\n",
      "Call cpu.exchanger.run_once()\n",
      "Call exchanger.compute_before\n",
      "Call cpu.cpu.run_once()\n",
      "Call cpu.compute_before\n",
      "Exiting runner (on System 'cpu') - RunSingleCase - run_once\n",
      "Residues: array([19.])\n",
      "Initial residue: 19.0\n",
      "Reuse of previous Jacobian matrix\n",
      "Iteration 0\n",
      "Perturb unknown 0\n",
      "Call fresidues with x = array([0.01000015])\n",
      "Call runner.run_once()\n",
      "Entering runner (on System 'cpu') - RunSingleCase - run_once\n",
      "Call runner.compute_before()\n",
      "Call runner.compute()\n",
      "Call cpu.compute_before\n",
      "Call cpu.controler.run_once()\n",
      "Call controler.compute_before\n",
      "Call cpu.fan.run_once()\n",
      "Call fan.compute_before\n",
      "Call cpu.exchanger.run_once()\n",
      "Call exchanger.compute_before\n",
      "Call cpu.cpu.run_once()\n",
      "Call cpu.compute_before\n",
      "Exiting runner (on System 'cpu') - RunSingleCase - run_once\n",
      "Residues: array([19.00189209])\n",
      "Jacobian matrix: full update\n",
      "Call fresidues with x = array([0.00984677])\n",
      "Call runner.run_once()\n",
      "Entering runner (on System 'cpu') - RunSingleCase - run_once\n",
      "Call runner.compute_before()\n",
      "Call runner.compute()\n",
      "Call cpu.compute_before\n",
      "Call cpu.controler.run_once()\n",
      "Call controler.compute_before\n",
      "Call cpu.fan.run_once()\n",
      "Call fan.compute_before\n",
      "Call cpu.exchanger.run_once()\n",
      "Call exchanger.compute_before\n",
      "Call cpu.cpu.run_once()\n",
      "Call cpu.compute_before\n",
      "Exiting runner (on System 'cpu') - RunSingleCase - run_once\n",
      "Residues: array([17.1])\n",
      "Residue: 17.1\n",
      "iter #1\ttol = 4.41e-13\t|R| = 17.099999999999994\tx = array([0.00984677])\n",
      "Iteration 1\n",
      "Call fresidues with x = array([0.00969508])\n",
      "Call runner.run_once()\n",
      "Entering runner (on System 'cpu') - RunSingleCase - run_once\n",
      "Call runner.compute_before()\n",
      "Call runner.compute()\n",
      "Call cpu.compute_before\n",
      "Call cpu.controler.run_once()\n",
      "Call controler.compute_before\n",
      "Call cpu.fan.run_once()\n",
      "Call fan.compute_before\n",
      "Call cpu.exchanger.run_once()\n",
      "Call exchanger.compute_before\n",
      "Call cpu.cpu.run_once()\n",
      "Call cpu.compute_before\n",
      "Exiting runner (on System 'cpu') - RunSingleCase - run_once\n",
      "Residues: array([15.219])\n",
      "Residue: 15.219\n",
      "iter #2\ttol = 4.41e-13\t|R| = 15.219000000000008\tx = array([0.00969508])\n",
      "Iteration 2\n",
      "Call fresidues with x = array([0.00954657])\n",
      "Call runner.run_once()\n",
      "Entering runner (on System 'cpu') - RunSingleCase - run_once\n",
      "Call runner.compute_before()\n",
      "Call runner.compute()\n",
      "Call cpu.compute_before\n",
      "Call cpu.controler.run_once()\n",
      "Call controler.compute_before\n",
      "Call cpu.fan.run_once()\n",
      "Call fan.compute_before\n",
      "Call cpu.exchanger.run_once()\n",
      "Call exchanger.compute_before\n",
      "Call cpu.cpu.run_once()\n",
      "Call cpu.compute_before\n",
      "Exiting runner (on System 'cpu') - RunSingleCase - run_once\n",
      "Residues: array([13.377501])\n",
      "Residue: 13.378\n",
      "iter #3\ttol = 4.41e-13\t|R| = 13.377500999999995\tx = array([0.00954657])\n",
      "Iteration 3\n",
      "Call fresidues with x = array([0.00940298])\n",
      "Call runner.run_once()\n",
      "Entering runner (on System 'cpu') - RunSingleCase - run_once\n",
      "Call runner.compute_before()\n",
      "Call runner.compute()\n",
      "Call cpu.compute_before\n",
      "Call cpu.controler.run_once()\n",
      "Call controler.compute_before\n",
      "Call cpu.fan.run_once()\n",
      "Call fan.compute_before\n",
      "Call cpu.exchanger.run_once()\n",
      "Call exchanger.compute_before\n",
      "Call cpu.cpu.run_once()\n",
      "Call cpu.compute_before\n",
      "Exiting runner (on System 'cpu') - RunSingleCase - run_once\n",
      "Residues: array([11.59695562])\n",
      "Residue: 11.597\n",
      "iter #4\ttol = 4.41e-13\t|R| = 11.596955616900019\tx = array([0.00940298])\n",
      "Iteration 4\n",
      "Call fresidues with x = array([0.00926605])\n",
      "Call runner.run_once()\n",
      "Entering runner (on System 'cpu') - RunSingleCase - run_once\n",
      "Call runner.compute_before()\n",
      "Call runner.compute()\n",
      "Call cpu.compute_before\n",
      "Call cpu.controler.run_once()\n",
      "Call controler.compute_before\n",
      "Call cpu.fan.run_once()\n",
      "Call fan.compute_before\n",
      "Call cpu.exchanger.run_once()\n",
      "Call exchanger.compute_before\n",
      "Call cpu.cpu.run_once()\n",
      "Call cpu.compute_before\n",
      "Exiting runner (on System 'cpu') - RunSingleCase - run_once\n",
      "Residues: array([9.89904535])\n",
      "Residue: 9.899\n",
      "iter #5\ttol = 4.14e-13\t|R| = 9.899045345029677\tx = array([0.00926605])\n",
      "Iteration 5\n",
      "Call fresidues with x = array([0.00913748])\n",
      "Call runner.run_once()\n",
      "Entering runner (on System 'cpu') - RunSingleCase - run_once\n",
      "Call runner.compute_before()\n",
      "Call runner.compute()\n",
      "Call cpu.compute_before\n",
      "Call cpu.controler.run_once()\n",
      "Call controler.compute_before\n",
      "Call cpu.fan.run_once()\n",
      "Call fan.compute_before\n",
      "Call cpu.exchanger.run_once()\n",
      "Call exchanger.compute_before\n",
      "Call cpu.cpu.run_once()\n",
      "Call cpu.compute_before\n",
      "Exiting runner (on System 'cpu') - RunSingleCase - run_once\n",
      "Residues: array([8.30479419])\n",
      "Residue: 8.3048\n",
      "iter #6\ttol = 4.14e-13\t|R| = 8.304794193167282\tx = array([0.00913748])\n",
      "Iteration 6\n",
      "Call fresidues with x = array([0.00901883])\n",
      "Call runner.run_once()\n",
      "Entering runner (on System 'cpu') - RunSingleCase - run_once\n",
      "Call runner.compute_before()\n",
      "Call runner.compute()\n",
      "Call cpu.compute_before\n",
      "Call cpu.controler.run_once()\n",
      "Call controler.compute_before\n",
      "Call cpu.fan.run_once()\n",
      "Call fan.compute_before\n",
      "Call cpu.exchanger.run_once()\n",
      "Call exchanger.compute_before\n",
      "Call cpu.cpu.run_once()\n",
      "Call cpu.compute_before\n",
      "Exiting runner (on System 'cpu') - RunSingleCase - run_once\n",
      "Residues: array([6.83354924])\n",
      "Residue: 6.8335\n",
      "iter #7\ttol = 4.14e-13\t|R| = 6.833549242603127\tx = array([0.00901883])\n",
      "Iteration 7\n",
      "Call fresidues with x = array([0.00891144])\n",
      "Call runner.run_once()\n",
      "Entering runner (on System 'cpu') - RunSingleCase - run_once\n",
      "Call runner.compute_before()\n",
      "Call runner.compute()\n",
      "Call cpu.compute_before\n",
      "Call cpu.controler.run_once()\n",
      "Call controler.compute_before\n",
      "Call cpu.fan.run_once()\n",
      "Call fan.compute_before\n",
      "Call cpu.exchanger.run_once()\n",
      "Call exchanger.compute_before\n",
      "Call cpu.cpu.run_once()\n",
      "Call cpu.compute_before\n",
      "Exiting runner (on System 'cpu') - RunSingleCase - run_once\n",
      "Residues: array([5.50188382])\n",
      "Residue: 5.5019\n",
      "iter #8\ttol = 4.14e-13\t|R| = 5.501883816327862\tx = array([0.00891144])\n",
      "Iteration 8\n",
      "Call fresidues with x = array([0.00881633])\n",
      "Call runner.run_once()\n",
      "Entering runner (on System 'cpu') - RunSingleCase - run_once\n",
      "Call runner.compute_before()\n",
      "Call runner.compute()\n",
      "Call cpu.compute_before\n",
      "Call cpu.controler.run_once()\n",
      "Call controler.compute_before\n",
      "Call cpu.fan.run_once()\n",
      "Call fan.compute_before\n",
      "Call cpu.exchanger.run_once()\n",
      "Call exchanger.compute_before\n",
      "Call cpu.cpu.run_once()\n",
      "Call cpu.compute_before\n",
      "Exiting runner (on System 'cpu') - RunSingleCase - run_once\n",
      "Residues: array([4.32250616])\n",
      "Residue: 4.3225\n",
      "iter #9\ttol = 3.93e-13\t|R| = 4.322506158067796\tx = array([0.00881633])\n",
      "Iteration 9\n",
      "Call fresidues with x = array([0.00873414])\n",
      "Call runner.run_once()\n",
      "Entering runner (on System 'cpu') - RunSingleCase - run_once\n",
      "Call runner.compute_before()\n",
      "Call runner.compute()\n",
      "Call cpu.compute_before\n",
      "Call cpu.controler.run_once()\n",
      "Call controler.compute_before\n",
      "Call cpu.fan.run_once()\n",
      "Call fan.compute_before\n",
      "Call cpu.exchanger.run_once()\n",
      "Call exchanger.compute_before\n",
      "Call cpu.cpu.run_once()\n",
      "Call cpu.compute_before\n",
      "Exiting runner (on System 'cpu') - RunSingleCase - run_once\n",
      "Residues: array([3.30328182])\n",
      "Residue: 3.3033\n",
      "iter #10\ttol = 3.93e-13\t|R| = 3.303281816592886\tx = array([0.00873414])\n",
      "Iteration 10\n",
      "Call fresidues with x = array([0.00866504])\n",
      "Call runner.run_once()\n",
      "Entering runner (on System 'cpu') - RunSingleCase - run_once\n",
      "Call runner.compute_before()\n",
      "Call runner.compute()\n",
      "Call cpu.compute_before\n",
      "Call cpu.controler.run_once()\n",
      "Call controler.compute_before\n",
      "Call cpu.fan.run_once()\n",
      "Call fan.compute_before\n",
      "Call cpu.exchanger.run_once()\n",
      "Call exchanger.compute_before\n",
      "Call cpu.cpu.run_once()\n",
      "Call cpu.compute_before\n",
      "Exiting runner (on System 'cpu') - RunSingleCase - run_once\n",
      "Residues: array([2.44649559])\n",
      "Residue: 2.4465\n",
      "iter #11\ttol = 3.93e-13\t|R| = 2.4464955860555477\tx = array([0.00866504])\n",
      "Iteration 11\n",
      "Call fresidues with x = array([0.00860875])\n",
      "Call runner.run_once()\n",
      "Entering runner (on System 'cpu') - RunSingleCase - run_once\n",
      "Call runner.compute_before()\n",
      "Call runner.compute()\n",
      "Call cpu.compute_before\n",
      "Call cpu.controler.run_once()\n",
      "Call controler.compute_before\n",
      "Call cpu.fan.run_once()\n",
      "Call fan.compute_before\n",
      "Call cpu.exchanger.run_once()\n",
      "Call exchanger.compute_before\n",
      "Call cpu.cpu.run_once()\n",
      "Call cpu.compute_before\n",
      "Exiting runner (on System 'cpu') - RunSingleCase - run_once\n",
      "Residues: array([1.74848184])\n",
      "Residue: 1.7485\n",
      "iter #12\ttol = 3.93e-13\t|R| = 1.7484818432556182\tx = array([0.00860875])\n",
      "Iteration 12\n",
      "Call fresidues with x = array([0.00856449])\n",
      "Call runner.run_once()\n",
      "Entering runner (on System 'cpu') - RunSingleCase - run_once\n",
      "Call runner.compute_before()\n",
      "Call runner.compute()\n",
      "Call cpu.compute_before\n",
      "Call cpu.controler.run_once()\n",
      "Call controler.compute_before\n",
      "Call cpu.fan.run_once()\n",
      "Call fan.compute_before\n",
      "Call cpu.exchanger.run_once()\n",
      "Call exchanger.compute_before\n",
      "Call cpu.cpu.run_once()\n",
      "Call cpu.compute_before\n",
      "Exiting runner (on System 'cpu') - RunSingleCase - run_once\n",
      "Residues: array([1.19973334])\n",
      "Residue: 1.1997\n",
      "iter #13\ttol = 3.79e-13\t|R| = 1.1997333399501144\tx = array([0.00856449])\n",
      "Iteration 13\n",
      "Call fresidues with x = array([0.00853109])\n",
      "Call runner.run_once()\n",
      "Entering runner (on System 'cpu') - RunSingleCase - run_once\n",
      "Call runner.compute_before()\n",
      "Call runner.compute()\n",
      "Call cpu.compute_before\n",
      "Call cpu.controler.run_once()\n",
      "Call controler.compute_before\n",
      "Call cpu.fan.run_once()\n",
      "Call fan.compute_before\n",
      "Call cpu.exchanger.run_once()\n",
      "Call exchanger.compute_before\n",
      "Call cpu.cpu.run_once()\n",
      "Call cpu.compute_before\n",
      "Exiting runner (on System 'cpu') - RunSingleCase - run_once\n",
      "Residues: array([0.78555285])\n",
      "Residue: 0.78555\n",
      "iter #14\ttol = 3.79e-13\t|R| = 0.7855528525043809\tx = array([0.00853109])\n",
      "Iteration 14\n",
      "Call fresidues with x = array([0.00850704])\n",
      "Call runner.run_once()\n",
      "Entering runner (on System 'cpu') - RunSingleCase - run_once\n",
      "Call runner.compute_before()\n",
      "Call runner.compute()\n",
      "Call cpu.compute_before\n",
      "Call cpu.controler.run_once()\n",
      "Call controler.compute_before\n",
      "Call cpu.fan.run_once()\n",
      "Call fan.compute_before\n",
      "Call cpu.exchanger.run_once()\n",
      "Call exchanger.compute_before\n",
      "Call cpu.cpu.run_once()\n",
      "Call cpu.compute_before\n",
      "Exiting runner (on System 'cpu') - RunSingleCase - run_once\n",
      "Residues: array([0.48723929])\n",
      "Residue: 0.48724\n",
      "iter #15\ttol = 3.79e-13\t|R| = 0.4872392874950009\tx = array([0.00850704])\n",
      "Iteration 15\n",
      "Call fresidues with x = array([0.00849062])\n",
      "Call runner.run_once()\n",
      "Entering runner (on System 'cpu') - RunSingleCase - run_once\n",
      "Call runner.compute_before()\n",
      "Call runner.compute()\n",
      "Call cpu.compute_before\n",
      "Call cpu.controler.run_once()\n",
      "Call controler.compute_before\n",
      "Call cpu.fan.run_once()\n",
      "Call fan.compute_before\n",
      "Call cpu.exchanger.run_once()\n",
      "Call exchanger.compute_before\n",
      "Call cpu.cpu.run_once()\n",
      "Call cpu.compute_before\n",
      "Exiting runner (on System 'cpu') - RunSingleCase - run_once\n",
      "Residues: array([0.28370735])\n",
      "Residue: 0.28371\n",
      "iter #16\ttol = 3.79e-13\t|R| = 0.28370734531941366\tx = array([0.00849062])\n",
      "Iteration 16\n",
      "Call fresidues with x = array([0.00848011])\n",
      "Call runner.run_once()\n",
      "Entering runner (on System 'cpu') - RunSingleCase - run_once\n",
      "Call runner.compute_before()\n",
      "Call runner.compute()\n",
      "Call cpu.compute_before\n",
      "Call cpu.controler.run_once()\n",
      "Call controler.compute_before\n",
      "Call cpu.fan.run_once()\n",
      "Call fan.compute_before\n",
      "Call cpu.exchanger.run_once()\n",
      "Call exchanger.compute_before\n",
      "Call cpu.cpu.run_once()\n",
      "Call cpu.compute_before\n",
      "Exiting runner (on System 'cpu') - RunSingleCase - run_once\n",
      "Residues: array([0.15334459])\n",
      "Residue: 0.15334\n",
      "iter #17\ttol = 3.74e-13\t|R| = 0.1533445865420191\tx = array([0.00848011])\n",
      "Iteration 17\n",
      "Call fresidues with x = array([0.00847386])\n",
      "Call runner.run_once()\n",
      "Entering runner (on System 'cpu') - RunSingleCase - run_once\n",
      "Call runner.compute_before()\n",
      "Call runner.compute()\n",
      "Call cpu.compute_before\n",
      "Call cpu.controler.run_once()\n",
      "Call controler.compute_before\n",
      "Call cpu.fan.run_once()\n",
      "Call fan.compute_before\n",
      "Call cpu.exchanger.run_once()\n",
      "Call exchanger.compute_before\n",
      "Call cpu.cpu.run_once()\n",
      "Call cpu.compute_before\n",
      "Exiting runner (on System 'cpu') - RunSingleCase - run_once\n",
      "Residues: array([0.07583702])\n",
      "Residue: 0.075837\n",
      "iter #18\ttol = 3.74e-13\t|R| = 0.0758370209379251\tx = array([0.00847386])\n",
      "Iteration 18\n",
      "Call fresidues with x = array([0.00847046])\n",
      "Call runner.run_once()\n",
      "Entering runner (on System 'cpu') - RunSingleCase - run_once\n",
      "Call runner.compute_before()\n",
      "Call runner.compute()\n",
      "Call cpu.compute_before\n",
      "Call cpu.controler.run_once()\n",
      "Call controler.compute_before\n",
      "Call cpu.fan.run_once()\n",
      "Call fan.compute_before\n",
      "Call cpu.exchanger.run_once()\n",
      "Call exchanger.compute_before\n",
      "Call cpu.cpu.run_once()\n",
      "Call cpu.compute_before\n",
      "Exiting runner (on System 'cpu') - RunSingleCase - run_once\n",
      "Residues: array([0.03367226])\n",
      "Residue: 0.033672\n",
      "iter #19\ttol = 3.74e-13\t|R| = 0.0336722643662597\tx = array([0.00847046])\n",
      "Iteration 19\n",
      "Call fresidues with x = array([0.0084688])\n",
      "Call runner.run_once()\n",
      "Entering runner (on System 'cpu') - RunSingleCase - run_once\n",
      "Call runner.compute_before()\n",
      "Call runner.compute()\n",
      "Call cpu.compute_before\n",
      "Call cpu.controler.run_once()\n",
      "Call controler.compute_before\n",
      "Call cpu.fan.run_once()\n",
      "Call fan.compute_before\n",
      "Call cpu.exchanger.run_once()\n",
      "Call exchanger.compute_before\n",
      "Call cpu.cpu.run_once()\n",
      "Call cpu.compute_before\n",
      "Exiting runner (on System 'cpu') - RunSingleCase - run_once\n",
      "Residues: array([0.01307861])\n",
      "Residue: 0.013079\n",
      "iter #20\ttol = 3.74e-13\t|R| = 0.013078613746472456\tx = array([0.0084688])\n",
      "Iteration 20\n",
      "Call fresidues with x = array([0.00846809])\n",
      "Call runner.run_once()\n",
      "Entering runner (on System 'cpu') - RunSingleCase - run_once\n",
      "Call runner.compute_before()\n",
      "Call runner.compute()\n",
      "Call cpu.compute_before\n",
      "Call cpu.controler.run_once()\n",
      "Call controler.compute_before\n",
      "Call cpu.fan.run_once()\n",
      "Call fan.compute_before\n",
      "Call cpu.exchanger.run_once()\n",
      "Call exchanger.compute_before\n",
      "Call cpu.cpu.run_once()\n",
      "Call cpu.compute_before\n",
      "Exiting runner (on System 'cpu') - RunSingleCase - run_once\n",
      "Residues: array([0.00427998])\n",
      "Residue: 0.00428\n",
      "iter #21\ttol = 3.73e-13\t|R| = 0.004279976414807152\tx = array([0.00846809])\n",
      "Iteration 21\n",
      "Call fresidues with x = array([0.00846783])\n",
      "Call runner.run_once()\n",
      "Entering runner (on System 'cpu') - RunSingleCase - run_once\n",
      "Call runner.compute_before()\n",
      "Call runner.compute()\n",
      "Call cpu.compute_before\n",
      "Call cpu.controler.run_once()\n",
      "Call controler.compute_before\n",
      "Call cpu.fan.run_once()\n",
      "Call fan.compute_before\n",
      "Call cpu.exchanger.run_once()\n",
      "Call exchanger.compute_before\n",
      "Call cpu.cpu.run_once()\n",
      "Call cpu.compute_before\n",
      "Exiting runner (on System 'cpu') - RunSingleCase - run_once\n",
      "Residues: array([0.00111269])\n",
      "Residue: 0.0011127\n",
      "iter #22\ttol = 3.73e-13\t|R| = 0.0011126868922843869\tx = array([0.00846783])\n",
      "Iteration 22\n",
      "Call fresidues with x = array([0.00846776])\n",
      "Call runner.run_once()\n",
      "Entering runner (on System 'cpu') - RunSingleCase - run_once\n",
      "Call runner.compute_before()\n",
      "Call runner.compute()\n",
      "Call cpu.compute_before\n",
      "Call cpu.controler.run_once()\n",
      "Call controler.compute_before\n",
      "Call cpu.fan.run_once()\n",
      "Call fan.compute_before\n",
      "Call cpu.exchanger.run_once()\n",
      "Call exchanger.compute_before\n",
      "Call cpu.cpu.run_once()\n",
      "Call cpu.compute_before\n",
      "Exiting runner (on System 'cpu') - RunSingleCase - run_once\n",
      "Residues: array([0.00020693])\n",
      "Residue: 0.00020693\n",
      "iter #23\ttol = 3.73e-13\t|R| = 0.00020692916989162313\tx = array([0.00846776])\n",
      "Iteration 23\n",
      "Call fresidues with x = array([0.00846774])\n",
      "Call runner.run_once()\n",
      "Entering runner (on System 'cpu') - RunSingleCase - run_once\n",
      "Call runner.compute_before()\n",
      "Call runner.compute()\n",
      "Call cpu.compute_before\n",
      "Call cpu.controler.run_once()\n",
      "Call controler.compute_before\n",
      "Call cpu.fan.run_once()\n",
      "Call fan.compute_before\n",
      "Call cpu.exchanger.run_once()\n",
      "Call exchanger.compute_before\n",
      "Call cpu.cpu.run_once()\n",
      "Call cpu.compute_before\n",
      "Exiting runner (on System 'cpu') - RunSingleCase - run_once\n",
      "Residues: array([2.1638533e-05])\n",
      "Residue: 2.1639e-05\n",
      "iter #24\ttol = 3.73e-13\t|R| = 2.1638532956558265e-05\tx = array([0.00846774])\n",
      "Iteration 24\n",
      "Call fresidues with x = array([0.00846774])\n",
      "Call runner.run_once()\n",
      "Entering runner (on System 'cpu') - RunSingleCase - run_once\n",
      "Call runner.compute_before()\n",
      "Call runner.compute()\n",
      "Call cpu.compute_before\n",
      "Call cpu.controler.run_once()\n",
      "Call controler.compute_before\n",
      "Call cpu.fan.run_once()\n",
      "Call fan.compute_before\n",
      "Call cpu.exchanger.run_once()\n",
      "Call exchanger.compute_before\n",
      "Call cpu.cpu.run_once()\n",
      "Call cpu.compute_before\n",
      "Exiting runner (on System 'cpu') - RunSingleCase - run_once\n",
      "Residues: array([3.25156449e-07])\n",
      "Residue: 3.2516e-07\n",
      "iter #25\ttol = 3.73e-13\t|R| = 3.251564493211845e-07\tx = array([0.00846774])\n",
      "Iteration 25\n",
      "Call fresidues with x = array([0.00846774])\n",
      "Call runner.run_once()\n",
      "Entering runner (on System 'cpu') - RunSingleCase - run_once\n",
      "Call runner.compute_before()\n",
      "Call runner.compute()\n",
      "Call cpu.compute_before\n",
      "Call cpu.controler.run_once()\n",
      "Call controler.compute_before\n",
      "Call cpu.fan.run_once()\n",
      "Call fan.compute_before\n",
      "Call cpu.exchanger.run_once()\n",
      "Call exchanger.compute_before\n",
      "Call cpu.cpu.run_once()\n",
      "Call cpu.compute_before\n",
      "Exiting runner (on System 'cpu') - RunSingleCase - run_once\n",
      "Residues: array([-1.42108547e-14])\n",
      "Residue: 1.4211e-14\n",
      "iter #26\ttol = 3.73e-13\t|R| = 1.4210854715202004e-14\tx = array([0.00846774])\n",
      "solver : solver   -> Converged (1.4211e-14) in 26 iterations, 1 complete, 0 partial Jacobian and 25 Broyden evaluation(s) (tol = 3.7e-13)\n",
      " # Ending driver 'solver' on 'cpu' in 0.218 seconds\n",
      "\n",
      "Start clean_run recursive calls.\n",
      "Call cpu.clean_run\n",
      "Call controler.clean_run\n",
      "Compute calls for cpu.controler: 28\n",
      "Call fan.clean_run\n",
      "Compute calls for cpu.fan: 28\n",
      "Call exchanger.clean_run\n",
      "Compute calls for cpu.exchanger: 28\n",
      "Call cpu.clean_run\n",
      "Compute calls for cpu.cpu: 28\n",
      "Compute calls for cpu: 28\n",
      "Call solver.clean_run\n",
      "Call runner.clean_run\n",
      "Compute calls for solver.runner: 28\n",
      "Compute calls for solver: 1\n",
      "Call cpu.close_loops\n"
     ]
    }
   ],
   "source": [
    "from cosapp.drivers import NonLinearSolver, RunSingleCase\n",
    "\n",
    "design = cpu.add_driver(NonLinearSolver(\"solver\", factor=0.1))\n",
    "runner = design.add_driver(RunSingleCase(\"runner\"))\n",
    "design.extend(cpu.design_methods[\"exchanger_surface\"])\n",
    "runner.set_values({\"fan.T_air\": 40.0, \"T_cpu\": 80.0, \"cpu.usage\": 100.0})\n",
    "\n",
    "rec = runner.add_recorder(\n",
    "    DataFrameRecorder(\n",
    "        includes=[\n",
    "            \"T_cpu\",\n",
    "            \"cpu.power\",\n",
    "            \"cpu.usage\",\n",
    "            \"cpu.heat_flow\",\n",
    "            \"exchanger.heat_flow\",\n",
    "            \"exchanger.h\",\n",
    "            \"exchanger.surface\",\n",
    "            \"fan.tension\",\n",
    "            \"fan.fl_out.mass_flow\",\n",
    "            \"controler.T\",\n",
    "            \"controler.tension\",\n",
    "        ],\n",
    "        hold=False,\n",
    "    )\n",
    ")\n",
    "# run design\n",
    "cpu.run_drivers()"
   ]
  },
  {
   "cell_type": "code",
   "execution_count": 3,
   "id": "cc4c24c9-6a6e-48f6-80cf-57563f87cfca",
   "metadata": {},
   "outputs": [
    {
     "data": {
      "text/html": [
       "<div>\n",
       "<style scoped>\n",
       "    .dataframe tbody tr th:only-of-type {\n",
       "        vertical-align: middle;\n",
       "    }\n",
       "\n",
       "    .dataframe tbody tr th {\n",
       "        vertical-align: top;\n",
       "    }\n",
       "\n",
       "    .dataframe thead th {\n",
       "        text-align: right;\n",
       "    }\n",
       "</style>\n",
       "<table border=\"1\" class=\"dataframe\">\n",
       "  <thead>\n",
       "    <tr style=\"text-align: right;\">\n",
       "      <th></th>\n",
       "      <th>Section</th>\n",
       "      <th>Status</th>\n",
       "      <th>Error code</th>\n",
       "      <th>Reference</th>\n",
       "      <th>T_cpu</th>\n",
       "      <th>controler.tension</th>\n",
       "      <th>cpu.heat_flow</th>\n",
       "      <th>cpu.power</th>\n",
       "      <th>cpu.usage</th>\n",
       "      <th>exchanger.h</th>\n",
       "      <th>exchanger.heat_flow</th>\n",
       "      <th>exchanger.surface</th>\n",
       "      <th>fan.fl_out.mass_flow</th>\n",
       "      <th>fan.tension</th>\n",
       "    </tr>\n",
       "  </thead>\n",
       "  <tbody>\n",
       "    <tr>\n",
       "      <th>0</th>\n",
       "      <td></td>\n",
       "      <td></td>\n",
       "      <td>0</td>\n",
       "      <td>runner</td>\n",
       "      <td>80.0</td>\n",
       "      <td>12.0</td>\n",
       "      <td>105.0</td>\n",
       "      <td>105.0</td>\n",
       "      <td>100.0</td>\n",
       "      <td>310.0</td>\n",
       "      <td>105.0</td>\n",
       "      <td>0.008468</td>\n",
       "      <td>1.0</td>\n",
       "      <td>12.0</td>\n",
       "    </tr>\n",
       "  </tbody>\n",
       "</table>\n",
       "</div>"
      ],
      "text/plain": [
       "  Section Status Error code Reference  T_cpu  controler.tension  \\\n",
       "0                         0    runner   80.0               12.0   \n",
       "\n",
       "   cpu.heat_flow  cpu.power  cpu.usage  exchanger.h  exchanger.heat_flow  \\\n",
       "0          105.0      105.0      100.0        310.0                105.0   \n",
       "\n",
       "   exchanger.surface  fan.fl_out.mass_flow  fan.tension  \n",
       "0           0.008468                   1.0         12.0  "
      ]
     },
     "execution_count": 3,
     "metadata": {},
     "output_type": "execute_result"
    }
   ],
   "source": [
    "rec.data"
   ]
  },
  {
   "cell_type": "code",
   "execution_count": 4,
   "id": "bc074d5e-dd3d-4de3-9473-91f877a825fd",
   "metadata": {},
   "outputs": [
    {
     "data": {
      "application/vnd.plotly.v1+json": {
       "config": {
        "plotlyServerURL": "https://plot.ly"
       },
       "data": [
        {
         "mode": "markers",
         "name": "exchanger.surface",
         "type": "scatter",
         "x": [
          0,
          1,
          2,
          3,
          4,
          5,
          6,
          7,
          8,
          9,
          10,
          11,
          12,
          13,
          14,
          15,
          16,
          17,
          18,
          19,
          20,
          21,
          22,
          23,
          24,
          25,
          26
         ],
         "y": [
          0.01,
          0.009846774193548386,
          0.00969508064516129,
          0.009546572661290323,
          0.009402980291685485,
          0.009266052043954006,
          0.00913748340267478,
          0.009018834616338962,
          0.008911442243252247,
          0.008816331141779661,
          0.008734135630370394,
          0.008665039966617383,
          0.00860874853574642,
          0.008564494624189525,
          0.00853109297197616,
          0.008507035426410887,
          0.008490621560106404,
          0.00848010843439855,
          0.008473857824269187,
          0.008470457440674699,
          0.008468796662398909,
          0.008468087094872161,
          0.008467831668297765,
          0.008467758623320153,
          0.008467743680526852,
          0.008467741961706165,
          0.00846774193548387
         ]
        },
        {
         "mode": "markers",
         "name": "cpu.heat_flow == cpu.power",
         "type": "scatter",
         "x": [
          0,
          1,
          2,
          3,
          4,
          5,
          6,
          7,
          8,
          9,
          10,
          11,
          12,
          13,
          14,
          15,
          16,
          17,
          18,
          19,
          20,
          21,
          22,
          23,
          24,
          25,
          26
         ],
         "y": [
          19,
          17.099999999999994,
          15.219000000000008,
          13.377500999999995,
          11.596955616900019,
          9.899045345029677,
          8.304794193167282,
          6.833549242603127,
          5.501883816327862,
          4.322506158067796,
          3.303281816592886,
          2.4464955860555477,
          1.7484818432556182,
          1.1997333399501144,
          0.7855528525043809,
          0.4872392874950009,
          0.28370734531941366,
          0.1533445865420191,
          0.0758370209379251,
          0.0336722643662597,
          0.013078613746472456,
          0.004279976414807152,
          0.0011126868922843869,
          0.00020692916989162313,
          0.000021638532956558265,
          3.251564493211845e-7,
          -1.4210854715202004e-14
         ]
        }
       ],
       "layout": {
        "height": 800,
        "hovermode": "x",
        "plot_bgcolor": "white",
        "template": {
         "data": {
          "bar": [
           {
            "error_x": {
             "color": "#2a3f5f"
            },
            "error_y": {
             "color": "#2a3f5f"
            },
            "marker": {
             "line": {
              "color": "#E5ECF6",
              "width": 0.5
             },
             "pattern": {
              "fillmode": "overlay",
              "size": 10,
              "solidity": 0.2
             }
            },
            "type": "bar"
           }
          ],
          "barpolar": [
           {
            "marker": {
             "line": {
              "color": "#E5ECF6",
              "width": 0.5
             },
             "pattern": {
              "fillmode": "overlay",
              "size": 10,
              "solidity": 0.2
             }
            },
            "type": "barpolar"
           }
          ],
          "carpet": [
           {
            "aaxis": {
             "endlinecolor": "#2a3f5f",
             "gridcolor": "white",
             "linecolor": "white",
             "minorgridcolor": "white",
             "startlinecolor": "#2a3f5f"
            },
            "baxis": {
             "endlinecolor": "#2a3f5f",
             "gridcolor": "white",
             "linecolor": "white",
             "minorgridcolor": "white",
             "startlinecolor": "#2a3f5f"
            },
            "type": "carpet"
           }
          ],
          "choropleth": [
           {
            "colorbar": {
             "outlinewidth": 0,
             "ticks": ""
            },
            "type": "choropleth"
           }
          ],
          "contour": [
           {
            "colorbar": {
             "outlinewidth": 0,
             "ticks": ""
            },
            "colorscale": [
             [
              0,
              "#0d0887"
             ],
             [
              0.1111111111111111,
              "#46039f"
             ],
             [
              0.2222222222222222,
              "#7201a8"
             ],
             [
              0.3333333333333333,
              "#9c179e"
             ],
             [
              0.4444444444444444,
              "#bd3786"
             ],
             [
              0.5555555555555556,
              "#d8576b"
             ],
             [
              0.6666666666666666,
              "#ed7953"
             ],
             [
              0.7777777777777778,
              "#fb9f3a"
             ],
             [
              0.8888888888888888,
              "#fdca26"
             ],
             [
              1,
              "#f0f921"
             ]
            ],
            "type": "contour"
           }
          ],
          "contourcarpet": [
           {
            "colorbar": {
             "outlinewidth": 0,
             "ticks": ""
            },
            "type": "contourcarpet"
           }
          ],
          "heatmap": [
           {
            "colorbar": {
             "outlinewidth": 0,
             "ticks": ""
            },
            "colorscale": [
             [
              0,
              "#0d0887"
             ],
             [
              0.1111111111111111,
              "#46039f"
             ],
             [
              0.2222222222222222,
              "#7201a8"
             ],
             [
              0.3333333333333333,
              "#9c179e"
             ],
             [
              0.4444444444444444,
              "#bd3786"
             ],
             [
              0.5555555555555556,
              "#d8576b"
             ],
             [
              0.6666666666666666,
              "#ed7953"
             ],
             [
              0.7777777777777778,
              "#fb9f3a"
             ],
             [
              0.8888888888888888,
              "#fdca26"
             ],
             [
              1,
              "#f0f921"
             ]
            ],
            "type": "heatmap"
           }
          ],
          "heatmapgl": [
           {
            "colorbar": {
             "outlinewidth": 0,
             "ticks": ""
            },
            "colorscale": [
             [
              0,
              "#0d0887"
             ],
             [
              0.1111111111111111,
              "#46039f"
             ],
             [
              0.2222222222222222,
              "#7201a8"
             ],
             [
              0.3333333333333333,
              "#9c179e"
             ],
             [
              0.4444444444444444,
              "#bd3786"
             ],
             [
              0.5555555555555556,
              "#d8576b"
             ],
             [
              0.6666666666666666,
              "#ed7953"
             ],
             [
              0.7777777777777778,
              "#fb9f3a"
             ],
             [
              0.8888888888888888,
              "#fdca26"
             ],
             [
              1,
              "#f0f921"
             ]
            ],
            "type": "heatmapgl"
           }
          ],
          "histogram": [
           {
            "marker": {
             "pattern": {
              "fillmode": "overlay",
              "size": 10,
              "solidity": 0.2
             }
            },
            "type": "histogram"
           }
          ],
          "histogram2d": [
           {
            "colorbar": {
             "outlinewidth": 0,
             "ticks": ""
            },
            "colorscale": [
             [
              0,
              "#0d0887"
             ],
             [
              0.1111111111111111,
              "#46039f"
             ],
             [
              0.2222222222222222,
              "#7201a8"
             ],
             [
              0.3333333333333333,
              "#9c179e"
             ],
             [
              0.4444444444444444,
              "#bd3786"
             ],
             [
              0.5555555555555556,
              "#d8576b"
             ],
             [
              0.6666666666666666,
              "#ed7953"
             ],
             [
              0.7777777777777778,
              "#fb9f3a"
             ],
             [
              0.8888888888888888,
              "#fdca26"
             ],
             [
              1,
              "#f0f921"
             ]
            ],
            "type": "histogram2d"
           }
          ],
          "histogram2dcontour": [
           {
            "colorbar": {
             "outlinewidth": 0,
             "ticks": ""
            },
            "colorscale": [
             [
              0,
              "#0d0887"
             ],
             [
              0.1111111111111111,
              "#46039f"
             ],
             [
              0.2222222222222222,
              "#7201a8"
             ],
             [
              0.3333333333333333,
              "#9c179e"
             ],
             [
              0.4444444444444444,
              "#bd3786"
             ],
             [
              0.5555555555555556,
              "#d8576b"
             ],
             [
              0.6666666666666666,
              "#ed7953"
             ],
             [
              0.7777777777777778,
              "#fb9f3a"
             ],
             [
              0.8888888888888888,
              "#fdca26"
             ],
             [
              1,
              "#f0f921"
             ]
            ],
            "type": "histogram2dcontour"
           }
          ],
          "mesh3d": [
           {
            "colorbar": {
             "outlinewidth": 0,
             "ticks": ""
            },
            "type": "mesh3d"
           }
          ],
          "parcoords": [
           {
            "line": {
             "colorbar": {
              "outlinewidth": 0,
              "ticks": ""
             }
            },
            "type": "parcoords"
           }
          ],
          "pie": [
           {
            "automargin": true,
            "type": "pie"
           }
          ],
          "scatter": [
           {
            "fillpattern": {
             "fillmode": "overlay",
             "size": 10,
             "solidity": 0.2
            },
            "type": "scatter"
           }
          ],
          "scatter3d": [
           {
            "line": {
             "colorbar": {
              "outlinewidth": 0,
              "ticks": ""
             }
            },
            "marker": {
             "colorbar": {
              "outlinewidth": 0,
              "ticks": ""
             }
            },
            "type": "scatter3d"
           }
          ],
          "scattercarpet": [
           {
            "marker": {
             "colorbar": {
              "outlinewidth": 0,
              "ticks": ""
             }
            },
            "type": "scattercarpet"
           }
          ],
          "scattergeo": [
           {
            "marker": {
             "colorbar": {
              "outlinewidth": 0,
              "ticks": ""
             }
            },
            "type": "scattergeo"
           }
          ],
          "scattergl": [
           {
            "marker": {
             "colorbar": {
              "outlinewidth": 0,
              "ticks": ""
             }
            },
            "type": "scattergl"
           }
          ],
          "scattermapbox": [
           {
            "marker": {
             "colorbar": {
              "outlinewidth": 0,
              "ticks": ""
             }
            },
            "type": "scattermapbox"
           }
          ],
          "scatterpolar": [
           {
            "marker": {
             "colorbar": {
              "outlinewidth": 0,
              "ticks": ""
             }
            },
            "type": "scatterpolar"
           }
          ],
          "scatterpolargl": [
           {
            "marker": {
             "colorbar": {
              "outlinewidth": 0,
              "ticks": ""
             }
            },
            "type": "scatterpolargl"
           }
          ],
          "scatterternary": [
           {
            "marker": {
             "colorbar": {
              "outlinewidth": 0,
              "ticks": ""
             }
            },
            "type": "scatterternary"
           }
          ],
          "surface": [
           {
            "colorbar": {
             "outlinewidth": 0,
             "ticks": ""
            },
            "colorscale": [
             [
              0,
              "#0d0887"
             ],
             [
              0.1111111111111111,
              "#46039f"
             ],
             [
              0.2222222222222222,
              "#7201a8"
             ],
             [
              0.3333333333333333,
              "#9c179e"
             ],
             [
              0.4444444444444444,
              "#bd3786"
             ],
             [
              0.5555555555555556,
              "#d8576b"
             ],
             [
              0.6666666666666666,
              "#ed7953"
             ],
             [
              0.7777777777777778,
              "#fb9f3a"
             ],
             [
              0.8888888888888888,
              "#fdca26"
             ],
             [
              1,
              "#f0f921"
             ]
            ],
            "type": "surface"
           }
          ],
          "table": [
           {
            "cells": {
             "fill": {
              "color": "#EBF0F8"
             },
             "line": {
              "color": "white"
             }
            },
            "header": {
             "fill": {
              "color": "#C8D4E3"
             },
             "line": {
              "color": "white"
             }
            },
            "type": "table"
           }
          ]
         },
         "layout": {
          "annotationdefaults": {
           "arrowcolor": "#2a3f5f",
           "arrowhead": 0,
           "arrowwidth": 1
          },
          "autotypenumbers": "strict",
          "coloraxis": {
           "colorbar": {
            "outlinewidth": 0,
            "ticks": ""
           }
          },
          "colorscale": {
           "diverging": [
            [
             0,
             "#8e0152"
            ],
            [
             0.1,
             "#c51b7d"
            ],
            [
             0.2,
             "#de77ae"
            ],
            [
             0.3,
             "#f1b6da"
            ],
            [
             0.4,
             "#fde0ef"
            ],
            [
             0.5,
             "#f7f7f7"
            ],
            [
             0.6,
             "#e6f5d0"
            ],
            [
             0.7,
             "#b8e186"
            ],
            [
             0.8,
             "#7fbc41"
            ],
            [
             0.9,
             "#4d9221"
            ],
            [
             1,
             "#276419"
            ]
           ],
           "sequential": [
            [
             0,
             "#0d0887"
            ],
            [
             0.1111111111111111,
             "#46039f"
            ],
            [
             0.2222222222222222,
             "#7201a8"
            ],
            [
             0.3333333333333333,
             "#9c179e"
            ],
            [
             0.4444444444444444,
             "#bd3786"
            ],
            [
             0.5555555555555556,
             "#d8576b"
            ],
            [
             0.6666666666666666,
             "#ed7953"
            ],
            [
             0.7777777777777778,
             "#fb9f3a"
            ],
            [
             0.8888888888888888,
             "#fdca26"
            ],
            [
             1,
             "#f0f921"
            ]
           ],
           "sequentialminus": [
            [
             0,
             "#0d0887"
            ],
            [
             0.1111111111111111,
             "#46039f"
            ],
            [
             0.2222222222222222,
             "#7201a8"
            ],
            [
             0.3333333333333333,
             "#9c179e"
            ],
            [
             0.4444444444444444,
             "#bd3786"
            ],
            [
             0.5555555555555556,
             "#d8576b"
            ],
            [
             0.6666666666666666,
             "#ed7953"
            ],
            [
             0.7777777777777778,
             "#fb9f3a"
            ],
            [
             0.8888888888888888,
             "#fdca26"
            ],
            [
             1,
             "#f0f921"
            ]
           ]
          },
          "colorway": [
           "#636efa",
           "#EF553B",
           "#00cc96",
           "#ab63fa",
           "#FFA15A",
           "#19d3f3",
           "#FF6692",
           "#B6E880",
           "#FF97FF",
           "#FECB52"
          ],
          "font": {
           "color": "#2a3f5f"
          },
          "geo": {
           "bgcolor": "white",
           "lakecolor": "white",
           "landcolor": "#E5ECF6",
           "showlakes": true,
           "showland": true,
           "subunitcolor": "white"
          },
          "hoverlabel": {
           "align": "left"
          },
          "hovermode": "closest",
          "mapbox": {
           "style": "light"
          },
          "paper_bgcolor": "white",
          "plot_bgcolor": "#E5ECF6",
          "polar": {
           "angularaxis": {
            "gridcolor": "white",
            "linecolor": "white",
            "ticks": ""
           },
           "bgcolor": "#E5ECF6",
           "radialaxis": {
            "gridcolor": "white",
            "linecolor": "white",
            "ticks": ""
           }
          },
          "scene": {
           "xaxis": {
            "backgroundcolor": "#E5ECF6",
            "gridcolor": "white",
            "gridwidth": 2,
            "linecolor": "white",
            "showbackground": true,
            "ticks": "",
            "zerolinecolor": "white"
           },
           "yaxis": {
            "backgroundcolor": "#E5ECF6",
            "gridcolor": "white",
            "gridwidth": 2,
            "linecolor": "white",
            "showbackground": true,
            "ticks": "",
            "zerolinecolor": "white"
           },
           "zaxis": {
            "backgroundcolor": "#E5ECF6",
            "gridcolor": "white",
            "gridwidth": 2,
            "linecolor": "white",
            "showbackground": true,
            "ticks": "",
            "zerolinecolor": "white"
           }
          },
          "shapedefaults": {
           "line": {
            "color": "#2a3f5f"
           }
          },
          "ternary": {
           "aaxis": {
            "gridcolor": "white",
            "linecolor": "white",
            "ticks": ""
           },
           "baxis": {
            "gridcolor": "white",
            "linecolor": "white",
            "ticks": ""
           },
           "bgcolor": "#E5ECF6",
           "caxis": {
            "gridcolor": "white",
            "linecolor": "white",
            "ticks": ""
           }
          },
          "title": {
           "x": 0.05
          },
          "xaxis": {
           "automargin": true,
           "gridcolor": "white",
           "linecolor": "white",
           "ticks": "",
           "title": {
            "standoff": 15
           },
           "zerolinecolor": "white",
           "zerolinewidth": 2
          },
          "yaxis": {
           "automargin": true,
           "gridcolor": "white",
           "linecolor": "white",
           "ticks": "",
           "title": {
            "standoff": 15
           },
           "zerolinecolor": "white",
           "zerolinewidth": 2
          }
         }
        },
        "width": 1800,
        "xaxis": {
         "gridcolor": "#EBF0F8",
         "title": {
          "font": {
           "size": 12
          },
          "text": "index (-)"
         }
        },
        "yaxis": {
         "gridcolor": "#EBF0F8"
        }
       }
      }
     },
     "metadata": {},
     "output_type": "display_data"
    }
   ],
   "source": [
    "plot_solver_trace(design)"
   ]
  },
  {
   "cell_type": "code",
   "execution_count": 5,
   "id": "5260ed4b-dac7-497d-9d11-7f67007361f3",
   "metadata": {},
   "outputs": [
    {
     "name": "stdout",
     "output_type": "stream",
     "text": [
      "System <p - ParabolicSystem> is the execution master.\n",
      "Call p.open_loops\n",
      "Start setup_run recursive calls.\n",
      "Call solver.setup_run\n",
      "****************************************\n",
      "*\n",
      "* Assemble mathematical problem\n",
      "*\n",
      "****************************************\n",
      "Mathematical problem:\n",
      "Unknowns [1]\n",
      "  x = 1.0\n",
      "Equations [1]\n",
      "  y == 10. := -9.0\n",
      "Call p.setup_run\n",
      "Exec order for p: []\n",
      "Call driver solver.run_once on p\n",
      " ------------------------------------------------------------\n",
      " # Starting driver 'solver' on 'p'\n",
      "Call solver.compute_before()\n",
      "Set unknowns initial values: [1.]\n",
      "Call solver.compute()\n",
      "NR - Reference call\n",
      "Call fresidues with x = array([1.])\n",
      "Call p.compute_before\n",
      "Residues: array([-8.])\n",
      "Initial residue: 8.0\n",
      "Reuse of previous Jacobian matrix\n",
      "Iteration 0\n",
      "Perturb unknown 0\n",
      "Call fresidues with x = array([1.00001526])\n",
      "Call p.compute_before\n",
      "Residues: array([-7.99993896])\n",
      "Jacobian matrix: full update\n",
      "Call fresidues with x = array([2.99998474])\n",
      "Call p.compute_before\n",
      "Residues: array([7.9998169])\n",
      "Residue: 7.9998\n",
      "iter #1\ttol = 1.42e-14\t|R| = 7.999816896393877\tx = array([2.99998474])\n",
      "Iteration 1\n",
      "Perturb unknown 0\n",
      "Call fresidues with x = array([3.00003052])\n",
      "Call p.compute_before\n",
      "Residues: array([8.00036621])\n",
      "Jacobian matrix: full update\n",
      "Call fresidues with x = array([2.33333503])\n",
      "Call p.compute_before\n",
      "Residues: array([0.88890471])\n",
      "Residue: 0.8889\n",
      "iter #2\ttol = 1.42e-14\t|R| = 0.8889047120594462\tx = array([2.33333503])\n",
      "Iteration 2\n",
      "Perturb unknown 0\n",
      "Call fresidues with x = array([2.33337063])\n",
      "Call p.compute_before\n",
      "Residues: array([0.88923702])\n",
      "Jacobian matrix: full update\n",
      "Call fresidues with x = array([2.23809603])\n",
      "Call p.compute_before\n",
      "Residues: array([0.01814771])\n",
      "Residue: 0.018148\n",
      "iter #3\ttol = 1.42e-14\t|R| = 0.018147713996654602\tx = array([2.23809603])\n",
      "Iteration 3\n",
      "Perturb unknown 0\n",
      "Call fresidues with x = array([2.23813018])\n",
      "Call p.compute_before\n",
      "Residues: array([0.01845345])\n",
      "Jacobian matrix: full update\n",
      "Call fresidues with x = array([2.23606891])\n",
      "Call p.compute_before\n",
      "Residues: array([8.35690296e-06])\n",
      "Residue: 8.3569e-06\n",
      "iter #4\ttol = 1.42e-14\t|R| = 8.356902956307977e-06\tx = array([2.23606891])\n",
      "Iteration 4\n",
      "Call fresidues with x = array([2.23606798])\n",
      "Call p.compute_before\n",
      "Residues: array([3.78802589e-09])\n",
      "Residue: 3.788e-09\n",
      "iter #5\ttol = 7.11e-14\t|R| = 3.788025892959013e-09\tx = array([2.23606798])\n",
      "Iteration 5\n",
      "Call fresidues with x = array([2.23606798])\n",
      "Call p.compute_before\n",
      "Residues: array([1.77635684e-15])\n",
      "Residue: 1.7764e-15\n",
      "iter #6\ttol = 7.11e-14\t|R| = 1.7763568394002505e-15\tx = array([2.23606798])\n",
      "solver : solver   -> Converged (1.7764e-15) in 6 iterations, 4 complete, 0 partial Jacobian and 2 Broyden evaluation(s) (tol = 7.1e-14)\n",
      " # Ending driver 'solver' on 'p' in 0.034 seconds\n",
      "\n",
      "Start clean_run recursive calls.\n",
      "Call p.clean_run\n",
      "Compute calls for p: 11\n",
      "Call solver.clean_run\n",
      "Compute calls for solver: 1\n",
      "Call p.close_loops\n"
     ]
    },
    {
     "data": {
      "application/vnd.plotly.v1+json": {
       "config": {
        "plotlyServerURL": "https://plot.ly"
       },
       "data": [
        {
         "mode": "markers",
         "name": "x",
         "type": "scatter",
         "x": [
          0,
          1,
          2,
          3,
          4,
          5,
          6
         ],
         "y": [
          1,
          2.999984741327352,
          2.33333502867242,
          2.238096033908806,
          2.236068911829749,
          2.236067977923304,
          2.23606797749979
         ]
        },
        {
         "mode": "markers",
         "name": "y == 10.",
         "type": "scatter",
         "x": [
          0,
          1,
          2,
          3,
          4,
          5,
          6
         ],
         "y": [
          -8,
          7.999816896393877,
          0.8889047120594462,
          0.018147713996654602,
          0.000008356902956307977,
          3.788025892959013e-9,
          1.7763568394002505e-15
         ]
        }
       ],
       "layout": {
        "height": 800,
        "hovermode": "x",
        "plot_bgcolor": "white",
        "template": {
         "data": {
          "bar": [
           {
            "error_x": {
             "color": "#2a3f5f"
            },
            "error_y": {
             "color": "#2a3f5f"
            },
            "marker": {
             "line": {
              "color": "#E5ECF6",
              "width": 0.5
             },
             "pattern": {
              "fillmode": "overlay",
              "size": 10,
              "solidity": 0.2
             }
            },
            "type": "bar"
           }
          ],
          "barpolar": [
           {
            "marker": {
             "line": {
              "color": "#E5ECF6",
              "width": 0.5
             },
             "pattern": {
              "fillmode": "overlay",
              "size": 10,
              "solidity": 0.2
             }
            },
            "type": "barpolar"
           }
          ],
          "carpet": [
           {
            "aaxis": {
             "endlinecolor": "#2a3f5f",
             "gridcolor": "white",
             "linecolor": "white",
             "minorgridcolor": "white",
             "startlinecolor": "#2a3f5f"
            },
            "baxis": {
             "endlinecolor": "#2a3f5f",
             "gridcolor": "white",
             "linecolor": "white",
             "minorgridcolor": "white",
             "startlinecolor": "#2a3f5f"
            },
            "type": "carpet"
           }
          ],
          "choropleth": [
           {
            "colorbar": {
             "outlinewidth": 0,
             "ticks": ""
            },
            "type": "choropleth"
           }
          ],
          "contour": [
           {
            "colorbar": {
             "outlinewidth": 0,
             "ticks": ""
            },
            "colorscale": [
             [
              0,
              "#0d0887"
             ],
             [
              0.1111111111111111,
              "#46039f"
             ],
             [
              0.2222222222222222,
              "#7201a8"
             ],
             [
              0.3333333333333333,
              "#9c179e"
             ],
             [
              0.4444444444444444,
              "#bd3786"
             ],
             [
              0.5555555555555556,
              "#d8576b"
             ],
             [
              0.6666666666666666,
              "#ed7953"
             ],
             [
              0.7777777777777778,
              "#fb9f3a"
             ],
             [
              0.8888888888888888,
              "#fdca26"
             ],
             [
              1,
              "#f0f921"
             ]
            ],
            "type": "contour"
           }
          ],
          "contourcarpet": [
           {
            "colorbar": {
             "outlinewidth": 0,
             "ticks": ""
            },
            "type": "contourcarpet"
           }
          ],
          "heatmap": [
           {
            "colorbar": {
             "outlinewidth": 0,
             "ticks": ""
            },
            "colorscale": [
             [
              0,
              "#0d0887"
             ],
             [
              0.1111111111111111,
              "#46039f"
             ],
             [
              0.2222222222222222,
              "#7201a8"
             ],
             [
              0.3333333333333333,
              "#9c179e"
             ],
             [
              0.4444444444444444,
              "#bd3786"
             ],
             [
              0.5555555555555556,
              "#d8576b"
             ],
             [
              0.6666666666666666,
              "#ed7953"
             ],
             [
              0.7777777777777778,
              "#fb9f3a"
             ],
             [
              0.8888888888888888,
              "#fdca26"
             ],
             [
              1,
              "#f0f921"
             ]
            ],
            "type": "heatmap"
           }
          ],
          "heatmapgl": [
           {
            "colorbar": {
             "outlinewidth": 0,
             "ticks": ""
            },
            "colorscale": [
             [
              0,
              "#0d0887"
             ],
             [
              0.1111111111111111,
              "#46039f"
             ],
             [
              0.2222222222222222,
              "#7201a8"
             ],
             [
              0.3333333333333333,
              "#9c179e"
             ],
             [
              0.4444444444444444,
              "#bd3786"
             ],
             [
              0.5555555555555556,
              "#d8576b"
             ],
             [
              0.6666666666666666,
              "#ed7953"
             ],
             [
              0.7777777777777778,
              "#fb9f3a"
             ],
             [
              0.8888888888888888,
              "#fdca26"
             ],
             [
              1,
              "#f0f921"
             ]
            ],
            "type": "heatmapgl"
           }
          ],
          "histogram": [
           {
            "marker": {
             "pattern": {
              "fillmode": "overlay",
              "size": 10,
              "solidity": 0.2
             }
            },
            "type": "histogram"
           }
          ],
          "histogram2d": [
           {
            "colorbar": {
             "outlinewidth": 0,
             "ticks": ""
            },
            "colorscale": [
             [
              0,
              "#0d0887"
             ],
             [
              0.1111111111111111,
              "#46039f"
             ],
             [
              0.2222222222222222,
              "#7201a8"
             ],
             [
              0.3333333333333333,
              "#9c179e"
             ],
             [
              0.4444444444444444,
              "#bd3786"
             ],
             [
              0.5555555555555556,
              "#d8576b"
             ],
             [
              0.6666666666666666,
              "#ed7953"
             ],
             [
              0.7777777777777778,
              "#fb9f3a"
             ],
             [
              0.8888888888888888,
              "#fdca26"
             ],
             [
              1,
              "#f0f921"
             ]
            ],
            "type": "histogram2d"
           }
          ],
          "histogram2dcontour": [
           {
            "colorbar": {
             "outlinewidth": 0,
             "ticks": ""
            },
            "colorscale": [
             [
              0,
              "#0d0887"
             ],
             [
              0.1111111111111111,
              "#46039f"
             ],
             [
              0.2222222222222222,
              "#7201a8"
             ],
             [
              0.3333333333333333,
              "#9c179e"
             ],
             [
              0.4444444444444444,
              "#bd3786"
             ],
             [
              0.5555555555555556,
              "#d8576b"
             ],
             [
              0.6666666666666666,
              "#ed7953"
             ],
             [
              0.7777777777777778,
              "#fb9f3a"
             ],
             [
              0.8888888888888888,
              "#fdca26"
             ],
             [
              1,
              "#f0f921"
             ]
            ],
            "type": "histogram2dcontour"
           }
          ],
          "mesh3d": [
           {
            "colorbar": {
             "outlinewidth": 0,
             "ticks": ""
            },
            "type": "mesh3d"
           }
          ],
          "parcoords": [
           {
            "line": {
             "colorbar": {
              "outlinewidth": 0,
              "ticks": ""
             }
            },
            "type": "parcoords"
           }
          ],
          "pie": [
           {
            "automargin": true,
            "type": "pie"
           }
          ],
          "scatter": [
           {
            "fillpattern": {
             "fillmode": "overlay",
             "size": 10,
             "solidity": 0.2
            },
            "type": "scatter"
           }
          ],
          "scatter3d": [
           {
            "line": {
             "colorbar": {
              "outlinewidth": 0,
              "ticks": ""
             }
            },
            "marker": {
             "colorbar": {
              "outlinewidth": 0,
              "ticks": ""
             }
            },
            "type": "scatter3d"
           }
          ],
          "scattercarpet": [
           {
            "marker": {
             "colorbar": {
              "outlinewidth": 0,
              "ticks": ""
             }
            },
            "type": "scattercarpet"
           }
          ],
          "scattergeo": [
           {
            "marker": {
             "colorbar": {
              "outlinewidth": 0,
              "ticks": ""
             }
            },
            "type": "scattergeo"
           }
          ],
          "scattergl": [
           {
            "marker": {
             "colorbar": {
              "outlinewidth": 0,
              "ticks": ""
             }
            },
            "type": "scattergl"
           }
          ],
          "scattermapbox": [
           {
            "marker": {
             "colorbar": {
              "outlinewidth": 0,
              "ticks": ""
             }
            },
            "type": "scattermapbox"
           }
          ],
          "scatterpolar": [
           {
            "marker": {
             "colorbar": {
              "outlinewidth": 0,
              "ticks": ""
             }
            },
            "type": "scatterpolar"
           }
          ],
          "scatterpolargl": [
           {
            "marker": {
             "colorbar": {
              "outlinewidth": 0,
              "ticks": ""
             }
            },
            "type": "scatterpolargl"
           }
          ],
          "scatterternary": [
           {
            "marker": {
             "colorbar": {
              "outlinewidth": 0,
              "ticks": ""
             }
            },
            "type": "scatterternary"
           }
          ],
          "surface": [
           {
            "colorbar": {
             "outlinewidth": 0,
             "ticks": ""
            },
            "colorscale": [
             [
              0,
              "#0d0887"
             ],
             [
              0.1111111111111111,
              "#46039f"
             ],
             [
              0.2222222222222222,
              "#7201a8"
             ],
             [
              0.3333333333333333,
              "#9c179e"
             ],
             [
              0.4444444444444444,
              "#bd3786"
             ],
             [
              0.5555555555555556,
              "#d8576b"
             ],
             [
              0.6666666666666666,
              "#ed7953"
             ],
             [
              0.7777777777777778,
              "#fb9f3a"
             ],
             [
              0.8888888888888888,
              "#fdca26"
             ],
             [
              1,
              "#f0f921"
             ]
            ],
            "type": "surface"
           }
          ],
          "table": [
           {
            "cells": {
             "fill": {
              "color": "#EBF0F8"
             },
             "line": {
              "color": "white"
             }
            },
            "header": {
             "fill": {
              "color": "#C8D4E3"
             },
             "line": {
              "color": "white"
             }
            },
            "type": "table"
           }
          ]
         },
         "layout": {
          "annotationdefaults": {
           "arrowcolor": "#2a3f5f",
           "arrowhead": 0,
           "arrowwidth": 1
          },
          "autotypenumbers": "strict",
          "coloraxis": {
           "colorbar": {
            "outlinewidth": 0,
            "ticks": ""
           }
          },
          "colorscale": {
           "diverging": [
            [
             0,
             "#8e0152"
            ],
            [
             0.1,
             "#c51b7d"
            ],
            [
             0.2,
             "#de77ae"
            ],
            [
             0.3,
             "#f1b6da"
            ],
            [
             0.4,
             "#fde0ef"
            ],
            [
             0.5,
             "#f7f7f7"
            ],
            [
             0.6,
             "#e6f5d0"
            ],
            [
             0.7,
             "#b8e186"
            ],
            [
             0.8,
             "#7fbc41"
            ],
            [
             0.9,
             "#4d9221"
            ],
            [
             1,
             "#276419"
            ]
           ],
           "sequential": [
            [
             0,
             "#0d0887"
            ],
            [
             0.1111111111111111,
             "#46039f"
            ],
            [
             0.2222222222222222,
             "#7201a8"
            ],
            [
             0.3333333333333333,
             "#9c179e"
            ],
            [
             0.4444444444444444,
             "#bd3786"
            ],
            [
             0.5555555555555556,
             "#d8576b"
            ],
            [
             0.6666666666666666,
             "#ed7953"
            ],
            [
             0.7777777777777778,
             "#fb9f3a"
            ],
            [
             0.8888888888888888,
             "#fdca26"
            ],
            [
             1,
             "#f0f921"
            ]
           ],
           "sequentialminus": [
            [
             0,
             "#0d0887"
            ],
            [
             0.1111111111111111,
             "#46039f"
            ],
            [
             0.2222222222222222,
             "#7201a8"
            ],
            [
             0.3333333333333333,
             "#9c179e"
            ],
            [
             0.4444444444444444,
             "#bd3786"
            ],
            [
             0.5555555555555556,
             "#d8576b"
            ],
            [
             0.6666666666666666,
             "#ed7953"
            ],
            [
             0.7777777777777778,
             "#fb9f3a"
            ],
            [
             0.8888888888888888,
             "#fdca26"
            ],
            [
             1,
             "#f0f921"
            ]
           ]
          },
          "colorway": [
           "#636efa",
           "#EF553B",
           "#00cc96",
           "#ab63fa",
           "#FFA15A",
           "#19d3f3",
           "#FF6692",
           "#B6E880",
           "#FF97FF",
           "#FECB52"
          ],
          "font": {
           "color": "#2a3f5f"
          },
          "geo": {
           "bgcolor": "white",
           "lakecolor": "white",
           "landcolor": "#E5ECF6",
           "showlakes": true,
           "showland": true,
           "subunitcolor": "white"
          },
          "hoverlabel": {
           "align": "left"
          },
          "hovermode": "closest",
          "mapbox": {
           "style": "light"
          },
          "paper_bgcolor": "white",
          "plot_bgcolor": "#E5ECF6",
          "polar": {
           "angularaxis": {
            "gridcolor": "white",
            "linecolor": "white",
            "ticks": ""
           },
           "bgcolor": "#E5ECF6",
           "radialaxis": {
            "gridcolor": "white",
            "linecolor": "white",
            "ticks": ""
           }
          },
          "scene": {
           "xaxis": {
            "backgroundcolor": "#E5ECF6",
            "gridcolor": "white",
            "gridwidth": 2,
            "linecolor": "white",
            "showbackground": true,
            "ticks": "",
            "zerolinecolor": "white"
           },
           "yaxis": {
            "backgroundcolor": "#E5ECF6",
            "gridcolor": "white",
            "gridwidth": 2,
            "linecolor": "white",
            "showbackground": true,
            "ticks": "",
            "zerolinecolor": "white"
           },
           "zaxis": {
            "backgroundcolor": "#E5ECF6",
            "gridcolor": "white",
            "gridwidth": 2,
            "linecolor": "white",
            "showbackground": true,
            "ticks": "",
            "zerolinecolor": "white"
           }
          },
          "shapedefaults": {
           "line": {
            "color": "#2a3f5f"
           }
          },
          "ternary": {
           "aaxis": {
            "gridcolor": "white",
            "linecolor": "white",
            "ticks": ""
           },
           "baxis": {
            "gridcolor": "white",
            "linecolor": "white",
            "ticks": ""
           },
           "bgcolor": "#E5ECF6",
           "caxis": {
            "gridcolor": "white",
            "linecolor": "white",
            "ticks": ""
           }
          },
          "title": {
           "x": 0.05
          },
          "xaxis": {
           "automargin": true,
           "gridcolor": "white",
           "linecolor": "white",
           "ticks": "",
           "title": {
            "standoff": 15
           },
           "zerolinecolor": "white",
           "zerolinewidth": 2
          },
          "yaxis": {
           "automargin": true,
           "gridcolor": "white",
           "linecolor": "white",
           "ticks": "",
           "title": {
            "standoff": 15
           },
           "zerolinecolor": "white",
           "zerolinewidth": 2
          }
         }
        },
        "width": 1800,
        "xaxis": {
         "gridcolor": "#EBF0F8",
         "title": {
          "font": {
           "size": 12
          },
          "text": "index (-)"
         }
        },
        "yaxis": {
         "gridcolor": "#EBF0F8"
        }
       }
      }
     },
     "metadata": {},
     "output_type": "display_data"
    }
   ],
   "source": [
    "from cosapp.systems import System\n",
    "\n",
    "\n",
    "class ParabolicSystem(System):\n",
    "\n",
    "    def setup(self):\n",
    "        self.add_inward(\"a\", 2.0)\n",
    "        self.add_inward(\"x\", 1.0)\n",
    "\n",
    "        self.add_outward(\"y\")\n",
    "\n",
    "    def compute(self):\n",
    "        self.y = self.a * self.x**2\n",
    "\n",
    "\n",
    "p = ParabolicSystem(\"p\")\n",
    "\n",
    "p_design = p.add_driver(NonLinearSolver(\"solver\", factor=1.0))\n",
    "p_design.add_equation(\"y == 10.\").add_unknown(\"x\")\n",
    "p.run_drivers()\n",
    "\n",
    "plot_solver_trace(p_design)"
   ]
  }
 ],
 "metadata": {
  "kernelspec": {
   "display_name": "Python 3",
   "language": "python",
   "name": "python3"
  },
  "language_info": {
   "codemirror_mode": {
    "name": "ipython",
    "version": 3
   },
   "file_extension": ".py",
   "mimetype": "text/x-python",
   "name": "python",
   "nbconvert_exporter": "python",
   "pygments_lexer": "ipython3",
   "version": "3.12.9"
  },
  "toc-showcode": false
 },
 "nbformat": 4,
 "nbformat_minor": 5
}
