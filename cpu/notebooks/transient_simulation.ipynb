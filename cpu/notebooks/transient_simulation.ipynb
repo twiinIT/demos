{
 "cells": [
  {
   "cell_type": "markdown",
   "id": "61ab092b-c82c-4e29-85f2-16c0cab965b3",
   "metadata": {},
   "source": [
    "# Transient simulation\n",
    "\n",
    "The CPU temperature is evaluated from its initial temperature, and CPU power level. "
   ]
  },
  {
   "cell_type": "code",
   "execution_count": null,
   "id": "05aab7a7-ed84-478e-89e7-72feb2676074",
   "metadata": {},
   "outputs": [],
   "source": [
    "# get system\n",
    "from cpu.systems import CPUSystem\n",
    "\n",
    "cpu = CPUSystem(\"cpu\")\n",
    "\n",
    "# load the characteristics\n",
    "with open(\"data/cpu_ref.json\") as f:\n",
    "    cpu.load(f)"
   ]
  },
  {
   "cell_type": "code",
   "execution_count": null,
   "id": "2541e3d5-4e04-42ac-a416-c58217877dad",
   "metadata": {},
   "outputs": [],
   "source": [
    "from cosapp.drivers import RungeKutta, NonLinearSolver, LinearDoE, EulerExplicit\n",
    "from cosapp.recorders import DataFrameRecorder\n",
    "\n",
    "doe = cpu.add_driver(LinearDoE(\"doe\"))\n",
    "doe.add_input_var({'fan.T_air': {\"lower\": 30.0, \"upper\": 60.0, \"count\": 201}})\n",
    "\n",
    "time_driver = doe.add_child(EulerExplicit())\n",
    "solver = time_driver.add_child(NonLinearSolver('solver', max_iter=15, factor=1.0))\n",
    "\n",
    "time_driver.time_interval = (0, 5)\n",
    "time_driver.dt = 0.05\n",
    "\n",
    "# Define a simulation scenario\n",
    "time_driver.set_scenario(\n",
    "    init = {'T_cpu': 10.},\n",
    "    values = {\n",
    "        # \"fan.T_air\": 40., \n",
    "        \"cpu.usage\": \"100 if time <20 else 0.\"}\n",
    ")\n",
    "\n",
    "rec = doe.add_recorder(DataFrameRecorder(includes=['*']))\n",
    "\n",
    "cpu.run_drivers()"
   ]
  },
  {
   "cell_type": "code",
   "execution_count": null,
   "id": "66e189ca-e04b-4c7c-8692-88047cd65b2d",
   "metadata": {},
   "outputs": [],
   "source": [
    "# start interface viewer\n",
    "# from cosapp_lab.widgets import SysExplorer\n",
    "\n",
    "# a = SysExplorer(cpu, template = \"cpu_lab.json\", anchor = \"tab-after\")"
   ]
  },
  {
   "cell_type": "code",
   "execution_count": null,
   "id": "fe93ccb0-066a-4a64-bdbf-ff0473bb14cd",
   "metadata": {},
   "outputs": [],
   "source": [
    "from cpu.utils.plot_recorders import plot_recorders\n",
    "\n",
    "plot_recorders({\"theoretical\": rec.data\n",
    "                }, \n",
    "               [[(\"fan.T_air\", \"cpu.heat_flow_balance\")]],\n",
    "               width=1200, height=600)"
   ]
  },
  {
   "cell_type": "code",
   "execution_count": null,
   "id": "15292da2-8bb9-40a6-8336-b13568b6ffb8",
   "metadata": {},
   "outputs": [],
   "source": []
  }
 ],
 "metadata": {
  "kernelspec": {
   "display_name": "Python 3",
   "language": "python",
   "name": "python3"
  },
  "language_info": {
   "codemirror_mode": {
    "name": "ipython",
    "version": 3
   },
   "file_extension": ".py",
   "mimetype": "text/x-python",
   "name": "python",
   "nbconvert_exporter": "python",
   "pygments_lexer": "ipython3",
   "version": "3.12.7"
  },
  "toc-showcode": false
 },
 "nbformat": 4,
 "nbformat_minor": 5
}
