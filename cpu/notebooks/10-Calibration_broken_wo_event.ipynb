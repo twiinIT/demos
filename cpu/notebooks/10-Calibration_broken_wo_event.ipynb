{
 "cells": [
  {
   "cell_type": "markdown",
   "id": "8a929d88-a4fa-49b9-a99f-0a419134eb1b",
   "metadata": {},
   "source": [
    "# Calibration of a dysfunctional case without considering events\n",
    "\n",
    "This notebook shows a calibration of a dysfunctional case (a broken fan) based on model without considering the event.\n",
    "\n",
    "The calibration methodology is still the same as a [basic calibration on transient data](calibration_transient_basics.ipynb): the heat exchange coefficient adder is computed to fit the temperature increase during a time step.\n",
    "\n",
    "### Model setup"
   ]
  },
  {
   "cell_type": "code",
   "execution_count": 1,
   "id": "00fb1f55-0291-4f86-aea8-3cadf6aa637d",
   "metadata": {},
   "outputs": [],
   "source": [
    "from cpu.systems import CPUSystem\n",
    "\n",
    "cpu = CPUSystem.load(\"data/cpu_ref.json\")"
   ]
  },
  {
   "cell_type": "markdown",
   "id": "8da5a98d-6614-4555-880f-1aa3f9627d4d",
   "metadata": {},
   "source": [
    "### Calibration setup"
   ]
  },
  {
   "cell_type": "code",
   "execution_count": 2,
   "id": "6b97aa92-f1c8-41e4-99e8-a8319b6f40bf",
   "metadata": {},
   "outputs": [],
   "source": [
    "import numpy as np\n",
    "import pandas as pd\n",
    "\n",
    "from cosapp.drivers import NonLinearSolver, EulerExplicit\n",
    "from cosapp.drivers.time.scenario import Interpolator\n",
    "from cosapp.recorders import DataFrameRecorder\n",
    "\n",
    "time_driver = cpu.add_driver(EulerExplicit())\n",
    "solver = time_driver.add_child(NonLinearSolver(\"solver\", max_iter=10, factor=1.0, tol=1e-6))\n",
    "\n",
    "# load the operation data, including fan breakage event\n",
    "data = pd.read_csv(\"data/cpu_hot_day_intensive_use_broken.csv\")\n",
    "next_T = data[\"T_cpu\"][1:]\n",
    "\n",
    "# define a calibration methodology\n",
    "solver.add_equation(\"cpu.expected_next_T == cpu.next_T\").add_unknown(\"exchanger.h_adder\")\n",
    "\n",
    "time_driver.time_interval = (0, 29)\n",
    "time_driver.dt = 1.0\n",
    "\n",
    "# define a simulation scenario using the operating conditions\n",
    "time_driver.set_scenario(\n",
    "    init={\"T_cpu\": 10.0},\n",
    "    values={\n",
    "        \"cpu.expected_next_T\": Interpolator(np.stack([np.linspace(0, 29, 30), next_T], axis=1)),\n",
    "        \"fan.T_air\": Interpolator(np.stack([data.index, data[\"fan.T_air\"]], axis=1)),\n",
    "        \"cpu.usage\": Interpolator(np.stack([data.index, data[\"cpu.usage\"]], axis=1)),\n",
    "    },\n",
    ")\n",
    "\n",
    "rec = time_driver.add_recorder(DataFrameRecorder(includes=[\"*\"], hold=False), period=1.0)\n",
    "\n",
    "cpu.run_drivers()\n",
    "rec.data.to_csv(\"data/calibrated_simulation_broken1.csv\")"
   ]
  },
  {
   "cell_type": "code",
   "execution_count": 3,
   "id": "d8a6f994-4294-4a95-af91-2a097cb2d6b7",
   "metadata": {},
   "outputs": [
    {
     "data": {
      "application/vnd.jupyter.widget-view+json": {
       "model_id": "780d682fd27f4040b6e739b38e939481",
       "version_major": 2,
       "version_minor": 0
      },
      "text/plain": [
       "VBox(children=(HBox(children=(FigureWidget({\n",
       "    'data': [{'mode': 'markers',\n",
       "              'name': 'operation…"
      ]
     },
     "execution_count": 3,
     "metadata": {},
     "output_type": "execute_result"
    }
   ],
   "source": [
    "from cpu.utils.plot_recorders import plot_recorders\n",
    "\n",
    "plot_recorders(\n",
    "    {\n",
    "        \"operation\": pd.read_csv(\"data/cpu_hot_day_intensive_use_broken.csv\"),\n",
    "        \"calibrated\": pd.read_csv(\"data/calibrated_simulation_broken1.csv\"),\n",
    "    },\n",
    "    [\n",
    "        [(\"time\", \"fan.T_air\"), (\"time\", \"cpu.usage\")],\n",
    "        [(\"time\", \"fan.tension\"), (\"time\", \"T_cpu\")],\n",
    "        [(\"time\", \"exchanger.h_adder\")],\n",
    "    ],\n",
    "    width=1000,\n",
    "    height=600,\n",
    ")"
   ]
  },
  {
   "cell_type": "markdown",
   "id": "128e17bd-a4cf-458b-b2f9-551e2e82bf8f",
   "metadata": {},
   "source": [
    "### Analysis\n",
    "\n",
    "The results are completely wrong because we calibrated a fully working model on a dataset including a breakage!"
   ]
  },
  {
   "cell_type": "code",
   "execution_count": 4,
   "id": "6eac8df1-ac73-4c73-aa79-c95da31ded60",
   "metadata": {},
   "outputs": [
    {
     "data": {
      "text/plain": [
       "np.float64(-223.74957793084178)"
      ]
     },
     "execution_count": 4,
     "metadata": {},
     "output_type": "execute_result"
    }
   ],
   "source": [
    "np.median(rec.data[\"exchanger.h_adder\"])"
   ]
  }
 ],
 "metadata": {
  "kernelspec": {
   "display_name": "Python 3",
   "language": "python",
   "name": "python3"
  },
  "language_info": {
   "codemirror_mode": {
    "name": "ipython",
    "version": 3
   },
   "file_extension": ".py",
   "mimetype": "text/x-python",
   "name": "python",
   "nbconvert_exporter": "python",
   "pygments_lexer": "ipython3",
   "version": "3.12.9"
  },
  "toc-showcode": false
 },
 "nbformat": 4,
 "nbformat_minor": 5
}
