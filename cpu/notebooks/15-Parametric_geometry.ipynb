{
 "cells": [
  {
   "cell_type": "markdown",
   "id": "07063a6b-ec55-49bb-91ee-b802619bce29",
   "metadata": {},
   "source": [
    "# Parametric geometry\n",
    "\n",
    "## Why?\n",
    "\n",
    "Geometrical representation of the product is useful to understand the impact of a design process on physical parts, but not only.\n",
    "When running several computations/simulations of various physics on the product, they are all related to the same object and they need access to the geometry to perform relevant evaluations.\n",
    "\n",
    "Most of the time, the geometry is the first source of coupling between multi-physics simulations.\n",
    "\n",
    "## Example\n",
    "\n",
    "Let's keep a simple example: the CPU fan. We need the geometry to evalute the mass flow blown by the fan on the heat exchanger.\n",
    "\n",
    "![](../images/fan.png)\n",
    "\n",
    "### The blade\n",
    "\n",
    "We need to have a fairly simple parametric fan blade geometry."
   ]
  },
  {
   "cell_type": "code",
   "execution_count": 1,
   "id": "19ad0c36-5c76-44b2-ba9a-51878c8e9330",
   "metadata": {},
   "outputs": [],
   "source": [
    "from cpu.systems import ParametricBladeGeometry\n",
    "\n",
    "p_blade = ParametricBladeGeometry(\"blade\")"
   ]
  },
  {
   "cell_type": "code",
   "execution_count": 2,
   "id": "02ea9acd-652c-4c4e-a7ba-6e0634495b4c",
   "metadata": {},
   "outputs": [
    {
     "data": {
      "application/vnd.jupyter.widget-view+json": {
       "model_id": "3d9102714d244efa9c51f8af1fc743a6",
       "version_major": 2,
       "version_minor": 0
      },
      "text/plain": [
       "Renderer(background='pink', camera=PerspectiveCamera(aspect=2.25, children=(DirectionalLight(intensity=0.3, po…"
      ]
     },
     "execution_count": 2,
     "metadata": {},
     "output_type": "execute_result"
    }
   ],
   "source": [
    "from pyoccad.render import JupyterThreeJSRenderer\n",
    "\n",
    "render = JupyterThreeJSRenderer(\n",
    "    view_size=(1800, 800), camera_target=(1.0, 0.0, 0.0), camera_position=(-2.0, 0.0, 0.0)\n",
    ")\n",
    "\n",
    "render_row = render.add_shape(p_blade.geometry, uid=\"blade\", face_color=\"#156289\", opacity=1.0)\n",
    "render_row.scale = (10.0, 10.0, 10.0)\n",
    "render.show()"
   ]
  },
  {
   "cell_type": "code",
   "execution_count": 3,
   "id": "d00da295-6606-4515-b88a-14bef8351c48",
   "metadata": {},
   "outputs": [
    {
     "data": {
      "application/vnd.jupyter.widget-view+json": {
       "model_id": "b5221087e5d74e358cf56b93eac77d8d",
       "version_major": 2,
       "version_minor": 0
      },
      "text/plain": [
       "ShapeGroup(children=(PyoccadGroup(children=(Mesh(geometry=BufferGeometry(attributes={'position': <BufferAttrib…"
      ]
     },
     "execution_count": 3,
     "metadata": {},
     "output_type": "execute_result"
    }
   ],
   "source": [
    "p_blade.hub_to_tip_ratio = 0.3\n",
    "p_blade.height_over_chord = 1.5\n",
    "p_blade.q_factor = 1.0\n",
    "p_blade.max_thickness_position = 0.3\n",
    "p_blade.max_thickness_ratio = 0.1\n",
    "p_blade.leading_tension = 0.1\n",
    "p_blade.trailing_tension = 0.1\n",
    "p_blade.inlet_angle = 40.0\n",
    "p_blade.exit_angle = 10.0\n",
    "p_blade.stacking_parameter = 0.3\n",
    "p_blade.stacking_angle = 0.0\n",
    "p_blade.swirl = 0.0\n",
    "\n",
    "p_blade.run_drivers()\n",
    "\n",
    "render.update_shape(p_blade.geometry, uid=\"blade\")"
   ]
  },
  {
   "cell_type": "markdown",
   "id": "294c5096-7537-4a4c-a693-741a2219107b",
   "metadata": {},
   "source": [
    "It looks promising!"
   ]
  },
  {
   "cell_type": "code",
   "execution_count": 4,
   "id": "23e1afd4-942f-4f4f-90eb-43cea30b40b2",
   "metadata": {},
   "outputs": [],
   "source": [
    "from cpu.systems.fan_geometry import FanGeometry\n",
    "\n",
    "fan = FanGeometry(\"fan\")\n",
    "rotor = fan.rotor\n",
    "blade = rotor.blade\n",
    "casing = fan.casing"
   ]
  },
  {
   "cell_type": "code",
   "execution_count": 5,
   "metadata": {},
   "outputs": [],
   "source": [
    "from pyoccad.render import JupyterThreeJSRenderer, JupyterThreeJSRenderer2d\n",
    "from cpu.utils.display import compare_with_image\n",
    "\n",
    "render2d = JupyterThreeJSRenderer2d(\n",
    "    view_size=(600, 600), camera_target=(1.0, 0.0, 0.0), camera_position=(-1.5, 0.0, 0.0)\n",
    ")\n",
    "render_row2d = render2d.add_shape(\n",
    "    fan.geometry.shape, uid=\"blade\", face_color=\"#156289\", opacity=1.0, plot_edges=False\n",
    ")\n",
    "\n",
    "render = JupyterThreeJSRenderer(\n",
    "    view_size=(600, 600), camera_target=(1.0, 0.0, 0.0), camera_position=(-1.5, 0.0, 0.0)\n",
    ")\n",
    "render_row = render.add_shape(\n",
    "    fan.geometry.shape, uid=\"blade\", face_color=\"#156289\", opacity=1.0, plot_edges=False\n",
    ")"
   ]
  },
  {
   "cell_type": "code",
   "execution_count": 6,
   "id": "b61809f9-df8c-4d48-b3a3-25d984689abe",
   "metadata": {
    "tags": []
   },
   "outputs": [
    {
     "data": {
      "application/vnd.jupyter.widget-view+json": {
       "model_id": "2e4a784d80454775ba2e01e6ba11dc5c",
       "version_major": 2,
       "version_minor": 0
      },
      "text/plain": [
       "ShapeGroup(children=(PyoccadGroup(children=(Mesh(geometry=BufferGeometry(attributes={'position': <BufferAttrib…"
      ]
     },
     "execution_count": 6,
     "metadata": {},
     "output_type": "execute_result"
    }
   ],
   "source": [
    "blade.height_over_chord = 1.3\n",
    "blade.q_factor = 1.0\n",
    "blade.max_thickness_position = 0.3\n",
    "blade.max_thickness_ratio = 0.1\n",
    "blade.leading_tension = 1.0\n",
    "blade.trailing_tension = 1.0\n",
    "blade.inlet_angle = 80.0\n",
    "blade.exit_angle = 60.0\n",
    "blade.stacking_parameter = 0.0\n",
    "blade.stacking_angle = 0.0\n",
    "blade.swirl = 25.0\n",
    "\n",
    "casing.thickness_ratio = 0.03\n",
    "casing.min_thickness = 0.002\n",
    "casing.clearance_ratio = 0.02\n",
    "casing.min_clearance = 0.005\n",
    "casing.struts_clearance_ratio = 0.05\n",
    "\n",
    "rotor.count = 7\n",
    "\n",
    "f = 1.0\n",
    "fan.tip_radius = 0.1 / f\n",
    "fan.hub_to_tip_ratio = 0.4\n",
    "fan.factor = 10.0 * f * 1.0\n",
    "\n",
    "fan.run_drivers()\n",
    "\n",
    "render_row.linear_deflection = 0.15\n",
    "render_row.angular_deflection = 0.15\n",
    "render_row2d.linear_deflection = 0.15\n",
    "render_row2d.angular_deflection = 0.15\n",
    "\n",
    "render.update_shape(fan.geometry.shape, uid=\"blade\")\n",
    "render2d.update_shape(fan.geometry.shape, uid=\"blade\")"
   ]
  },
  {
   "cell_type": "code",
   "execution_count": 7,
   "metadata": {},
   "outputs": [
    {
     "data": {
      "application/vnd.jupyter.widget-view+json": {
       "model_id": "94050b36475549db971f6a06bb742d0f",
       "version_major": 2,
       "version_minor": 0
      },
      "text/plain": [
       "HBox(children=(Renderer(background='pink', camera=OrthographicCamera(bottom=-3.0, children=(DirectionalLight(i…"
      ]
     },
     "execution_count": 7,
     "metadata": {},
     "output_type": "execute_result"
    }
   ],
   "source": [
    "compare_with_image(fan, render2d, render)"
   ]
  }
 ],
 "metadata": {
  "kernelspec": {
   "display_name": "Python 3",
   "language": "python",
   "name": "python3"
  },
  "language_info": {
   "codemirror_mode": {
    "name": "ipython",
    "version": 3
   },
   "file_extension": ".py",
   "mimetype": "text/x-python",
   "name": "python",
   "nbconvert_exporter": "python",
   "pygments_lexer": "ipython3",
   "version": "3.12.9"
  }
 },
 "nbformat": 4,
 "nbformat_minor": 5
}
