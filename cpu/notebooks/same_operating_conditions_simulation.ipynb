{
 "cells": [
  {
   "cell_type": "markdown",
   "id": "d87d9173-b185-486a-9fe6-0f01909d7e4d",
   "metadata": {},
   "source": [
    "### Simulation at the same operating conditions as real data\n",
    "\n",
    "To compare a model with operation data, we need to run the simulation at the same operating conditions to avoid a bias.\n",
    "\n",
    "For that, we will:\n",
    "- create a model\n",
    "- load the characteristics\n",
    "- load the operation data\n",
    "- run a simulation using those data"
   ]
  },
  {
   "cell_type": "code",
   "execution_count": null,
   "id": "e55159f6-592a-460e-86bf-ae8b2a3d9576",
   "metadata": {},
   "outputs": [],
   "source": [
    "from cpu.systems import CPUSystem\n",
    "\n",
    "# create a new CPU model/system\n",
    "cpu = CPUSystem(\"cpu\")\n",
    "\n",
    "# load the characteristics\n",
    "with open(\"data/cpu_ref.json\") as f:\n",
    "    cpu.load(f)"
   ]
  },
  {
   "cell_type": "code",
   "execution_count": null,
   "id": "099e022b-ac99-4ee6-9e97-bc15c4b7f614",
   "metadata": {},
   "outputs": [],
   "source": [
    "import numpy as np\n",
    "import pandas as pd\n",
    "\n",
    "from cosapp.drivers import RungeKutta, NonLinearSolver\n",
    "from cosapp.drivers.time.scenario import Interpolator\n",
    "from cosapp.recorders import DataFrameRecorder\n",
    "\n",
    "time_driver = cpu.add_driver(RungeKutta(order=3, history = True))\n",
    "solver = time_driver.add_child(NonLinearSolver('solver', max_iter=10, factor=1.0))\n",
    "\n",
    "time_driver.time_interval = (0, 30)\n",
    "time_driver.dt = 1.\n",
    "\n",
    "# load the operation data\n",
    "data = pd.read_csv(\"data/cpu_hot_day_intensive_use.csv\")\n",
    "\n",
    "# define a simulation scenario using the operating conditions\n",
    "time_driver.set_scenario(\n",
    "    init = {'T_cpu': 10.},\n",
    "    values = {\n",
    "        \"fan.T_air\": Interpolator(np.stack([data.index, data[\"fan.T_air\"]], axis=1)),\n",
    "        \"cpu.usage\": Interpolator(np.stack([data.index, data[\"cpu.usage\"]], axis=1)),\n",
    "    }\n",
    ")\n",
    "\n",
    "rec = time_driver.add_recorder(DataFrameRecorder(includes=['*'], hold=False), period=1.)\n",
    "\n",
    "cpu.run_drivers()\n",
    "rec.data.to_csv(\"data/simulation_at_operating_conditions.csv\")"
   ]
  },
  {
   "cell_type": "code",
   "execution_count": null,
   "id": "8b29da53-5712-40fa-b11b-3d56f4a33bac",
   "metadata": {},
   "outputs": [],
   "source": [
    "from cpu.utils.plot import plot_recorders\n",
    "\n",
    "plot_recorders({\"operation\": pd.read_csv(\"data/cpu_hot_day_intensive_use.csv\"),\n",
    "                \"simulation\": pd.read_csv(\"data/simulation_at_operating_conditions.csv\"),\n",
    "                }, \n",
    "               [[(\"time\", \"fan.T_air\"), (\"time\",\"cpu.usage\")], \n",
    "                [(\"time\", \"fan.tension\"), (\"time\", \"T_cpu\")]],\n",
    "               width=800, height=600)"
   ]
  }
 ],
 "metadata": {
  "kernelspec": {
   "display_name": "Python 3 (ipykernel)",
   "language": "python",
   "name": "python3"
  },
  "language_info": {
   "codemirror_mode": {
    "name": "ipython",
    "version": 3
   },
   "file_extension": ".py",
   "mimetype": "text/x-python",
   "name": "python",
   "nbconvert_exporter": "python",
   "pygments_lexer": "ipython3",
   "version": "3.9.12"
  },
  "toc-showcode": false
 },
 "nbformat": 4,
 "nbformat_minor": 5
}
