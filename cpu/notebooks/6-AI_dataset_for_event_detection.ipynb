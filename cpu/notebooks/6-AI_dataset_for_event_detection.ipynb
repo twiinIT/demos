{
 "cells": [
  {
   "cell_type": "markdown",
   "id": "3307cf46",
   "metadata": {},
   "source": [
    "# Fault diagnostic using simulated data\n",
    "\n",
    "We have computers and we want to know whether their cpu is broken or not.   \n",
    "To be able to know that we use the model of the digital twin to create a model of the cpu.   \n",
    "The digital twin is a way to modelize something material with a program and visualize it on the computer.  \n",
    "This model allows us to create a lot of data that we will use to train an AI model."
   ]
  },
  {
   "cell_type": "code",
   "execution_count": null,
   "id": "c300cb82-d5cf-4f58-ad8a-f2bcd9a7f41a",
   "metadata": {},
   "outputs": [],
   "source": [
    "import random as rd\n",
    "import pandas as pd\n",
    "\n",
    "from cosapp.drivers import NonLinearSolver, RungeKutta, LinearDoE, RunSingleCase\n",
    "from cosapp.recorders import DataFrameRecorder\n",
    "\n",
    "from cpu.systems import CPUSystem"
   ]
  },
  {
   "cell_type": "markdown",
   "id": "6f1f99b5",
   "metadata": {},
   "source": [
    "## Sequence definition of dataset simulation"
   ]
  },
  {
   "cell_type": "markdown",
   "id": "8ed991e3",
   "metadata": {},
   "source": [
    "To create our datasets we used two digital twins of a cpu made up of a fan, a cpu, a heat exchanger and a controler. The first is working without issue, the second has a broken fan and can't cool the cpu.      The simulation is a usage of 100% for 20 seconds and then 0% for 10 seconds. We take the temperature of the cpu after those 30 seconds.   \n",
    "\n",
    "We then run each digital twins for one thousand air temperature points (with the same distance between two adjacent points) from 0 to 30°C, for a total of two thousand cases. We then choose randomly 200 samples of the broken twin and 800 from the one working.   \n",
    "To avoid giving the exact same data in the training and testing sets we won't use the same number of points when running the digital twins: for the test set we will make one thousand and one. We then get the two thousand first cases (one thousand broken and the others working) to create our test set.   \n",
    "The data given in the dataset impact the way our neural network learns. Try to change the dataset: number, pourcentage of each class...   \n",
    "\n",
    "The data in our datasets are: the temperature of the air, the temperature of the cpu and the tension that should be used to make the fan spin."
   ]
  },
  {
   "cell_type": "code",
   "execution_count": null,
   "id": "eefe8183-3ea1-491e-b649-74a99db0da0b",
   "metadata": {},
   "outputs": [],
   "source": [
    "sampleNumbers = 1001\n",
    "datasetSize = 1000\n",
    "percentageBroken = 20\n",
    "rd.seed(9)"
   ]
  },
  {
   "cell_type": "code",
   "execution_count": null,
   "id": "8a44c17f-5ffc-4d08-aff1-97022a088d12",
   "metadata": {},
   "outputs": [],
   "source": [
    "cpu = CPUSystem(\"cpu\")\n",
    "cpu.fan.mass_flow_scalar = 1.0\n",
    "\n",
    "design = cpu.add_driver(NonLinearSolver(\"solver\"))\n",
    "runner = design.add_driver(RunSingleCase(\"runner\"))\n",
    "design.extend(cpu.design_methods[\"exchanger_surface\"])\n",
    "\n",
    "design.runner.set_values({\"fan.T_air\": 40.0, \"T_cpu\": 80.0, \"cpu.usage\": 100.0})\n",
    "\n",
    "# run design\n",
    "cpu.run_drivers()"
   ]
  },
  {
   "cell_type": "code",
   "execution_count": null,
   "id": "1e856ec5-708f-4b53-b48f-8892cee20f31",
   "metadata": {},
   "outputs": [],
   "source": [
    "cpu.exchanger.surface"
   ]
  },
  {
   "cell_type": "code",
   "execution_count": null,
   "id": "c77395e3-4764-4ceb-971a-26c614656583",
   "metadata": {},
   "outputs": [],
   "source": [
    "doe = cpu.add_driver(LinearDoE(\"doe\"))"
   ]
  },
  {
   "cell_type": "code",
   "execution_count": null,
   "id": "2f29e53c-bbbb-470e-88e5-a914e81530ce",
   "metadata": {},
   "outputs": [],
   "source": [
    "time_driver = doe.add_child(RungeKutta(order=3))\n",
    "solver = time_driver.add_child(NonLinearSolver(\"solver\", max_iter=10, factor=1.0))\n",
    "time_driver.time_interval = [0, 30]\n",
    "time_driver.dt = 0.5\n",
    "\n",
    "# Define a simulation scenario\n",
    "time_driver.set_scenario(\n",
    "    init={\"T_cpu\": 30, \"fan.mass_flow_scalar\": 1.0},\n",
    "    values={\n",
    "        # \"fan.T_air\": 40., mettre en commentaire !!! sinon remet à zéro quand on appelle time_driver\n",
    "        \"cpu.usage\": \"100 if time <20 else 0.\"\n",
    "    },\n",
    ")"
   ]
  },
  {
   "cell_type": "code",
   "execution_count": null,
   "id": "5f60cfff-f444-48df-9c91-c895d833c778",
   "metadata": {},
   "outputs": [],
   "source": [
    "doe.add_input_var({\"fan.T_air\": {\"lower\": 0.0, \"upper\": 30.0, \"count\": sampleNumbers}})"
   ]
  },
  {
   "cell_type": "code",
   "execution_count": null,
   "id": "601091d5-faa3-4dd8-b63f-4c2c6d3bfcab",
   "metadata": {},
   "outputs": [],
   "source": [
    "doe.add_recorder(\n",
    "    DataFrameRecorder(\n",
    "        includes=[\"fan.tension\", \"cpu.usage\", \"T_cpu\", \"fan.T_air\", \"exchanger.surface\"]\n",
    "    )\n",
    ")"
   ]
  },
  {
   "cell_type": "code",
   "execution_count": null,
   "id": "c63e6376-4df0-4169-b28e-93723db4e6dd",
   "metadata": {},
   "outputs": [],
   "source": [
    "cpu.fan.T_air"
   ]
  },
  {
   "cell_type": "code",
   "execution_count": null,
   "id": "1ea95163-3c1f-480c-8384-2a15836923fd",
   "metadata": {},
   "outputs": [],
   "source": [
    "cpu.run_drivers()"
   ]
  },
  {
   "cell_type": "markdown",
   "id": "266adc0e-96ae-4a37-ab89-f5dc494f14a1",
   "metadata": {},
   "source": [
    "# Dataset creation"
   ]
  },
  {
   "cell_type": "code",
   "execution_count": null,
   "id": "e7a4e20f-3e92-4f0f-97b2-cd3fba28c1dd",
   "metadata": {},
   "outputs": [],
   "source": [
    "df = doe.recorder.data"
   ]
  },
  {
   "cell_type": "code",
   "execution_count": null,
   "id": "c4fb1402-70e7-4e19-8f70-27b93185d467",
   "metadata": {},
   "outputs": [],
   "source": [
    "working = [True for k in range(len(df))]"
   ]
  },
  {
   "cell_type": "code",
   "execution_count": null,
   "id": "ed134ffd-cb54-4e2f-a763-0a117cfefbd2",
   "metadata": {},
   "outputs": [],
   "source": [
    "df = df.assign(working=working)\n",
    "df"
   ]
  },
  {
   "cell_type": "code",
   "execution_count": null,
   "id": "d04ea547-0c18-4b4e-804c-952574ba1418",
   "metadata": {},
   "outputs": [],
   "source": [
    "time_driver.set_scenario(\n",
    "    init={\"T_cpu\": 30, \"fan.mass_flow_scalar\": 0.0},\n",
    "    values={\n",
    "        # \"fan.T_air\": 40., mettre en commentaire !!! sinon remet à zéro quand on appelle time_driver\n",
    "        \"cpu.usage\": \"100 if time <20 else 0.\"\n",
    "    },\n",
    ")"
   ]
  },
  {
   "cell_type": "code",
   "execution_count": null,
   "id": "48475b3c-c7cc-4a4f-84c3-5ea78a4b3b9b",
   "metadata": {},
   "outputs": [],
   "source": [
    "cpu.run_drivers()"
   ]
  },
  {
   "cell_type": "markdown",
   "id": "1bf514ea-cf85-483b-be5f-9aa14923a8c2",
   "metadata": {},
   "source": [
    "# Test set creation"
   ]
  },
  {
   "cell_type": "code",
   "execution_count": null,
   "id": "3ba1a48c-8709-4bc9-be56-db1b90429642",
   "metadata": {},
   "outputs": [],
   "source": [
    "df2 = doe.recorder.data"
   ]
  },
  {
   "cell_type": "code",
   "execution_count": null,
   "id": "c7153a66-cd2d-4564-8181-ded51bbdbad1",
   "metadata": {},
   "outputs": [],
   "source": [
    "working = [False for k in range(len(df2))]"
   ]
  },
  {
   "cell_type": "code",
   "execution_count": null,
   "id": "ce58c92c-6f23-406d-a3ff-ca96d8dc5aa5",
   "metadata": {},
   "outputs": [],
   "source": [
    "df2 = df2.assign(working=working)\n",
    "df2"
   ]
  },
  {
   "cell_type": "code",
   "execution_count": null,
   "id": "d6eaf600-e223-4e38-8bdf-84e6f32fa0ce",
   "metadata": {},
   "outputs": [],
   "source": [
    "dfclean = df.drop(\n",
    "    [\"Section\", \"Status\", \"Error code\", \"Reference\", \"cpu.usage\", \"exchanger.surface\"], axis=1\n",
    ")"
   ]
  },
  {
   "cell_type": "code",
   "execution_count": null,
   "id": "af54e79e-e47e-4dee-b01d-26257cda924f",
   "metadata": {},
   "outputs": [],
   "source": [
    "df2clean = df2.drop(\n",
    "    [\"Section\", \"Status\", \"Error code\", \"Reference\", \"cpu.usage\", \"exchanger.surface\"], axis=1\n",
    ")"
   ]
  },
  {
   "cell_type": "code",
   "execution_count": null,
   "id": "53874410-22f2-4555-860a-10971e3f4f9e",
   "metadata": {},
   "outputs": [],
   "source": [
    "dataset = []\n",
    "for k in range(datasetSize):\n",
    "    if k < datasetSize * percentageBroken / 100:\n",
    "        i = rd.randint(0, len(df2clean) - 1)\n",
    "        dataset.append(df2clean.iloc[i])\n",
    "        df2clean = df2clean.drop(df2clean.index[i])\n",
    "    else:\n",
    "        i = rd.randint(0, len(dfclean) - 1)\n",
    "        dataset.append(dfclean.iloc[i])\n",
    "        dfclean = dfclean.drop(dfclean.index[i])\n",
    "    dataset[k].name = k\n",
    "\n",
    "dfclean = df.drop(\n",
    "    [\"Section\", \"Status\", \"Error code\", \"Reference\", \"cpu.usage\", \"exchanger.surface\"], axis=1\n",
    ")\n",
    "df2clean = df2.drop(\n",
    "    [\"Section\", \"Status\", \"Error code\", \"Reference\", \"cpu.usage\", \"exchanger.surface\"], axis=1\n",
    ")"
   ]
  },
  {
   "cell_type": "code",
   "execution_count": null,
   "id": "e46de34a-b757-4d02-bb4b-1354185f63a2",
   "metadata": {},
   "outputs": [],
   "source": [
    "\"\"\"\n",
    "dataset=[]\n",
    "for k in range(tailleDataset):\n",
    "    if k < tailleDataset*percentageCasse/100:\n",
    "        i=rd.randint(0, len(dfclean)-1)\n",
    "        dataset.append(df2clean.iloc[i])\n",
    "    else:\n",
    "        i=rd.randint(0, len(dfclean)-1)\n",
    "        dataset.append(dfclean.iloc[i])\n",
    "    dataset[k].name=k\n",
    "\"\"\""
   ]
  },
  {
   "cell_type": "code",
   "execution_count": null,
   "id": "cbaa283b-db04-470e-9199-b138f16505ac",
   "metadata": {},
   "outputs": [],
   "source": [
    "type(dfclean.iloc[1])"
   ]
  },
  {
   "cell_type": "code",
   "execution_count": null,
   "id": "aefae11e-5d91-4fbf-9d98-a26e01cf4e08",
   "metadata": {},
   "outputs": [],
   "source": [
    "cols = [\"T_cpu\", \"fan.T_air\", \"fan.tension\", \"working\"]\n",
    "dfFinal = pd.DataFrame(dataset, columns=cols)"
   ]
  },
  {
   "cell_type": "code",
   "execution_count": null,
   "id": "94d8950c-bf4d-4d4f-8aad-2faca4f5aaf4",
   "metadata": {},
   "outputs": [],
   "source": [
    "dfFinal"
   ]
  },
  {
   "cell_type": "code",
   "execution_count": null,
   "id": "494df1f2-93e3-4007-8873-7cd2f334e9e2",
   "metadata": {},
   "outputs": [],
   "source": [
    "dfFinal.to_csv(\n",
    "    f\"data/dataset_{datasetSize}_cases_{percentageBroken}_percent_broken.csv\", index=False\n",
    ")"
   ]
  },
  {
   "cell_type": "code",
   "execution_count": null,
   "id": "73f2741c-fa09-4a5c-b3ce-f7f40d46b788",
   "metadata": {},
   "outputs": [],
   "source": []
  },
  {
   "cell_type": "code",
   "execution_count": null,
   "id": "71d7921f-ab46-46df-bb6f-8d3cbf853be9",
   "metadata": {},
   "outputs": [],
   "source": [
    "dataset = []\n",
    "for k in range(datasetSize):\n",
    "    dataset.append(df2clean.iloc[k])\n",
    "    dataset.append(dfclean.iloc[k])\n",
    "    dataset[2 * k].name = 2 * k\n",
    "    dataset[2 * k + 1].name = 2 * k + 1"
   ]
  },
  {
   "cell_type": "code",
   "execution_count": null,
   "id": "9e17fd9a-9114-4de2-b7a8-00a1dcc439eb",
   "metadata": {},
   "outputs": [],
   "source": [
    "len(dataset)"
   ]
  },
  {
   "cell_type": "code",
   "execution_count": null,
   "id": "79d6c0fb-0103-463f-9f04-31320f19df1f",
   "metadata": {},
   "outputs": [],
   "source": [
    "cols = [\"T_cpu\", \"fan.T_air\", \"fan.tension\", \"working\"]\n",
    "testfinal = pd.DataFrame(dataset, columns=cols)\n",
    "testfinal.to_csv(\n",
    "    f\"data/test_set_{datasetSize}_cases_{percentageBroken}_percent_broken.csv\", index=False\n",
    ")"
   ]
  }
 ],
 "metadata": {
  "kernelspec": {
   "display_name": "Python 3",
   "language": "python",
   "name": "python3"
  },
  "language_info": {
   "codemirror_mode": {
    "name": "ipython",
    "version": 3
   },
   "file_extension": ".py",
   "mimetype": "text/x-python",
   "name": "python",
   "nbconvert_exporter": "python",
   "pygments_lexer": "ipython3",
   "version": "3.12.9"
  }
 },
 "nbformat": 4,
 "nbformat_minor": 5
}
