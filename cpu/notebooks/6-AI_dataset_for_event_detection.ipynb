{
 "cells": [
  {
   "cell_type": "markdown",
   "id": "3307cf46",
   "metadata": {},
   "source": [
    "# Fault diagnostic using simulated data\n",
    "\n",
    "We have computers and we want to know whether their cpu is broken or not.   \n",
    "To be able to know that we use the model of the digital twin to create a model of the cpu.   \n",
    "The digital twin is a way to modelize something material with a program and visualize it on the computer.  \n",
    "This model allows us to create a lot of data that we will use to train an AI model."
   ]
  },
  {
   "cell_type": "code",
   "execution_count": 1,
   "id": "c300cb82-d5cf-4f58-ad8a-f2bcd9a7f41a",
   "metadata": {},
   "outputs": [],
   "source": [
    "import random as rd\n",
    "import pandas as pd\n",
    "\n",
    "from cosapp.drivers import NonLinearSolver, RungeKutta, LinearDoE, RunSingleCase\n",
    "from cosapp.recorders import DataFrameRecorder\n",
    "\n",
    "from cpu.systems import CPUSystem"
   ]
  },
  {
   "cell_type": "markdown",
   "id": "6f1f99b5",
   "metadata": {},
   "source": [
    "## Sequence definition of dataset simulation"
   ]
  },
  {
   "cell_type": "markdown",
   "id": "8ed991e3",
   "metadata": {},
   "source": [
    "To create our datasets we used two digital twins of a cpu made up of a fan, a cpu, a heat exchanger and a controler. The first is working without issue, the second has a broken fan and can't cool the cpu.      The simulation is a usage of 100% for 20 seconds and then 0% for 10 seconds. We take the temperature of the cpu after those 30 seconds.   \n",
    "\n",
    "We then run each digital twins for one thousand air temperature points (with the same distance between two adjacent points) from 0 to 30°C, for a total of two thousand cases. We then choose randomly 200 samples of the broken twin and 800 from the one working.   \n",
    "To avoid giving the exact same data in the training and testing sets we won't use the same number of points when running the digital twins: for the test set we will make one thousand and one. We then get the two thousand first cases (one thousand broken and the others working) to create our test set.   \n",
    "The data given in the dataset impact the way our neural network learns. Try to change the dataset: number, pourcentage of each class...   \n",
    "\n",
    "The data in our datasets are: the temperature of the air, the temperature of the cpu and the tension that should be used to make the fan spin."
   ]
  },
  {
   "cell_type": "code",
   "execution_count": 2,
   "id": "eefe8183-3ea1-491e-b649-74a99db0da0b",
   "metadata": {},
   "outputs": [],
   "source": [
    "sampleNumbers = 1001\n",
    "datasetSize = 1000\n",
    "percentageBroken = 20\n",
    "rd.seed(9)"
   ]
  },
  {
   "cell_type": "code",
   "execution_count": 3,
   "id": "8a44c17f-5ffc-4d08-aff1-97022a088d12",
   "metadata": {},
   "outputs": [],
   "source": [
    "cpu = CPUSystem(\"cpu\")\n",
    "cpu.fan.mass_flow_scalar = 1.0\n",
    "\n",
    "design = cpu.add_driver(NonLinearSolver(\"solver\"))\n",
    "runner = design.add_driver(RunSingleCase(\"runner\"))\n",
    "design.extend(cpu.design_methods[\"exchanger_surface\"])\n",
    "\n",
    "design.runner.set_values({\"fan.T_air\": 40.0, \"T_cpu\": 80.0, \"cpu.usage\": 100.0})\n",
    "\n",
    "# run design\n",
    "cpu.run_drivers()"
   ]
  },
  {
   "cell_type": "code",
   "execution_count": 4,
   "id": "1e856ec5-708f-4b53-b48f-8892cee20f31",
   "metadata": {},
   "outputs": [
    {
     "data": {
      "text/plain": [
       "np.float64(0.008467741935483872)"
      ]
     },
     "execution_count": 4,
     "metadata": {},
     "output_type": "execute_result"
    }
   ],
   "source": [
    "cpu.exchanger.surface"
   ]
  },
  {
   "cell_type": "code",
   "execution_count": 5,
   "id": "c77395e3-4764-4ceb-971a-26c614656583",
   "metadata": {},
   "outputs": [],
   "source": [
    "doe = cpu.add_driver(LinearDoE(\"doe\"))"
   ]
  },
  {
   "cell_type": "code",
   "execution_count": 6,
   "id": "2f29e53c-bbbb-470e-88e5-a914e81530ce",
   "metadata": {},
   "outputs": [],
   "source": [
    "time_driver = doe.add_child(RungeKutta(order=3))\n",
    "solver = time_driver.add_child(NonLinearSolver(\"solver\", max_iter=10, factor=1.0))\n",
    "time_driver.time_interval = [0, 30]\n",
    "time_driver.dt = 0.5\n",
    "\n",
    "# Define a simulation scenario\n",
    "time_driver.set_scenario(\n",
    "    init={\"T_cpu\": 30, \"fan.mass_flow_scalar\": 1.0},\n",
    "    values={\n",
    "        # \"fan.T_air\": 40., mettre en commentaire !!! sinon remet à zéro quand on appelle time_driver\n",
    "        \"cpu.usage\": \"100 if time <20 else 0.\"\n",
    "    },\n",
    ")"
   ]
  },
  {
   "cell_type": "code",
   "execution_count": 7,
   "id": "5f60cfff-f444-48df-9c91-c895d833c778",
   "metadata": {},
   "outputs": [],
   "source": [
    "doe.add_input_var({\"fan.T_air\": {\"lower\": 0.0, \"upper\": 30.0, \"count\": sampleNumbers}})"
   ]
  },
  {
   "cell_type": "code",
   "execution_count": 8,
   "id": "601091d5-faa3-4dd8-b63f-4c2c6d3bfcab",
   "metadata": {},
   "outputs": [
    {
     "data": {
      "text/plain": [
       "<cosapp.recorders.dataframe_recorder.DataFrameRecorder at 0x7043ee2ef950>"
      ]
     },
     "execution_count": 8,
     "metadata": {},
     "output_type": "execute_result"
    }
   ],
   "source": [
    "doe.add_recorder(\n",
    "    DataFrameRecorder(\n",
    "        includes=[\"fan.tension\", \"cpu.usage\", \"T_cpu\", \"fan.T_air\", \"exchanger.surface\"]\n",
    "    )\n",
    ")"
   ]
  },
  {
   "cell_type": "code",
   "execution_count": 9,
   "id": "c63e6376-4df0-4169-b28e-93723db4e6dd",
   "metadata": {},
   "outputs": [
    {
     "data": {
      "text/plain": [
       "40.0"
      ]
     },
     "execution_count": 9,
     "metadata": {},
     "output_type": "execute_result"
    }
   ],
   "source": [
    "cpu.fan.T_air"
   ]
  },
  {
   "cell_type": "code",
   "execution_count": 10,
   "id": "1ea95163-3c1f-480c-8384-2a15836923fd",
   "metadata": {},
   "outputs": [],
   "source": [
    "cpu.run_drivers()"
   ]
  },
  {
   "cell_type": "markdown",
   "id": "266adc0e-96ae-4a37-ab89-f5dc494f14a1",
   "metadata": {},
   "source": [
    "# Dataset creation"
   ]
  },
  {
   "cell_type": "code",
   "execution_count": 11,
   "id": "e7a4e20f-3e92-4f0f-97b2-cd3fba28c1dd",
   "metadata": {},
   "outputs": [],
   "source": [
    "df = doe.recorder.data"
   ]
  },
  {
   "cell_type": "code",
   "execution_count": 12,
   "id": "c4fb1402-70e7-4e19-8f70-27b93185d467",
   "metadata": {},
   "outputs": [],
   "source": [
    "working = [True for k in range(len(df))]"
   ]
  },
  {
   "cell_type": "code",
   "execution_count": 13,
   "id": "ed134ffd-cb54-4e2f-a763-0a117cfefbd2",
   "metadata": {},
   "outputs": [
    {
     "data": {
      "text/html": [
       "<div>\n",
       "<style scoped>\n",
       "    .dataframe tbody tr th:only-of-type {\n",
       "        vertical-align: middle;\n",
       "    }\n",
       "\n",
       "    .dataframe tbody tr th {\n",
       "        vertical-align: top;\n",
       "    }\n",
       "\n",
       "    .dataframe thead th {\n",
       "        text-align: right;\n",
       "    }\n",
       "</style>\n",
       "<table border=\"1\" class=\"dataframe\">\n",
       "  <thead>\n",
       "    <tr style=\"text-align: right;\">\n",
       "      <th></th>\n",
       "      <th>Section</th>\n",
       "      <th>Status</th>\n",
       "      <th>Error code</th>\n",
       "      <th>Reference</th>\n",
       "      <th>T_cpu</th>\n",
       "      <th>cpu.usage</th>\n",
       "      <th>exchanger.surface</th>\n",
       "      <th>fan.T_air</th>\n",
       "      <th>fan.tension</th>\n",
       "      <th>working</th>\n",
       "    </tr>\n",
       "  </thead>\n",
       "  <tbody>\n",
       "    <tr>\n",
       "      <th>0</th>\n",
       "      <td></td>\n",
       "      <td></td>\n",
       "      <td>0</td>\n",
       "      <td>0</td>\n",
       "      <td>29.541101</td>\n",
       "      <td>0.0</td>\n",
       "      <td>0.008468</td>\n",
       "      <td>0.00</td>\n",
       "      <td>0.0</td>\n",
       "      <td>True</td>\n",
       "    </tr>\n",
       "    <tr>\n",
       "      <th>1</th>\n",
       "      <td></td>\n",
       "      <td></td>\n",
       "      <td>0</td>\n",
       "      <td>1</td>\n",
       "      <td>29.568053</td>\n",
       "      <td>0.0</td>\n",
       "      <td>0.008468</td>\n",
       "      <td>0.03</td>\n",
       "      <td>0.0</td>\n",
       "      <td>True</td>\n",
       "    </tr>\n",
       "    <tr>\n",
       "      <th>2</th>\n",
       "      <td></td>\n",
       "      <td></td>\n",
       "      <td>0</td>\n",
       "      <td>2</td>\n",
       "      <td>29.595005</td>\n",
       "      <td>0.0</td>\n",
       "      <td>0.008468</td>\n",
       "      <td>0.06</td>\n",
       "      <td>0.0</td>\n",
       "      <td>True</td>\n",
       "    </tr>\n",
       "    <tr>\n",
       "      <th>3</th>\n",
       "      <td></td>\n",
       "      <td></td>\n",
       "      <td>0</td>\n",
       "      <td>3</td>\n",
       "      <td>29.621957</td>\n",
       "      <td>0.0</td>\n",
       "      <td>0.008468</td>\n",
       "      <td>0.09</td>\n",
       "      <td>0.0</td>\n",
       "      <td>True</td>\n",
       "    </tr>\n",
       "    <tr>\n",
       "      <th>4</th>\n",
       "      <td></td>\n",
       "      <td></td>\n",
       "      <td>0</td>\n",
       "      <td>4</td>\n",
       "      <td>29.648909</td>\n",
       "      <td>0.0</td>\n",
       "      <td>0.008468</td>\n",
       "      <td>0.12</td>\n",
       "      <td>0.0</td>\n",
       "      <td>True</td>\n",
       "    </tr>\n",
       "    <tr>\n",
       "      <th>...</th>\n",
       "      <td>...</td>\n",
       "      <td>...</td>\n",
       "      <td>...</td>\n",
       "      <td>...</td>\n",
       "      <td>...</td>\n",
       "      <td>...</td>\n",
       "      <td>...</td>\n",
       "      <td>...</td>\n",
       "      <td>...</td>\n",
       "      <td>...</td>\n",
       "    </tr>\n",
       "    <tr>\n",
       "      <th>996</th>\n",
       "      <td></td>\n",
       "      <td></td>\n",
       "      <td>0</td>\n",
       "      <td>996</td>\n",
       "      <td>44.464961</td>\n",
       "      <td>0.0</td>\n",
       "      <td>0.008468</td>\n",
       "      <td>29.88</td>\n",
       "      <td>6.0</td>\n",
       "      <td>True</td>\n",
       "    </tr>\n",
       "    <tr>\n",
       "      <th>997</th>\n",
       "      <td></td>\n",
       "      <td></td>\n",
       "      <td>0</td>\n",
       "      <td>997</td>\n",
       "      <td>44.493687</td>\n",
       "      <td>0.0</td>\n",
       "      <td>0.008468</td>\n",
       "      <td>29.91</td>\n",
       "      <td>6.0</td>\n",
       "      <td>True</td>\n",
       "    </tr>\n",
       "    <tr>\n",
       "      <th>998</th>\n",
       "      <td></td>\n",
       "      <td></td>\n",
       "      <td>0</td>\n",
       "      <td>998</td>\n",
       "      <td>44.522414</td>\n",
       "      <td>0.0</td>\n",
       "      <td>0.008468</td>\n",
       "      <td>29.94</td>\n",
       "      <td>6.0</td>\n",
       "      <td>True</td>\n",
       "    </tr>\n",
       "    <tr>\n",
       "      <th>999</th>\n",
       "      <td></td>\n",
       "      <td></td>\n",
       "      <td>0</td>\n",
       "      <td>999</td>\n",
       "      <td>44.551140</td>\n",
       "      <td>0.0</td>\n",
       "      <td>0.008468</td>\n",
       "      <td>29.97</td>\n",
       "      <td>6.0</td>\n",
       "      <td>True</td>\n",
       "    </tr>\n",
       "    <tr>\n",
       "      <th>1000</th>\n",
       "      <td></td>\n",
       "      <td></td>\n",
       "      <td>0</td>\n",
       "      <td>1000</td>\n",
       "      <td>44.579867</td>\n",
       "      <td>0.0</td>\n",
       "      <td>0.008468</td>\n",
       "      <td>30.00</td>\n",
       "      <td>6.0</td>\n",
       "      <td>True</td>\n",
       "    </tr>\n",
       "  </tbody>\n",
       "</table>\n",
       "<p>1001 rows × 10 columns</p>\n",
       "</div>"
      ],
      "text/plain": [
       "     Section Status Error code Reference      T_cpu  cpu.usage  \\\n",
       "0                            0         0  29.541101        0.0   \n",
       "1                            0         1  29.568053        0.0   \n",
       "2                            0         2  29.595005        0.0   \n",
       "3                            0         3  29.621957        0.0   \n",
       "4                            0         4  29.648909        0.0   \n",
       "...      ...    ...        ...       ...        ...        ...   \n",
       "996                          0       996  44.464961        0.0   \n",
       "997                          0       997  44.493687        0.0   \n",
       "998                          0       998  44.522414        0.0   \n",
       "999                          0       999  44.551140        0.0   \n",
       "1000                         0      1000  44.579867        0.0   \n",
       "\n",
       "      exchanger.surface  fan.T_air  fan.tension  working  \n",
       "0              0.008468       0.00          0.0     True  \n",
       "1              0.008468       0.03          0.0     True  \n",
       "2              0.008468       0.06          0.0     True  \n",
       "3              0.008468       0.09          0.0     True  \n",
       "4              0.008468       0.12          0.0     True  \n",
       "...                 ...        ...          ...      ...  \n",
       "996            0.008468      29.88          6.0     True  \n",
       "997            0.008468      29.91          6.0     True  \n",
       "998            0.008468      29.94          6.0     True  \n",
       "999            0.008468      29.97          6.0     True  \n",
       "1000           0.008468      30.00          6.0     True  \n",
       "\n",
       "[1001 rows x 10 columns]"
      ]
     },
     "execution_count": 13,
     "metadata": {},
     "output_type": "execute_result"
    }
   ],
   "source": [
    "df = df.assign(working=working)\n",
    "df"
   ]
  },
  {
   "cell_type": "code",
   "execution_count": 14,
   "id": "d04ea547-0c18-4b4e-804c-952574ba1418",
   "metadata": {},
   "outputs": [],
   "source": [
    "time_driver.set_scenario(\n",
    "    init={\"T_cpu\": 30, \"fan.mass_flow_scalar\": 0.0},\n",
    "    values={\n",
    "        # \"fan.T_air\": 40., mettre en commentaire !!! sinon remet à zéro quand on appelle time_driver\n",
    "        \"cpu.usage\": \"100 if time <20 else 0.\"\n",
    "    },\n",
    ")"
   ]
  },
  {
   "cell_type": "code",
   "execution_count": 15,
   "id": "48475b3c-c7cc-4a4f-84c3-5ea78a4b3b9b",
   "metadata": {},
   "outputs": [],
   "source": [
    "cpu.run_drivers()"
   ]
  },
  {
   "cell_type": "markdown",
   "id": "1bf514ea-cf85-483b-be5f-9aa14923a8c2",
   "metadata": {},
   "source": [
    "# Test set creation"
   ]
  },
  {
   "cell_type": "code",
   "execution_count": 16,
   "id": "3ba1a48c-8709-4bc9-be56-db1b90429642",
   "metadata": {},
   "outputs": [],
   "source": [
    "df2 = doe.recorder.data"
   ]
  },
  {
   "cell_type": "code",
   "execution_count": 17,
   "id": "c7153a66-cd2d-4564-8181-ded51bbdbad1",
   "metadata": {},
   "outputs": [],
   "source": [
    "working = [False for k in range(len(df2))]"
   ]
  },
  {
   "cell_type": "code",
   "execution_count": 18,
   "id": "ce58c92c-6f23-406d-a3ff-ca96d8dc5aa5",
   "metadata": {},
   "outputs": [
    {
     "data": {
      "text/html": [
       "<div>\n",
       "<style scoped>\n",
       "    .dataframe tbody tr th:only-of-type {\n",
       "        vertical-align: middle;\n",
       "    }\n",
       "\n",
       "    .dataframe tbody tr th {\n",
       "        vertical-align: top;\n",
       "    }\n",
       "\n",
       "    .dataframe thead th {\n",
       "        text-align: right;\n",
       "    }\n",
       "</style>\n",
       "<table border=\"1\" class=\"dataframe\">\n",
       "  <thead>\n",
       "    <tr style=\"text-align: right;\">\n",
       "      <th></th>\n",
       "      <th>Section</th>\n",
       "      <th>Status</th>\n",
       "      <th>Error code</th>\n",
       "      <th>Reference</th>\n",
       "      <th>T_cpu</th>\n",
       "      <th>cpu.usage</th>\n",
       "      <th>exchanger.surface</th>\n",
       "      <th>fan.T_air</th>\n",
       "      <th>fan.tension</th>\n",
       "      <th>working</th>\n",
       "    </tr>\n",
       "  </thead>\n",
       "  <tbody>\n",
       "    <tr>\n",
       "      <th>0</th>\n",
       "      <td></td>\n",
       "      <td></td>\n",
       "      <td>0</td>\n",
       "      <td>0</td>\n",
       "      <td>50.298624</td>\n",
       "      <td>0.0</td>\n",
       "      <td>0.008468</td>\n",
       "      <td>0.00</td>\n",
       "      <td>6.0</td>\n",
       "      <td>False</td>\n",
       "    </tr>\n",
       "    <tr>\n",
       "      <th>1</th>\n",
       "      <td></td>\n",
       "      <td></td>\n",
       "      <td>0</td>\n",
       "      <td>1</td>\n",
       "      <td>50.321205</td>\n",
       "      <td>0.0</td>\n",
       "      <td>0.008468</td>\n",
       "      <td>0.03</td>\n",
       "      <td>6.0</td>\n",
       "      <td>False</td>\n",
       "    </tr>\n",
       "    <tr>\n",
       "      <th>2</th>\n",
       "      <td></td>\n",
       "      <td></td>\n",
       "      <td>0</td>\n",
       "      <td>2</td>\n",
       "      <td>50.343786</td>\n",
       "      <td>0.0</td>\n",
       "      <td>0.008468</td>\n",
       "      <td>0.06</td>\n",
       "      <td>6.0</td>\n",
       "      <td>False</td>\n",
       "    </tr>\n",
       "    <tr>\n",
       "      <th>3</th>\n",
       "      <td></td>\n",
       "      <td></td>\n",
       "      <td>0</td>\n",
       "      <td>3</td>\n",
       "      <td>50.366367</td>\n",
       "      <td>0.0</td>\n",
       "      <td>0.008468</td>\n",
       "      <td>0.09</td>\n",
       "      <td>6.0</td>\n",
       "      <td>False</td>\n",
       "    </tr>\n",
       "    <tr>\n",
       "      <th>4</th>\n",
       "      <td></td>\n",
       "      <td></td>\n",
       "      <td>0</td>\n",
       "      <td>4</td>\n",
       "      <td>50.388948</td>\n",
       "      <td>0.0</td>\n",
       "      <td>0.008468</td>\n",
       "      <td>0.12</td>\n",
       "      <td>6.0</td>\n",
       "      <td>False</td>\n",
       "    </tr>\n",
       "    <tr>\n",
       "      <th>...</th>\n",
       "      <td>...</td>\n",
       "      <td>...</td>\n",
       "      <td>...</td>\n",
       "      <td>...</td>\n",
       "      <td>...</td>\n",
       "      <td>...</td>\n",
       "      <td>...</td>\n",
       "      <td>...</td>\n",
       "      <td>...</td>\n",
       "      <td>...</td>\n",
       "    </tr>\n",
       "    <tr>\n",
       "      <th>996</th>\n",
       "      <td></td>\n",
       "      <td></td>\n",
       "      <td>0</td>\n",
       "      <td>996</td>\n",
       "      <td>72.789485</td>\n",
       "      <td>0.0</td>\n",
       "      <td>0.008468</td>\n",
       "      <td>29.88</td>\n",
       "      <td>12.0</td>\n",
       "      <td>False</td>\n",
       "    </tr>\n",
       "    <tr>\n",
       "      <th>997</th>\n",
       "      <td></td>\n",
       "      <td></td>\n",
       "      <td>0</td>\n",
       "      <td>997</td>\n",
       "      <td>72.812066</td>\n",
       "      <td>0.0</td>\n",
       "      <td>0.008468</td>\n",
       "      <td>29.91</td>\n",
       "      <td>12.0</td>\n",
       "      <td>False</td>\n",
       "    </tr>\n",
       "    <tr>\n",
       "      <th>998</th>\n",
       "      <td></td>\n",
       "      <td></td>\n",
       "      <td>0</td>\n",
       "      <td>998</td>\n",
       "      <td>72.834647</td>\n",
       "      <td>0.0</td>\n",
       "      <td>0.008468</td>\n",
       "      <td>29.94</td>\n",
       "      <td>12.0</td>\n",
       "      <td>False</td>\n",
       "    </tr>\n",
       "    <tr>\n",
       "      <th>999</th>\n",
       "      <td></td>\n",
       "      <td></td>\n",
       "      <td>0</td>\n",
       "      <td>999</td>\n",
       "      <td>72.857228</td>\n",
       "      <td>0.0</td>\n",
       "      <td>0.008468</td>\n",
       "      <td>29.97</td>\n",
       "      <td>12.0</td>\n",
       "      <td>False</td>\n",
       "    </tr>\n",
       "    <tr>\n",
       "      <th>1000</th>\n",
       "      <td></td>\n",
       "      <td></td>\n",
       "      <td>0</td>\n",
       "      <td>1000</td>\n",
       "      <td>72.879810</td>\n",
       "      <td>0.0</td>\n",
       "      <td>0.008468</td>\n",
       "      <td>30.00</td>\n",
       "      <td>12.0</td>\n",
       "      <td>False</td>\n",
       "    </tr>\n",
       "  </tbody>\n",
       "</table>\n",
       "<p>1001 rows × 10 columns</p>\n",
       "</div>"
      ],
      "text/plain": [
       "     Section Status Error code Reference      T_cpu  cpu.usage  \\\n",
       "0                            0         0  50.298624        0.0   \n",
       "1                            0         1  50.321205        0.0   \n",
       "2                            0         2  50.343786        0.0   \n",
       "3                            0         3  50.366367        0.0   \n",
       "4                            0         4  50.388948        0.0   \n",
       "...      ...    ...        ...       ...        ...        ...   \n",
       "996                          0       996  72.789485        0.0   \n",
       "997                          0       997  72.812066        0.0   \n",
       "998                          0       998  72.834647        0.0   \n",
       "999                          0       999  72.857228        0.0   \n",
       "1000                         0      1000  72.879810        0.0   \n",
       "\n",
       "      exchanger.surface  fan.T_air  fan.tension  working  \n",
       "0              0.008468       0.00          6.0    False  \n",
       "1              0.008468       0.03          6.0    False  \n",
       "2              0.008468       0.06          6.0    False  \n",
       "3              0.008468       0.09          6.0    False  \n",
       "4              0.008468       0.12          6.0    False  \n",
       "...                 ...        ...          ...      ...  \n",
       "996            0.008468      29.88         12.0    False  \n",
       "997            0.008468      29.91         12.0    False  \n",
       "998            0.008468      29.94         12.0    False  \n",
       "999            0.008468      29.97         12.0    False  \n",
       "1000           0.008468      30.00         12.0    False  \n",
       "\n",
       "[1001 rows x 10 columns]"
      ]
     },
     "execution_count": 18,
     "metadata": {},
     "output_type": "execute_result"
    }
   ],
   "source": [
    "df2 = df2.assign(working=working)\n",
    "df2"
   ]
  },
  {
   "cell_type": "code",
   "execution_count": 19,
   "id": "d6eaf600-e223-4e38-8bdf-84e6f32fa0ce",
   "metadata": {},
   "outputs": [],
   "source": [
    "dfclean = df.drop(\n",
    "    [\"Section\", \"Status\", \"Error code\", \"Reference\", \"cpu.usage\", \"exchanger.surface\"], axis=1\n",
    ")"
   ]
  },
  {
   "cell_type": "code",
   "execution_count": 20,
   "id": "af54e79e-e47e-4dee-b01d-26257cda924f",
   "metadata": {},
   "outputs": [],
   "source": [
    "df2clean = df2.drop(\n",
    "    [\"Section\", \"Status\", \"Error code\", \"Reference\", \"cpu.usage\", \"exchanger.surface\"], axis=1\n",
    ")"
   ]
  },
  {
   "cell_type": "code",
   "execution_count": 21,
   "id": "53874410-22f2-4555-860a-10971e3f4f9e",
   "metadata": {},
   "outputs": [],
   "source": [
    "dataset = []\n",
    "for k in range(datasetSize):\n",
    "    if k < datasetSize * percentageBroken / 100:\n",
    "        i = rd.randint(0, len(df2clean) - 1)\n",
    "        dataset.append(df2clean.iloc[i])\n",
    "        df2clean = df2clean.drop(df2clean.index[i])\n",
    "    else:\n",
    "        i = rd.randint(0, len(dfclean) - 1)\n",
    "        dataset.append(dfclean.iloc[i])\n",
    "        dfclean = dfclean.drop(dfclean.index[i])\n",
    "    dataset[k].name = k\n",
    "\n",
    "dfclean = df.drop(\n",
    "    [\"Section\", \"Status\", \"Error code\", \"Reference\", \"cpu.usage\", \"exchanger.surface\"], axis=1\n",
    ")\n",
    "df2clean = df2.drop(\n",
    "    [\"Section\", \"Status\", \"Error code\", \"Reference\", \"cpu.usage\", \"exchanger.surface\"], axis=1\n",
    ")"
   ]
  },
  {
   "cell_type": "code",
   "execution_count": 22,
   "id": "e46de34a-b757-4d02-bb4b-1354185f63a2",
   "metadata": {},
   "outputs": [
    {
     "data": {
      "text/plain": [
       "'\\ndataset=[]\\nfor k in range(tailleDataset):\\n    if k < tailleDataset*percentageCasse/100:\\n        i=rd.randint(0, len(dfclean)-1)\\n        dataset.append(df2clean.iloc[i])\\n    else:\\n        i=rd.randint(0, len(dfclean)-1)\\n        dataset.append(dfclean.iloc[i])\\n    dataset[k].name=k\\n'"
      ]
     },
     "execution_count": 22,
     "metadata": {},
     "output_type": "execute_result"
    }
   ],
   "source": [
    "\"\"\"\n",
    "dataset=[]\n",
    "for k in range(tailleDataset):\n",
    "    if k < tailleDataset*percentageCasse/100:\n",
    "        i=rd.randint(0, len(dfclean)-1)\n",
    "        dataset.append(df2clean.iloc[i])\n",
    "    else:\n",
    "        i=rd.randint(0, len(dfclean)-1)\n",
    "        dataset.append(dfclean.iloc[i])\n",
    "    dataset[k].name=k\n",
    "\"\"\""
   ]
  },
  {
   "cell_type": "code",
   "execution_count": 23,
   "id": "cbaa283b-db04-470e-9199-b138f16505ac",
   "metadata": {},
   "outputs": [
    {
     "data": {
      "text/plain": [
       "pandas.core.series.Series"
      ]
     },
     "execution_count": 23,
     "metadata": {},
     "output_type": "execute_result"
    }
   ],
   "source": [
    "type(dfclean.iloc[1])"
   ]
  },
  {
   "cell_type": "code",
   "execution_count": 24,
   "id": "aefae11e-5d91-4fbf-9d98-a26e01cf4e08",
   "metadata": {},
   "outputs": [],
   "source": [
    "cols = [\"T_cpu\", \"fan.T_air\", \"fan.tension\", \"working\"]\n",
    "dfFinal = pd.DataFrame(dataset, columns=cols)"
   ]
  },
  {
   "cell_type": "code",
   "execution_count": 25,
   "id": "94d8950c-bf4d-4d4f-8aad-2faca4f5aaf4",
   "metadata": {},
   "outputs": [
    {
     "data": {
      "text/html": [
       "<div>\n",
       "<style scoped>\n",
       "    .dataframe tbody tr th:only-of-type {\n",
       "        vertical-align: middle;\n",
       "    }\n",
       "\n",
       "    .dataframe tbody tr th {\n",
       "        vertical-align: top;\n",
       "    }\n",
       "\n",
       "    .dataframe thead th {\n",
       "        text-align: right;\n",
       "    }\n",
       "</style>\n",
       "<table border=\"1\" class=\"dataframe\">\n",
       "  <thead>\n",
       "    <tr style=\"text-align: right;\">\n",
       "      <th></th>\n",
       "      <th>T_cpu</th>\n",
       "      <th>fan.T_air</th>\n",
       "      <th>fan.tension</th>\n",
       "      <th>working</th>\n",
       "    </tr>\n",
       "  </thead>\n",
       "  <tbody>\n",
       "    <tr>\n",
       "      <th>0</th>\n",
       "      <td>61.002106</td>\n",
       "      <td>14.22</td>\n",
       "      <td>12.0</td>\n",
       "      <td>False</td>\n",
       "    </tr>\n",
       "    <tr>\n",
       "      <th>1</th>\n",
       "      <td>64.479608</td>\n",
       "      <td>18.84</td>\n",
       "      <td>12.0</td>\n",
       "      <td>False</td>\n",
       "    </tr>\n",
       "    <tr>\n",
       "      <th>2</th>\n",
       "      <td>58.924637</td>\n",
       "      <td>11.46</td>\n",
       "      <td>6.0</td>\n",
       "      <td>False</td>\n",
       "    </tr>\n",
       "    <tr>\n",
       "      <th>3</th>\n",
       "      <td>56.463287</td>\n",
       "      <td>8.19</td>\n",
       "      <td>6.0</td>\n",
       "      <td>False</td>\n",
       "    </tr>\n",
       "    <tr>\n",
       "      <th>4</th>\n",
       "      <td>53.482571</td>\n",
       "      <td>4.23</td>\n",
       "      <td>6.0</td>\n",
       "      <td>False</td>\n",
       "    </tr>\n",
       "    <tr>\n",
       "      <th>...</th>\n",
       "      <td>...</td>\n",
       "      <td>...</td>\n",
       "      <td>...</td>\n",
       "      <td>...</td>\n",
       "    </tr>\n",
       "    <tr>\n",
       "      <th>995</th>\n",
       "      <td>37.374200</td>\n",
       "      <td>18.15</td>\n",
       "      <td>0.0</td>\n",
       "      <td>True</td>\n",
       "    </tr>\n",
       "    <tr>\n",
       "      <th>996</th>\n",
       "      <td>31.414915</td>\n",
       "      <td>2.76</td>\n",
       "      <td>0.0</td>\n",
       "      <td>True</td>\n",
       "    </tr>\n",
       "    <tr>\n",
       "      <th>997</th>\n",
       "      <td>36.791209</td>\n",
       "      <td>16.17</td>\n",
       "      <td>0.0</td>\n",
       "      <td>True</td>\n",
       "    </tr>\n",
       "    <tr>\n",
       "      <th>998</th>\n",
       "      <td>33.335178</td>\n",
       "      <td>6.36</td>\n",
       "      <td>0.0</td>\n",
       "      <td>True</td>\n",
       "    </tr>\n",
       "    <tr>\n",
       "      <th>999</th>\n",
       "      <td>35.069083</td>\n",
       "      <td>11.16</td>\n",
       "      <td>0.0</td>\n",
       "      <td>True</td>\n",
       "    </tr>\n",
       "  </tbody>\n",
       "</table>\n",
       "<p>1000 rows × 4 columns</p>\n",
       "</div>"
      ],
      "text/plain": [
       "         T_cpu  fan.T_air  fan.tension  working\n",
       "0    61.002106      14.22         12.0    False\n",
       "1    64.479608      18.84         12.0    False\n",
       "2    58.924637      11.46          6.0    False\n",
       "3    56.463287       8.19          6.0    False\n",
       "4    53.482571       4.23          6.0    False\n",
       "..         ...        ...          ...      ...\n",
       "995  37.374200      18.15          0.0     True\n",
       "996  31.414915       2.76          0.0     True\n",
       "997  36.791209      16.17          0.0     True\n",
       "998  33.335178       6.36          0.0     True\n",
       "999  35.069083      11.16          0.0     True\n",
       "\n",
       "[1000 rows x 4 columns]"
      ]
     },
     "execution_count": 25,
     "metadata": {},
     "output_type": "execute_result"
    }
   ],
   "source": [
    "dfFinal"
   ]
  },
  {
   "cell_type": "code",
   "execution_count": 26,
   "id": "494df1f2-93e3-4007-8873-7cd2f334e9e2",
   "metadata": {},
   "outputs": [],
   "source": [
    "dfFinal.to_csv(\n",
    "    f\"data/dataset_{datasetSize}_cases_{percentageBroken}_percent_broken.csv\", index=False\n",
    ")"
   ]
  },
  {
   "cell_type": "code",
   "execution_count": null,
   "id": "73f2741c-fa09-4a5c-b3ce-f7f40d46b788",
   "metadata": {},
   "outputs": [],
   "source": []
  },
  {
   "cell_type": "code",
   "execution_count": 27,
   "id": "71d7921f-ab46-46df-bb6f-8d3cbf853be9",
   "metadata": {},
   "outputs": [],
   "source": [
    "dataset = []\n",
    "for k in range(datasetSize):\n",
    "    dataset.append(df2clean.iloc[k])\n",
    "    dataset.append(dfclean.iloc[k])\n",
    "    dataset[2 * k].name = 2 * k\n",
    "    dataset[2 * k + 1].name = 2 * k + 1"
   ]
  },
  {
   "cell_type": "code",
   "execution_count": 28,
   "id": "9e17fd9a-9114-4de2-b7a8-00a1dcc439eb",
   "metadata": {},
   "outputs": [
    {
     "data": {
      "text/plain": [
       "2000"
      ]
     },
     "execution_count": 28,
     "metadata": {},
     "output_type": "execute_result"
    }
   ],
   "source": [
    "len(dataset)"
   ]
  },
  {
   "cell_type": "code",
   "execution_count": 29,
   "id": "79d6c0fb-0103-463f-9f04-31320f19df1f",
   "metadata": {},
   "outputs": [],
   "source": [
    "cols = [\"T_cpu\", \"fan.T_air\", \"fan.tension\", \"working\"]\n",
    "testfinal = pd.DataFrame(dataset, columns=cols)\n",
    "testfinal.to_csv(\n",
    "    f\"data/test_set_{datasetSize}_cases_{percentageBroken}_percent_broken.csv\", index=False\n",
    ")"
   ]
  }
 ],
 "metadata": {
  "kernelspec": {
   "display_name": "Python 3",
   "language": "python",
   "name": "python3"
  },
  "language_info": {
   "codemirror_mode": {
    "name": "ipython",
    "version": 3
   },
   "file_extension": ".py",
   "mimetype": "text/x-python",
   "name": "python",
   "nbconvert_exporter": "python",
   "pygments_lexer": "ipython3",
   "version": "3.12.9"
  }
 },
 "nbformat": 4,
 "nbformat_minor": 5
}
