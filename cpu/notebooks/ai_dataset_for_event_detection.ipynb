{
 "cells": [
  {
   "cell_type": "code",
   "execution_count": null,
   "id": "c300cb82-d5cf-4f58-ad8a-f2bcd9a7f41a",
   "metadata": {},
   "outputs": [],
   "source": [
    "import random as rd\n",
    "import pandas as pd\n",
    "\n",
    "from cosapp.drivers import NonLinearSolver, RungeKutta, MonteCarlo, LinearDoE, RunSingleCase\n",
    "from cosapp.utils.distributions import Normal\n",
    "from cosapp.recorders import DataFrameRecorder\n",
    "from cosapp_lab.widgets import SysExplorer\n",
    "\n",
    "from cpu.systems import CPUSystem"
   ]
  },
  {
   "cell_type": "code",
   "execution_count": null,
   "id": "eefe8183-3ea1-491e-b649-74a99db0da0b",
   "metadata": {},
   "outputs": [],
   "source": [
    "sampleNumbers=1001\n",
    "datasetSize=1000\n",
    "percentageBroken=20\n",
    "rd.seed(9)"
   ]
  },
  {
   "cell_type": "code",
   "execution_count": null,
   "id": "8a44c17f-5ffc-4d08-aff1-97022a088d12",
   "metadata": {},
   "outputs": [],
   "source": [
    "cpu = CPUSystem(\"cpu\")\n",
    "cpu.fan.mass_flow_scalar=1.\n",
    "\n",
    "design = cpu.add_driver(NonLinearSolver('solver'))\n",
    "design.extend(cpu.design_methods[\"exchanger_surface\"])\n",
    "\n",
    "design.runner.set_values({\"fan.T_air\": 40., \"T_cpu\": 80., \"cpu.usage\": 100.})\n",
    "\n",
    "# run design\n",
    "cpu.run_drivers()"
   ]
  },
  {
   "cell_type": "code",
   "execution_count": null,
   "id": "1e856ec5-708f-4b53-b48f-8892cee20f31",
   "metadata": {},
   "outputs": [],
   "source": [
    "cpu.exchanger.surface"
   ]
  },
  {
   "cell_type": "code",
   "execution_count": null,
   "id": "c77395e3-4764-4ceb-971a-26c614656583",
   "metadata": {},
   "outputs": [],
   "source": [
    "doe = cpu.add_driver(LinearDoE('doe'))"
   ]
  },
  {
   "cell_type": "code",
   "execution_count": null,
   "id": "2f29e53c-bbbb-470e-88e5-a914e81530ce",
   "metadata": {},
   "outputs": [],
   "source": [
    "time_driver = doe.add_child(RungeKutta(order=3, history = True))\n",
    "solver = time_driver.add_child(NonLinearSolver('solver', max_iter=10, factor=1.0))\n",
    "time_driver.time_interval = ([0, 30])\n",
    "time_driver.dt = 0.5\n",
    "\n",
    "# Define a simulation scenario\n",
    "time_driver.set_scenario(\n",
    "    init = {'T_cpu': 30,\n",
    "           'fan.mass_flow_scalar':1.\n",
    "           },\n",
    "    values = {\n",
    "        #\"fan.T_air\": 40., mettre en commentaire !!! sinon remet à zéro quand on appelle time_driver\n",
    "        \"cpu.usage\": \"100 if time <20 else 0.\"}\n",
    ")"
   ]
  },
  {
   "cell_type": "code",
   "execution_count": null,
   "id": "5f60cfff-f444-48df-9c91-c895d833c778",
   "metadata": {},
   "outputs": [],
   "source": [
    "doe.add_input_var({'fan.T_air': {\"lower\": 0., \"upper\": 30., \"count\": sampleNumbers}})"
   ]
  },
  {
   "cell_type": "code",
   "execution_count": null,
   "id": "601091d5-faa3-4dd8-b63f-4c2c6d3bfcab",
   "metadata": {},
   "outputs": [],
   "source": [
    "doe.add_recorder(DataFrameRecorder(includes=['fan.tension', 'cpu.usage', 'T_cpu', 'fan.T_air', \"exchanger.surface\"]))"
   ]
  },
  {
   "cell_type": "code",
   "execution_count": null,
   "id": "c63e6376-4df0-4169-b28e-93723db4e6dd",
   "metadata": {},
   "outputs": [],
   "source": [
    "cpu.fan.T_air"
   ]
  },
  {
   "cell_type": "code",
   "execution_count": null,
   "id": "1ea95163-3c1f-480c-8384-2a15836923fd",
   "metadata": {},
   "outputs": [],
   "source": [
    "cpu.run_drivers()"
   ]
  },
  {
   "cell_type": "markdown",
   "id": "266adc0e-96ae-4a37-ab89-f5dc494f14a1",
   "metadata": {},
   "source": [
    "# Dataset creation"
   ]
  },
  {
   "cell_type": "code",
   "execution_count": null,
   "id": "e7a4e20f-3e92-4f0f-97b2-cd3fba28c1dd",
   "metadata": {},
   "outputs": [],
   "source": [
    "df = doe.recorder.data"
   ]
  },
  {
   "cell_type": "code",
   "execution_count": null,
   "id": "c4fb1402-70e7-4e19-8f70-27b93185d467",
   "metadata": {},
   "outputs": [],
   "source": [
    "working=[True for k in range(len(df))]"
   ]
  },
  {
   "cell_type": "code",
   "execution_count": null,
   "id": "ed134ffd-cb54-4e2f-a763-0a117cfefbd2",
   "metadata": {},
   "outputs": [],
   "source": [
    "df=df.assign(working=working)\n",
    "df"
   ]
  },
  {
   "cell_type": "code",
   "execution_count": null,
   "id": "d04ea547-0c18-4b4e-804c-952574ba1418",
   "metadata": {},
   "outputs": [],
   "source": [
    "time_driver.set_scenario(\n",
    "    init = {'T_cpu': 30,\n",
    "           'fan.mass_flow_scalar':0.\n",
    "           },\n",
    "    values = {\n",
    "        #\"fan.T_air\": 40., mettre en commentaire !!! sinon remet à zéro quand on appelle time_driver\n",
    "        \"cpu.usage\": \"100 if time <20 else 0.\"}\n",
    ")"
   ]
  },
  {
   "cell_type": "code",
   "execution_count": null,
   "id": "48475b3c-c7cc-4a4f-84c3-5ea78a4b3b9b",
   "metadata": {},
   "outputs": [],
   "source": [
    "cpu.run_drivers()"
   ]
  },
  {
   "cell_type": "markdown",
   "id": "1bf514ea-cf85-483b-be5f-9aa14923a8c2",
   "metadata": {},
   "source": [
    "# Test set creation"
   ]
  },
  {
   "cell_type": "code",
   "execution_count": null,
   "id": "3ba1a48c-8709-4bc9-be56-db1b90429642",
   "metadata": {},
   "outputs": [],
   "source": [
    "df2=doe.recorder.data"
   ]
  },
  {
   "cell_type": "code",
   "execution_count": null,
   "id": "c7153a66-cd2d-4564-8181-ded51bbdbad1",
   "metadata": {},
   "outputs": [],
   "source": [
    "working=[False for k in range(len(df2))]"
   ]
  },
  {
   "cell_type": "code",
   "execution_count": null,
   "id": "ce58c92c-6f23-406d-a3ff-ca96d8dc5aa5",
   "metadata": {},
   "outputs": [],
   "source": [
    "df2=df2.assign(working=working)\n",
    "df2"
   ]
  },
  {
   "cell_type": "code",
   "execution_count": null,
   "id": "d6eaf600-e223-4e38-8bdf-84e6f32fa0ce",
   "metadata": {},
   "outputs": [],
   "source": [
    "dfclean=df.drop(['Section', 'Status', 'Error code', 'Reference', 'cpu.usage', 'exchanger.surface'], axis=1)"
   ]
  },
  {
   "cell_type": "code",
   "execution_count": null,
   "id": "af54e79e-e47e-4dee-b01d-26257cda924f",
   "metadata": {},
   "outputs": [],
   "source": [
    "df2clean=df2.drop(['Section', 'Status', 'Error code', 'Reference', 'cpu.usage', 'exchanger.surface'], axis=1)"
   ]
  },
  {
   "cell_type": "code",
   "execution_count": null,
   "id": "53874410-22f2-4555-860a-10971e3f4f9e",
   "metadata": {},
   "outputs": [],
   "source": [
    "dataset=[]\n",
    "for k in range(datasetSize):\n",
    "    if k < datasetSize*percentageBroken/100:\n",
    "        i=rd.randint(0, len(df2clean)-1)\n",
    "        dataset.append(df2clean.iloc[i])\n",
    "        df2clean=df2clean.drop(df2clean.index[i])\n",
    "    else:\n",
    "        i=rd.randint(0, len(dfclean)-1)\n",
    "        dataset.append(dfclean.iloc[i])\n",
    "        dfclean=dfclean.drop(dfclean.index[i])\n",
    "    dataset[k].name=k\n",
    "\n",
    "dfclean=df.drop(['Section', 'Status', 'Error code', 'Reference', 'cpu.usage', 'exchanger.surface'], axis=1)\n",
    "df2clean=df2.drop(['Section', 'Status', 'Error code', 'Reference', 'cpu.usage', 'exchanger.surface'], axis=1)"
   ]
  },
  {
   "cell_type": "code",
   "execution_count": null,
   "id": "e46de34a-b757-4d02-bb4b-1354185f63a2",
   "metadata": {},
   "outputs": [],
   "source": [
    "\"\"\"\n",
    "dataset=[]\n",
    "for k in range(tailleDataset):\n",
    "    if k < tailleDataset*percentageCasse/100:\n",
    "        i=rd.randint(0, len(dfclean)-1)\n",
    "        dataset.append(df2clean.iloc[i])\n",
    "    else:\n",
    "        i=rd.randint(0, len(dfclean)-1)\n",
    "        dataset.append(dfclean.iloc[i])\n",
    "    dataset[k].name=k\n",
    "\"\"\""
   ]
  },
  {
   "cell_type": "code",
   "execution_count": null,
   "id": "cbaa283b-db04-470e-9199-b138f16505ac",
   "metadata": {},
   "outputs": [],
   "source": [
    "type(dfclean.iloc[1])"
   ]
  },
  {
   "cell_type": "code",
   "execution_count": null,
   "id": "aefae11e-5d91-4fbf-9d98-a26e01cf4e08",
   "metadata": {},
   "outputs": [],
   "source": [
    "cols=['T_cpu', 'fan.T_air', 'fan.tension', 'working']\n",
    "dfFinal=pd.DataFrame(dataset, columns=cols)"
   ]
  },
  {
   "cell_type": "code",
   "execution_count": null,
   "id": "94d8950c-bf4d-4d4f-8aad-2faca4f5aaf4",
   "metadata": {},
   "outputs": [],
   "source": [
    "dfFinal"
   ]
  },
  {
   "cell_type": "code",
   "execution_count": null,
   "id": "494df1f2-93e3-4007-8873-7cd2f334e9e2",
   "metadata": {},
   "outputs": [],
   "source": [
    "dfFinal.to_csv(f\"dataset_{datasetSize}_cases_{percentageBroken}_percent_broken.csv\", index=False)"
   ]
  },
  {
   "cell_type": "code",
   "execution_count": null,
   "id": "73f2741c-fa09-4a5c-b3ce-f7f40d46b788",
   "metadata": {},
   "outputs": [],
   "source": []
  },
  {
   "cell_type": "code",
   "execution_count": null,
   "id": "71d7921f-ab46-46df-bb6f-8d3cbf853be9",
   "metadata": {},
   "outputs": [],
   "source": [
    "dataset=[]\n",
    "for k in range(datasetSize):\n",
    "    dataset.append(df2clean.iloc[k])\n",
    "    dataset.append(dfclean.iloc[k])\n",
    "    dataset[2*k].name=2*k\n",
    "    dataset[2*k+1].name=2*k+1"
   ]
  },
  {
   "cell_type": "code",
   "execution_count": null,
   "id": "9e17fd9a-9114-4de2-b7a8-00a1dcc439eb",
   "metadata": {},
   "outputs": [],
   "source": [
    "len(dataset)"
   ]
  },
  {
   "cell_type": "code",
   "execution_count": null,
   "id": "79d6c0fb-0103-463f-9f04-31320f19df1f",
   "metadata": {},
   "outputs": [],
   "source": [
    "cols=['T_cpu', 'fan.T_air', 'fan.tension', 'working']\n",
    "testfinal=pd.DataFrame(dataset, columns=cols)\n",
    "testfinal.to_csv(f\"test_set_{datasetSize}_cases_{percentageBroken}_percent_broken.csv\", index=False)"
   ]
  }
 ],
 "metadata": {
  "kernelspec": {
   "display_name": "Python 3 (ipykernel)",
   "language": "python",
   "name": "python3"
  },
  "language_info": {
   "codemirror_mode": {
    "name": "ipython",
    "version": 3
   },
   "file_extension": ".py",
   "mimetype": "text/x-python",
   "name": "python",
   "nbconvert_exporter": "python",
   "pygments_lexer": "ipython3",
   "version": "3.9.12"
  }
 },
 "nbformat": 4,
 "nbformat_minor": 5
}
