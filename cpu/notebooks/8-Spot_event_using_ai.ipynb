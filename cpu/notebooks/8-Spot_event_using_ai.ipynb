{
 "cells": [
  {
   "cell_type": "markdown",
   "id": "ae565107-6486-4378-91ad-e2cb71f04376",
   "metadata": {},
   "source": [
    "# Use AI classifier to spot events\n",
    "\n",
    "We will see how a trained AI on simulation data is able to spot a dyfunction, here namely a broken fan, in operation data.\n",
    "\n",
    "### Load the AI model"
   ]
  },
  {
   "cell_type": "code",
   "execution_count": 42,
   "id": "b4c484b8-fb77-46f9-a5fd-d28d27ed52a0",
   "metadata": {},
   "outputs": [],
   "source": [
    "import numpy as np\n",
    "import pandas as pd\n",
    "import pickle\n",
    "\n",
    "# load the already trained classifier and\n",
    "classifier = pickle.load(open(\"data/broken_fan_classifier.pkl\", \"rb\"))\n",
    "classifier_mean = pd.read_csv(\"data/broken_fan_classifier_mean.csv\", index_col=0)\n",
    "classifier_std = pd.read_csv(\"data/broken_fan_classifier_std.csv\", index_col=0)"
   ]
  },
  {
   "cell_type": "markdown",
   "id": "8a91df97-ad10-4521-a342-d085667b4ccc",
   "metadata": {},
   "source": [
    "### Load the operation data"
   ]
  },
  {
   "cell_type": "code",
   "execution_count": 43,
   "id": "d5c33d4c-bb01-4abd-850b-566f2fdeb209",
   "metadata": {},
   "outputs": [
    {
     "data": {
      "text/html": [
       "<div>\n",
       "<style scoped>\n",
       "    .dataframe tbody tr th:only-of-type {\n",
       "        vertical-align: middle;\n",
       "    }\n",
       "\n",
       "    .dataframe tbody tr th {\n",
       "        vertical-align: top;\n",
       "    }\n",
       "\n",
       "    .dataframe thead th {\n",
       "        text-align: right;\n",
       "    }\n",
       "</style>\n",
       "<table border=\"1\" class=\"dataframe\">\n",
       "  <thead>\n",
       "    <tr style=\"text-align: right;\">\n",
       "      <th></th>\n",
       "      <th>0</th>\n",
       "      <th>1</th>\n",
       "      <th>2</th>\n",
       "      <th>3</th>\n",
       "      <th>4</th>\n",
       "      <th>5</th>\n",
       "      <th>6</th>\n",
       "      <th>7</th>\n",
       "      <th>8</th>\n",
       "      <th>9</th>\n",
       "      <th>...</th>\n",
       "      <th>21</th>\n",
       "      <th>22</th>\n",
       "      <th>23</th>\n",
       "      <th>24</th>\n",
       "      <th>25</th>\n",
       "      <th>26</th>\n",
       "      <th>27</th>\n",
       "      <th>28</th>\n",
       "      <th>29</th>\n",
       "      <th>30</th>\n",
       "    </tr>\n",
       "  </thead>\n",
       "  <tbody>\n",
       "    <tr>\n",
       "      <th>fan.T_air</th>\n",
       "      <td>-0.126391</td>\n",
       "      <td>-0.135368</td>\n",
       "      <td>-0.121939</td>\n",
       "      <td>-0.143242</td>\n",
       "      <td>-0.107510</td>\n",
       "      <td>-0.156307</td>\n",
       "      <td>-0.158709</td>\n",
       "      <td>-0.168327</td>\n",
       "      <td>-0.134351</td>\n",
       "      <td>-0.136329</td>\n",
       "      <td>...</td>\n",
       "      <td>-0.121656</td>\n",
       "      <td>-0.158946</td>\n",
       "      <td>-0.116243</td>\n",
       "      <td>-0.090121</td>\n",
       "      <td>-0.122457</td>\n",
       "      <td>-0.141683</td>\n",
       "      <td>-0.113959</td>\n",
       "      <td>-0.150109</td>\n",
       "      <td>-0.145164</td>\n",
       "      <td>-0.123614</td>\n",
       "    </tr>\n",
       "    <tr>\n",
       "      <th>T_cpu</th>\n",
       "      <td>-0.605211</td>\n",
       "      <td>0.076345</td>\n",
       "      <td>0.724226</td>\n",
       "      <td>1.277194</td>\n",
       "      <td>1.891320</td>\n",
       "      <td>2.449718</td>\n",
       "      <td>2.955452</td>\n",
       "      <td>3.481764</td>\n",
       "      <td>3.962959</td>\n",
       "      <td>4.451453</td>\n",
       "      <td>...</td>\n",
       "      <td>9.126444</td>\n",
       "      <td>8.920820</td>\n",
       "      <td>8.799973</td>\n",
       "      <td>8.603947</td>\n",
       "      <td>8.442281</td>\n",
       "      <td>8.293733</td>\n",
       "      <td>8.162098</td>\n",
       "      <td>7.987317</td>\n",
       "      <td>7.881552</td>\n",
       "      <td>7.702409</td>\n",
       "    </tr>\n",
       "    <tr>\n",
       "      <th>fan.tension</th>\n",
       "      <td>-0.661952</td>\n",
       "      <td>-0.661952</td>\n",
       "      <td>-0.661952</td>\n",
       "      <td>-0.661952</td>\n",
       "      <td>-0.661952</td>\n",
       "      <td>-0.661952</td>\n",
       "      <td>0.786521</td>\n",
       "      <td>0.786521</td>\n",
       "      <td>0.786521</td>\n",
       "      <td>0.786521</td>\n",
       "      <td>...</td>\n",
       "      <td>2.234994</td>\n",
       "      <td>2.234994</td>\n",
       "      <td>2.234994</td>\n",
       "      <td>2.234994</td>\n",
       "      <td>2.234994</td>\n",
       "      <td>2.234994</td>\n",
       "      <td>2.234994</td>\n",
       "      <td>2.234994</td>\n",
       "      <td>2.234994</td>\n",
       "      <td>2.234994</td>\n",
       "    </tr>\n",
       "  </tbody>\n",
       "</table>\n",
       "<p>3 rows × 31 columns</p>\n",
       "</div>"
      ],
      "text/plain": [
       "                   0         1         2         3         4         5   \\\n",
       "fan.T_air   -0.126391 -0.135368 -0.121939 -0.143242 -0.107510 -0.156307   \n",
       "T_cpu       -0.605211  0.076345  0.724226  1.277194  1.891320  2.449718   \n",
       "fan.tension -0.661952 -0.661952 -0.661952 -0.661952 -0.661952 -0.661952   \n",
       "\n",
       "                   6         7         8         9   ...        21        22  \\\n",
       "fan.T_air   -0.158709 -0.168327 -0.134351 -0.136329  ... -0.121656 -0.158946   \n",
       "T_cpu        2.955452  3.481764  3.962959  4.451453  ...  9.126444  8.920820   \n",
       "fan.tension  0.786521  0.786521  0.786521  0.786521  ...  2.234994  2.234994   \n",
       "\n",
       "                   23        24        25        26        27        28  \\\n",
       "fan.T_air   -0.116243 -0.090121 -0.122457 -0.141683 -0.113959 -0.150109   \n",
       "T_cpu        8.799973  8.603947  8.442281  8.293733  8.162098  7.987317   \n",
       "fan.tension  2.234994  2.234994  2.234994  2.234994  2.234994  2.234994   \n",
       "\n",
       "                   29        30  \n",
       "fan.T_air   -0.145164 -0.123614  \n",
       "T_cpu        7.881552  7.702409  \n",
       "fan.tension  2.234994  2.234994  \n",
       "\n",
       "[3 rows x 31 columns]"
      ]
     },
     "execution_count": 43,
     "metadata": {},
     "output_type": "execute_result"
    }
   ],
   "source": [
    "# load the operation data to check for borken fan event\n",
    "data = pd.read_csv(\"data/cpu_hot_day_intensive_use_broken.csv\", index_col=0)\n",
    "# do data normalization\n",
    "classifier_data = (\n",
    "    data[[\"fan.T_air\", \"T_cpu\", \"fan.tension\"]] - classifier_mean.values.T\n",
    ") / classifier_std.values.T\n",
    "classifier_data.T"
   ]
  },
  {
   "cell_type": "markdown",
   "id": "43a95554-5ccb-45f9-a83f-0a02ad6cdd94",
   "metadata": {},
   "source": [
    "### Perform the checks"
   ]
  },
  {
   "cell_type": "code",
   "execution_count": 44,
   "id": "c1bce9b8-2971-4334-9a7e-480b8fed8259",
   "metadata": {},
   "outputs": [],
   "source": [
    "# use the AI classifier to predict nominal vs broken fan\n",
    "diag = pd.DataFrame(\n",
    "    np.stack((classifier_data.index, classifier.predict(classifier_data.values)), axis=1),\n",
    "    columns=[\"time\", \"fan_working_diagnostic\"],\n",
    ")\n",
    "\n",
    "# also get associated statistics\n",
    "classifier_proba = pd.DataFrame(\n",
    "    np.hstack(\n",
    "        (np.arange(0, 31, 1).reshape(-1, 1), classifier.predict_proba(classifier_data.values))\n",
    "    ),\n",
    "    columns=[\"time\", \"non_working_proba\", \"working_proba\"],\n",
    ")\n",
    "non_working_proba = classifier_proba[[\"time\", \"non_working_proba\"]].rename(\n",
    "    columns={\"non_working_proba\": \"proba\"}\n",
    ")\n",
    "working_proba = classifier_proba[[\"time\", \"working_proba\"]].rename(\n",
    "    columns={\"working_proba\": \"proba\"}\n",
    ")"
   ]
  },
  {
   "cell_type": "code",
   "execution_count": 45,
   "id": "c9dc864b-aae3-427f-89a9-62ccb5417f74",
   "metadata": {},
   "outputs": [
    {
     "data": {
      "application/vnd.jupyter.widget-view+json": {
       "model_id": "0f0972e21f78472395127545ec6e0f5d",
       "version_major": 2,
       "version_minor": 0
      },
      "text/plain": [
       "VBox(children=(HBox(children=(FigureWidget({\n",
       "    'data': [{'mode': 'markers',\n",
       "              'name': 'diag',\n",
       "  …"
      ]
     },
     "execution_count": 45,
     "metadata": {},
     "output_type": "execute_result"
    }
   ],
   "source": [
    "from cpu.utils.plot_recorders import plot_recorders\n",
    "\n",
    "plot_recorders(\n",
    "    {\n",
    "        \"diag\": diag,\n",
    "        \"working_diag_proba\": working_proba,\n",
    "        \"non_working_diag_proba\": non_working_proba,\n",
    "    },\n",
    "    [[(\"time\", \"fan_working_diagnostic\"), (\"time\", \"proba\")]],\n",
    "    width=800,\n",
    "    height=600,\n",
    "    legend={\"x\": 0.75, \"y\": 0.25, \"font\": {\"size\": 20}, \"orientation\": \"h\", \"xanchor\": \"center\"},\n",
    ")"
   ]
  },
  {
   "cell_type": "code",
   "execution_count": 46,
   "id": "3a8ed4aa",
   "metadata": {},
   "outputs": [],
   "source": [
    "diag.to_csv(f\"data/fan_working_diagnostic.csv\", index=False)"
   ]
  }
 ],
 "metadata": {
  "kernelspec": {
   "display_name": "Python 3",
   "language": "python",
   "name": "python3"
  },
  "language_info": {
   "codemirror_mode": {
    "name": "ipython",
    "version": 3
   },
   "file_extension": ".py",
   "mimetype": "text/x-python",
   "name": "python",
   "nbconvert_exporter": "python",
   "pygments_lexer": "ipython3",
   "version": "3.12.9"
  },
  "toc-showcode": false
 },
 "nbformat": 4,
 "nbformat_minor": 5
}
