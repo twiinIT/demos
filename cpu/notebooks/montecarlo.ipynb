{
 "cells": [
  {
   "cell_type": "markdown",
   "id": "77e34722-4152-4942-8345-b6152331d4b7",
   "metadata": {},
   "source": [
    "# Montecarlo assessment\n",
    "\n",
    "A Montecarlo simulation is a way to assess uncertainties and robustness given probabilities on the model inputs. \n",
    "\n",
    "Here we illustrate how it works with a design Montecarlo. It is also called robust design because we can  evaluate the impact on the designed characteristics (here the `exchanger.surface`)."
   ]
  },
  {
   "cell_type": "code",
   "execution_count": null,
   "id": "d952aada-6dd7-4faf-a8a3-3edca994a72f",
   "metadata": {},
   "outputs": [],
   "source": [
    "from cosapp.drivers import MonteCarlo, RungeKutta, NonLinearSolver\n",
    "from cosapp.recorders import DataFrameRecorder\n",
    "from cosapp.utils.distributions import Normal\n",
    "\n",
    "from cpu.systems import CPUSystem"
   ]
  },
  {
   "cell_type": "code",
   "execution_count": null,
   "id": "72c15f7a-91b6-4a12-a0ba-8473aee59c82",
   "metadata": {},
   "outputs": [],
   "source": [
    "cpu = CPUSystem(\"cpu\")"
   ]
  },
  {
   "cell_type": "code",
   "execution_count": null,
   "id": "adb6dc84-bc90-40c3-a23a-8c710c1d97c2",
   "metadata": {},
   "outputs": [],
   "source": [
    "mc = cpu.add_driver(MonteCarlo('mc'))\n",
    "\n",
    "design = mc.add_child(NonLinearSolver('design'))\n",
    "design.extend(cpu.design_methods[\"exchanger_surface\"])\n",
    "design.runner.set_values({\"T_cpu\": 80., \"cpu.usage\": 100.})\n",
    "\n",
    "mc.add_recorder(DataFrameRecorder(includes=['*']))\n",
    "mc.draws = 100\n",
    "\n",
    "# parameters for uncertainties in the data\n",
    "T_air = cpu.fan.inwards.get_details('T_air')\n",
    "# Set the distribution around the current value\n",
    "T_air.distribution = Normal(best=1, worst=-0.5)\n",
    "mc.add_random_variable('fan.T_air')\n",
    "mc.add_response(['fan.tension', 'cpu.usage', 'T_cpu'])"
   ]
  },
  {
   "cell_type": "code",
   "execution_count": null,
   "id": "ba159772-9069-465a-ba6e-20e717e9cd7b",
   "metadata": {},
   "outputs": [],
   "source": [
    "cpu.run_drivers()\n",
    "mc.recorder.export_data()"
   ]
  }
 ],
 "metadata": {
  "kernelspec": {
   "display_name": "Python 3 (ipykernel)",
   "language": "python",
   "name": "python3"
  },
  "language_info": {
   "codemirror_mode": {
    "name": "ipython",
    "version": 3
   },
   "file_extension": ".py",
   "mimetype": "text/x-python",
   "name": "python",
   "nbconvert_exporter": "python",
   "pygments_lexer": "ipython3",
   "version": "3.9.12"
  }
 },
 "nbformat": 4,
 "nbformat_minor": 5
}
