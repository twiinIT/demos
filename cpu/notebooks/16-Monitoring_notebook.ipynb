{
 "cells": [
  {
   "cell_type": "code",
   "execution_count": null,
   "id": "dd7f94b2",
   "metadata": {},
   "outputs": [],
   "source": [
    "from multiprocessing import Queue\n",
    "from cpu.utils.cpu_monitor_live import run_cpu_monitor, run_pipeline, get_pipeline\n",
    "from cpu.utils.monitor_simulation import run_cpu_simulation\n",
    "import pandas as pd"
   ]
  },
  {
   "cell_type": "code",
   "execution_count": null,
   "id": "40247965",
   "metadata": {},
   "outputs": [],
   "source": [
    "# create a system model\n",
    "from cpu.systems import CPUSystem\n",
    "from cosapp.drivers import NonLinearSolver\n",
    "\n",
    "cpu = CPUSystem(\"cpu\")\n",
    "cpu.add_driver(NonLinearSolver(\"solver\", max_iter=10, factor=1.0, tol=1e-6))\n",
    "cpu[\"exchanger.h_adder\"] = 150\n",
    "cpu[\"cpu.heat_capacity\"] = 100"
   ]
  },
  {
   "cell_type": "code",
   "execution_count": null,
   "id": "ab992215",
   "metadata": {},
   "outputs": [],
   "source": [
    "# set process pipeline\n",
    "queue = Queue()\n",
    "sequence = {\n",
    "    \"step1\": {\"nprocs\": 8, \"duration\": 30},\n",
    "    \"step2\": {\"nprocs\": 1, \"duration\": 30},\n",
    "}\n",
    "pipeline, duration = get_pipeline(sequence)\n",
    "\n",
    "# run pipeline\n",
    "sim_process = run_cpu_simulation(queue, cpu, duration)\n",
    "monitor_process = run_cpu_monitor(queue, duration)\n",
    "run_pipeline(pipeline)\n",
    "monitor_process.join()\n",
    "sim_process.join()\n",
    "\n",
    "# Receive simulation results from the queue\n",
    "if not queue.empty():\n",
    "    results = pd.DataFrame(queue.get())\n",
    "\n",
    "    # Save from notebook (safe path)\n",
    "    results.to_csv(\"data/real_time_measure.csv\", index=False)\n",
    "    print(\"Results saved!\")\n",
    "else:\n",
    "    print(\"Queue was empty. No results to save.\")"
   ]
  },
  {
   "cell_type": "code",
   "execution_count": null,
   "id": "dfc87fa2",
   "metadata": {},
   "outputs": [],
   "source": [
    "# Differentiate the simulated and measured data\n",
    "data_sim = pd.read_csv(\"data/real_time_measure.csv\")\n",
    "data_mes = pd.read_csv(\"data/real_time_measure.csv\")\n",
    "data_sim.rename(columns={\"T_cpu_simulated\": \"T_cpu\"}, inplace=True)\n",
    "data_mes.rename(columns={\"T_cpu_measured\": \"T_cpu\"}, inplace=True)"
   ]
  },
  {
   "cell_type": "code",
   "execution_count": null,
   "id": "8494d458",
   "metadata": {},
   "outputs": [],
   "source": [
    "from cpu.utils.plot_recorders import plot_recorders\n",
    "\n",
    "plot_recorders(\n",
    "    {\n",
    "        \"operation\": data_mes,\n",
    "        # \"simulation\": data_sim,\n",
    "    },\n",
    "    [[(\"time\", \"T_cpu\"), (\"time\", \"cpu.usage\")], [(\"T_cpu\", \"Fan_rpm_1\"), (\"time\", \"Fan_rpm_1\")]],\n",
    "    width=600,\n",
    "    height=350,\n",
    ")"
   ]
  },
  {
   "cell_type": "code",
   "execution_count": null,
   "id": "f2ef8a1c",
   "metadata": {},
   "outputs": [],
   "source": []
  }
 ],
 "metadata": {
  "kernelspec": {
   "display_name": "Python 3",
   "language": "python",
   "name": "python3"
  },
  "language_info": {
   "codemirror_mode": {
    "name": "ipython",
    "version": 3
   },
   "file_extension": ".py",
   "mimetype": "text/x-python",
   "name": "python",
   "nbconvert_exporter": "python",
   "pygments_lexer": "ipython3",
   "version": "3.12.10"
  },
  "toc-showcode": false
 },
 "nbformat": 4,
 "nbformat_minor": 5
}
