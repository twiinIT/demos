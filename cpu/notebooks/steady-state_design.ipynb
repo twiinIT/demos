{
 "cells": [
  {
   "cell_type": "markdown",
   "id": "7c63546c-f839-46a3-a355-8832ba12e9c0",
   "metadata": {
    "tags": []
   },
   "source": [
    "## Design a product\n",
    "\n",
    "The design of a product is the process of defining characteristics to meet others.\n",
    "\n",
    "Typically, geometries will be computed to reach physical specifications.\n",
    "\n",
    "\n",
    "### Definition of the specs\n",
    "\n",
    "Exchanger surface is evaluated so that maximum CPU temparature is 80°C when air temperature is 40° and CPU is running at its maximum."
   ]
  },
  {
   "cell_type": "code",
   "execution_count": null,
   "id": "05aab7a7-ed84-478e-89e7-72feb2676074",
   "metadata": {},
   "outputs": [],
   "source": [
    "from cpu.systems import CPUSystem\n",
    "\n",
    "# create a system model\n",
    "cpu = CPUSystem(\"cpu\")\n",
    "cpu"
   ]
  },
  {
   "cell_type": "code",
   "execution_count": 10,
   "id": "1a57f20d-cb9a-4b1b-ba97-6b50d111d9ba",
   "metadata": {},
   "outputs": [],
   "source": [
    "from cosapp.drivers import NonLinearSolver, RunSingleCase\n",
    "\n",
    "# add a design driver and its definition\n",
    "design = cpu.add_driver(NonLinearSolver(\"solver\"))\n",
    "runner = design.add_driver(RunSingleCase(\"runner\"))\n",
    "design.extend(cpu.design_methods[\"exchanger_surface\"])\n",
    "design.runner.set_values({\"fan.T_air\": 40.0, \"T_cpu\": 80.0, \"cpu.usage\": 100.0})"
   ]
  },
  {
   "cell_type": "markdown",
   "id": "bfb2cc48-3466-44f9-9790-6c2cf8d525db",
   "metadata": {},
   "source": [
    "### The design itself\n",
    "\n",
    "You can then run one or more designs by changing the specifications.\n",
    "\n",
    "See also the [DoE (Design of Experiments)](doe.ipynb) to automatically run a set of cases."
   ]
  },
  {
   "cell_type": "code",
   "execution_count": null,
   "id": "a469528b-0073-43a7-89a9-16444d0fdf52",
   "metadata": {},
   "outputs": [],
   "source": [
    "# run design\n",
    "cpu.run_drivers()\n",
    "print(cpu.exchanger.surface)"
   ]
  },
  {
   "cell_type": "code",
   "execution_count": null,
   "id": "81ed5d71-abc5-428a-8bb2-6d03d3730e82",
   "metadata": {},
   "outputs": [],
   "source": [
    "design.runner.set_values({\"fan.T_air\": 30.0, \"T_cpu\": 80.0, \"cpu.usage\": 100.0})\n",
    "cpu.run_drivers()\n",
    "print(cpu.exchanger.surface)"
   ]
  },
  {
   "cell_type": "code",
   "execution_count": 15,
   "id": "c8376112",
   "metadata": {},
   "outputs": [],
   "source": [
    "from cosapp.utils.json import EncodingMetadata\n",
    "from pathlib import Path\n",
    "\n",
    "Path(\"data\").mkdir(exist_ok=True)\n",
    "cpu_json = cpu.save(\"data/cpu_ref.json\", encoding_metadata=EncodingMetadata(with_drivers=False))"
   ]
  }
 ],
 "metadata": {
  "kernelspec": {
   "display_name": "Python 3",
   "language": "python",
   "name": "python3"
  },
  "language_info": {
   "codemirror_mode": {
    "name": "ipython",
    "version": 3
   },
   "file_extension": ".py",
   "mimetype": "text/x-python",
   "name": "python",
   "nbconvert_exporter": "python",
   "pygments_lexer": "ipython3",
   "version": "3.12.8"
  },
  "toc-showcode": false
 },
 "nbformat": 4,
 "nbformat_minor": 5
}
