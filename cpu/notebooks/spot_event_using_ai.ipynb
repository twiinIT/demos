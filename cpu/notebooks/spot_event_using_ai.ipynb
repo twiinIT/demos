{
 "cells": [
  {
   "cell_type": "markdown",
   "id": "ae565107-6486-4378-91ad-e2cb71f04376",
   "metadata": {},
   "source": [
    "# Use AI classifier to spot events\n",
    "\n",
    "We will see how a trained AI on simulation data is able to spot a dyfunction, here namely a broken fan, in operation data.\n",
    "\n",
    "### Load the AI model"
   ]
  },
  {
   "cell_type": "code",
   "execution_count": null,
   "id": "b4c484b8-fb77-46f9-a5fd-d28d27ed52a0",
   "metadata": {},
   "outputs": [],
   "source": [
    "import numpy as np\n",
    "import pandas as pd\n",
    "from joblib import load\n",
    "\n",
    "# load the already trained classifier and \n",
    "classifier = load('data/broken_fan_classifier.sk-learn')\n",
    "classifier_mean = pd.read_csv(\"data/broken_fan_classifier_mean.csv\")\n",
    "classifier_std = pd.read_csv(\"data/broken_fan_classifier_std.csv\")"
   ]
  },
  {
   "cell_type": "markdown",
   "id": "8a91df97-ad10-4521-a342-d085667b4ccc",
   "metadata": {},
   "source": [
    "### Load the operation data"
   ]
  },
  {
   "cell_type": "code",
   "execution_count": null,
   "id": "d5c33d4c-bb01-4abd-850b-566f2fdeb209",
   "metadata": {},
   "outputs": [],
   "source": [
    "# load the operation data to check for borken fan event\n",
    "data = pd.read_csv(\"data/cpu_hot_day_intensive_use_broken.csv\")\n",
    "# do data normalization\n",
    "classifier_data = (data[[\"fan.T_air\", \"T_cpu\", \"fan.tension\"]] - classifier_mean.loc[0]) / classifier_std.loc[0]\n",
    "classifier_data.T"
   ]
  },
  {
   "cell_type": "markdown",
   "id": "43a95554-5ccb-45f9-a83f-0a02ad6cdd94",
   "metadata": {},
   "source": [
    "### Perform the checks"
   ]
  },
  {
   "cell_type": "code",
   "execution_count": null,
   "id": "c1bce9b8-2971-4334-9a7e-480b8fed8259",
   "metadata": {},
   "outputs": [],
   "source": [
    "# use the AI classifier to predict nominal vs broken fan\n",
    "diag = pd.DataFrame(np.stack((classifier_data.index, classifier.predict(classifier_data.values)), axis=1), columns=[\"time\", \"fan_working_diagnostic\"])\n",
    "\n",
    "# also get associated statistics\n",
    "classifier_proba =  pd.DataFrame(np.hstack((np.arange(0, 31, 1).reshape(-1, 1), classifier.predict_proba(classifier_data.values))), columns=[\"time\", \"non_working_proba\", \"working_proba\"])\n",
    "non_working_proba = classifier_proba[[\"time\", \"non_working_proba\"]].rename(columns={\"non_working_proba\": \"proba\"})\n",
    "working_proba = classifier_proba[[\"time\", \"working_proba\"]].rename(columns={\"working_proba\": \"proba\"})"
   ]
  },
  {
   "cell_type": "code",
   "execution_count": null,
   "id": "c9dc864b-aae3-427f-89a9-62ccb5417f74",
   "metadata": {},
   "outputs": [],
   "source": [
    "from cpu.utils.plot_recorders  import plot_recorders\n",
    "\n",
    "plot_recorders({\"diag\": diag,\n",
    "                \"working_diag_proba\": working_proba,\n",
    "                \"non_working_diag_proba\": non_working_proba,\n",
    "               },\n",
    "               [[(\"time\", \"fan_working_diagnostic\"), (\"time\", \"proba\")]],\n",
    "               width=800, height=600, legend = {'x': 0.75, 'y': 0.25, 'font': {'size': 20}, 'orientation': 'h', 'xanchor': 'center'})"
   ]
  }
 ],
 "metadata": {
  "kernelspec": {
   "display_name": "Python 3",
   "language": "python",
   "name": "python3"
  },
  "language_info": {
   "codemirror_mode": {
    "name": "ipython",
    "version": 3
   },
   "file_extension": ".py",
   "mimetype": "text/x-python",
   "name": "python",
   "nbconvert_exporter": "python",
   "pygments_lexer": "ipython3",
   "version": "3.12.7"
  },
  "toc-showcode": false
 },
 "nbformat": 4,
 "nbformat_minor": 5
}
