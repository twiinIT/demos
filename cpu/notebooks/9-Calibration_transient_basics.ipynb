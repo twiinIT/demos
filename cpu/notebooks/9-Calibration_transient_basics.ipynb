{
 "cells": [
  {
   "cell_type": "markdown",
   "id": "aaa9cbf6-94ff-4f11-83c7-715fac084a49",
   "metadata": {},
   "source": [
    "# Calibration transient basics\n",
    "\n",
    "We can now try to calibrate the model over the collected data to better match the dataset.\n",
    "\n",
    "The calibration can't be considering that the heat flow is constant since the use case is transient and not steady-state.\n",
    "\n",
    "We then have to use the temperature at the next time step to compute how a modification of our system will affect the resulting value and iterate on that.\n",
    "\n",
    "The steps are:\n",
    "- create a model\n",
    "- load the characteristics\n",
    "- load the operation data\n",
    "- create and run the calibration"
   ]
  },
  {
   "cell_type": "code",
   "execution_count": 5,
   "id": "7670686c-8059-416a-846a-5cabe483cfba",
   "metadata": {},
   "outputs": [],
   "source": [
    "from cpu.systems import CPUSystem\n",
    "\n",
    "cpu = CPUSystem.load(\"data/cpu_ref.json\")"
   ]
  },
  {
   "cell_type": "code",
   "execution_count": 6,
   "id": "88a4d325-8800-4e73-9338-e7d079a25e31",
   "metadata": {},
   "outputs": [],
   "source": [
    "import numpy as np\n",
    "import pandas as pd\n",
    "\n",
    "from cosapp.drivers import NonLinearSolver, EulerExplicit\n",
    "from cosapp.drivers.time.scenario import Interpolator\n",
    "from cosapp.recorders import DataFrameRecorder\n",
    "\n",
    "time_driver = cpu.add_driver(EulerExplicit())\n",
    "solver = time_driver.add_child(NonLinearSolver(\"solver\", max_iter=10, factor=1.0, tol=1e-6))\n",
    "\n",
    "# load the operation data\n",
    "data = pd.read_csv(\"data/cpu_hot_day_intensive_use.csv\")\n",
    "next_T = data[\"T_cpu\"][1:]\n",
    "\n",
    "# define a calibration methodology\n",
    "solver.add_equation(\"cpu.next_T == cpu.expected_next_T\").add_unknown(\"exchanger.h_adder\")\n",
    "\n",
    "time_driver.time_interval = (0, 29)\n",
    "time_driver.dt = 1.0\n",
    "\n",
    "# define a simulation scenario using the operating conditions\n",
    "time_driver.set_scenario(\n",
    "    init={\"T_cpu\": 10.0},\n",
    "    values={\n",
    "        \"cpu.expected_next_T\": Interpolator(np.stack([np.linspace(0, 29, 30), next_T], axis=1)),\n",
    "        \"fan.T_air\": Interpolator(np.stack([data.index, data[\"fan.T_air\"]], axis=1)),\n",
    "        \"cpu.usage\": Interpolator(np.stack([data.index, data[\"cpu.usage\"]], axis=1)),\n",
    "    },\n",
    ")\n",
    "\n",
    "rec = time_driver.add_recorder(DataFrameRecorder(includes=[\"*\"], hold=False), period=1.0)\n",
    "\n",
    "cpu.run_drivers()\n",
    "rec.data.to_csv(\"data/calibrated_simulation.csv\")"
   ]
  },
  {
   "cell_type": "markdown",
   "id": "6912f738-bd4f-4aa1-9380-ae77cfcac47a",
   "metadata": {},
   "source": [
    "Now plot the results to understand how the exchanger conductivity adder has been computed to fit the data"
   ]
  },
  {
   "cell_type": "code",
   "execution_count": 7,
   "id": "b2c54d98-16a5-4420-b86f-c35ba3557f4f",
   "metadata": {},
   "outputs": [
    {
     "data": {
      "application/vnd.jupyter.widget-view+json": {
       "model_id": "bdfeaef831614b4cb69cde06c9eb6915",
       "version_major": 2,
       "version_minor": 0
      },
      "text/plain": [
       "VBox(children=(HBox(children=(FigureWidget({\n",
       "    'data': [{'mode': 'markers',\n",
       "              'name': 'operation…"
      ]
     },
     "execution_count": 7,
     "metadata": {},
     "output_type": "execute_result"
    }
   ],
   "source": [
    "from cpu.utils.plot_recorders import plot_recorders\n",
    "\n",
    "plot_recorders(\n",
    "    {\n",
    "        \"operation\": pd.read_csv(\"data/cpu_hot_day_intensive_use.csv\"),\n",
    "        \"simulation\": pd.read_csv(\"data/simulation_at_operating_conditions.csv\"),\n",
    "        \"calibrated\": pd.read_csv(\"data/calibrated_simulation.csv\"),\n",
    "    },\n",
    "    [\n",
    "        [(\"time\", \"fan.T_air\"), (\"time\", \"cpu.usage\")],\n",
    "        [(\"time\", \"fan.tension\"), (\"time\", \"T_cpu\")],\n",
    "        [(\"time\", \"exchanger.h_adder\")],\n",
    "    ],\n",
    "    width=800,\n",
    "    height=600,\n",
    ")"
   ]
  },
  {
   "cell_type": "code",
   "execution_count": 8,
   "id": "ffed5cee-09eb-4e67-a6e5-7d904ea41b54",
   "metadata": {},
   "outputs": [
    {
     "data": {
      "text/plain": [
       "np.float64(-30.328703418548095)"
      ]
     },
     "execution_count": 8,
     "metadata": {},
     "output_type": "execute_result"
    }
   ],
   "source": [
    "np.median(rec.data[\"exchanger.h_adder\"])"
   ]
  }
 ],
 "metadata": {
  "kernelspec": {
   "display_name": "Python 3",
   "language": "python",
   "name": "python3"
  },
  "language_info": {
   "codemirror_mode": {
    "name": "ipython",
    "version": 3
   },
   "file_extension": ".py",
   "mimetype": "text/x-python",
   "name": "python",
   "nbconvert_exporter": "python",
   "pygments_lexer": "ipython3",
   "version": "3.12.9"
  },
  "toc-showcode": false
 },
 "nbformat": 4,
 "nbformat_minor": 5
}
