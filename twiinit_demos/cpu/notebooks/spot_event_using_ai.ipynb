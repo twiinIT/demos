{
 "cells": [
  {
   "cell_type": "markdown",
   "id": "ae565107-6486-4378-91ad-e2cb71f04376",
   "metadata": {},
   "source": [
    "# Use AI classifier to spot events\n",
    "\n",
    "We will see how a trained AI on simulation data is able to spot a dyfunction, here namely a broken fan, in operation data.\n",
    "\n",
    "### Load the AI model"
   ]
  },
  {
   "cell_type": "code",
   "execution_count": 1,
   "id": "b4c484b8-fb77-46f9-a5fd-d28d27ed52a0",
   "metadata": {},
   "outputs": [],
   "source": [
    "import numpy as np\n",
    "import pandas as pd\n",
    "from joblib import load\n",
    "\n",
    "# load the already trained classifier and \n",
    "classifier = load('data/broken_fan_classifier.sk-learn')\n",
    "classifier_mean = pd.read_csv(\"data/broken_fan_classifier_mean.csv\")\n",
    "classifier_std = pd.read_csv(\"data/broken_fan_classifier_std.csv\")"
   ]
  },
  {
   "cell_type": "markdown",
   "id": "8a91df97-ad10-4521-a342-d085667b4ccc",
   "metadata": {},
   "source": [
    "### Load the operation data"
   ]
  },
  {
   "cell_type": "code",
   "execution_count": 2,
   "id": "d5c33d4c-bb01-4abd-850b-566f2fdeb209",
   "metadata": {},
   "outputs": [
    {
     "data": {
      "text/html": [
       "<div>\n",
       "<style scoped>\n",
       "    .dataframe tbody tr th:only-of-type {\n",
       "        vertical-align: middle;\n",
       "    }\n",
       "\n",
       "    .dataframe tbody tr th {\n",
       "        vertical-align: top;\n",
       "    }\n",
       "\n",
       "    .dataframe thead th {\n",
       "        text-align: right;\n",
       "    }\n",
       "</style>\n",
       "<table border=\"1\" class=\"dataframe\">\n",
       "  <thead>\n",
       "    <tr style=\"text-align: right;\">\n",
       "      <th></th>\n",
       "      <th>0</th>\n",
       "      <th>1</th>\n",
       "      <th>2</th>\n",
       "      <th>3</th>\n",
       "      <th>4</th>\n",
       "      <th>5</th>\n",
       "      <th>6</th>\n",
       "      <th>7</th>\n",
       "      <th>8</th>\n",
       "      <th>9</th>\n",
       "      <th>...</th>\n",
       "      <th>21</th>\n",
       "      <th>22</th>\n",
       "      <th>23</th>\n",
       "      <th>24</th>\n",
       "      <th>25</th>\n",
       "      <th>26</th>\n",
       "      <th>27</th>\n",
       "      <th>28</th>\n",
       "      <th>29</th>\n",
       "      <th>30</th>\n",
       "    </tr>\n",
       "  </thead>\n",
       "  <tbody>\n",
       "    <tr>\n",
       "      <th>T_cpu</th>\n",
       "      <td>-2.859732</td>\n",
       "      <td>-2.368006</td>\n",
       "      <td>-1.776037</td>\n",
       "      <td>-1.325597</td>\n",
       "      <td>-0.853352</td>\n",
       "      <td>-0.387675</td>\n",
       "      <td>0.037213</td>\n",
       "      <td>0.539365</td>\n",
       "      <td>0.828324</td>\n",
       "      <td>1.150726</td>\n",
       "      <td>...</td>\n",
       "      <td>4.353124</td>\n",
       "      <td>4.190347</td>\n",
       "      <td>3.981272</td>\n",
       "      <td>3.802590</td>\n",
       "      <td>3.641219</td>\n",
       "      <td>3.491789</td>\n",
       "      <td>3.377276</td>\n",
       "      <td>3.246776</td>\n",
       "      <td>3.097929</td>\n",
       "      <td>2.936554</td>\n",
       "    </tr>\n",
       "    <tr>\n",
       "      <th>fan.T_air</th>\n",
       "      <td>2.903702</td>\n",
       "      <td>2.914636</td>\n",
       "      <td>2.847024</td>\n",
       "      <td>2.941271</td>\n",
       "      <td>2.922106</td>\n",
       "      <td>2.903610</td>\n",
       "      <td>2.858302</td>\n",
       "      <td>2.844266</td>\n",
       "      <td>2.837582</td>\n",
       "      <td>2.859503</td>\n",
       "      <td>...</td>\n",
       "      <td>2.852302</td>\n",
       "      <td>2.914785</td>\n",
       "      <td>2.923996</td>\n",
       "      <td>2.848719</td>\n",
       "      <td>2.887518</td>\n",
       "      <td>2.929714</td>\n",
       "      <td>2.904653</td>\n",
       "      <td>2.933990</td>\n",
       "      <td>2.884613</td>\n",
       "      <td>2.890936</td>\n",
       "    </tr>\n",
       "    <tr>\n",
       "      <th>fan.tension</th>\n",
       "      <td>-0.662428</td>\n",
       "      <td>-0.662428</td>\n",
       "      <td>-0.662428</td>\n",
       "      <td>-0.662428</td>\n",
       "      <td>-0.662428</td>\n",
       "      <td>-0.662428</td>\n",
       "      <td>0.785637</td>\n",
       "      <td>0.785637</td>\n",
       "      <td>0.785637</td>\n",
       "      <td>0.785637</td>\n",
       "      <td>...</td>\n",
       "      <td>2.233703</td>\n",
       "      <td>2.233703</td>\n",
       "      <td>2.233703</td>\n",
       "      <td>2.233703</td>\n",
       "      <td>2.233703</td>\n",
       "      <td>2.233703</td>\n",
       "      <td>2.233703</td>\n",
       "      <td>2.233703</td>\n",
       "      <td>2.233703</td>\n",
       "      <td>2.233703</td>\n",
       "    </tr>\n",
       "  </tbody>\n",
       "</table>\n",
       "<p>3 rows × 31 columns</p>\n",
       "</div>"
      ],
      "text/plain": [
       "                   0         1         2         3         4         5   \\\n",
       "T_cpu       -2.859732 -2.368006 -1.776037 -1.325597 -0.853352 -0.387675   \n",
       "fan.T_air    2.903702  2.914636  2.847024  2.941271  2.922106  2.903610   \n",
       "fan.tension -0.662428 -0.662428 -0.662428 -0.662428 -0.662428 -0.662428   \n",
       "\n",
       "                   6         7         8         9   ...        21        22  \\\n",
       "T_cpu        0.037213  0.539365  0.828324  1.150726  ...  4.353124  4.190347   \n",
       "fan.T_air    2.858302  2.844266  2.837582  2.859503  ...  2.852302  2.914785   \n",
       "fan.tension  0.785637  0.785637  0.785637  0.785637  ...  2.233703  2.233703   \n",
       "\n",
       "                   23        24        25        26        27        28  \\\n",
       "T_cpu        3.981272  3.802590  3.641219  3.491789  3.377276  3.246776   \n",
       "fan.T_air    2.923996  2.848719  2.887518  2.929714  2.904653  2.933990   \n",
       "fan.tension  2.233703  2.233703  2.233703  2.233703  2.233703  2.233703   \n",
       "\n",
       "                   29        30  \n",
       "T_cpu        3.097929  2.936554  \n",
       "fan.T_air    2.884613  2.890936  \n",
       "fan.tension  2.233703  2.233703  \n",
       "\n",
       "[3 rows x 31 columns]"
      ]
     },
     "execution_count": 2,
     "metadata": {},
     "output_type": "execute_result"
    }
   ],
   "source": [
    "# load the operation data to check for borken fan event\n",
    "data = pd.read_csv(\"data/cpu_hot_day_intensive_use_broken.csv\")\n",
    "# do data normalization\n",
    "classifier_data = (data[[\"fan.T_air\", \"T_cpu\", \"fan.tension\"]] - classifier_mean.loc[0]) / classifier_std.loc[0]\n",
    "classifier_data.T"
   ]
  },
  {
   "cell_type": "markdown",
   "id": "43a95554-5ccb-45f9-a83f-0a02ad6cdd94",
   "metadata": {},
   "source": [
    "### Perform the checks"
   ]
  },
  {
   "cell_type": "code",
   "execution_count": 3,
   "id": "c1bce9b8-2971-4334-9a7e-480b8fed8259",
   "metadata": {},
   "outputs": [],
   "source": [
    "# use the AI classifier to predict nominal vs broken fan\n",
    "diag = pd.DataFrame(np.stack((classifier_data.index, classifier.predict(classifier_data.values)), axis=1), columns=[\"time\", \"fan_working_diagnostic\"])\n",
    "\n",
    "# also get associated statistics\n",
    "classifier_proba =  pd.DataFrame(np.hstack((np.arange(0, 31, 1).reshape(-1, 1), classifier.predict_proba(classifier_data.values))), columns=[\"time\", \"non_working_proba\", \"working_proba\"])\n",
    "non_working_proba = classifier_proba[[\"time\", \"non_working_proba\"]].rename(columns={\"non_working_proba\": \"proba\"})\n",
    "working_proba = classifier_proba[[\"time\", \"working_proba\"]].rename(columns={\"working_proba\": \"proba\"})"
   ]
  },
  {
   "cell_type": "code",
   "execution_count": 4,
   "id": "c9dc864b-aae3-427f-89a9-62ccb5417f74",
   "metadata": {},
   "outputs": [
    {
     "data": {
      "application/vnd.jupyter.widget-view+json": {
       "model_id": "a56ebc96f330450787cf7d998c7a0527",
       "version_major": 2,
       "version_minor": 0
      },
      "text/plain": [
       "VBox(children=(HBox(children=(FigureWidget({\n",
       "    'data': [{'mode': 'markers',\n",
       "              'name': 'diag',\n",
       "  …"
      ]
     },
     "metadata": {},
     "output_type": "display_data"
    }
   ],
   "source": [
    "from twiinit_demos.cpu.utils.plot import plot_recorders\n",
    "\n",
    "plot_recorders({\"diag\": diag,\n",
    "                \"working_diag_proba\": working_proba,\n",
    "                \"non_working_diag_proba\": non_working_proba,\n",
    "               },\n",
    "               [[(\"time\", \"fan_working_diagnostic\"), (\"time\", \"proba\")]],\n",
    "               width=800, height=600, legend = {'x': 0.75, 'y': 0.25, 'font': {'size': 20}, 'orientation': 'h', 'xanchor': 'center'})"
   ]
  }
 ],
 "metadata": {
  "kernelspec": {
   "display_name": "Python 3 (ipykernel)",
   "language": "python",
   "name": "python3"
  },
  "language_info": {
   "codemirror_mode": {
    "name": "ipython",
    "version": 3
   },
   "file_extension": ".py",
   "mimetype": "text/x-python",
   "name": "python",
   "nbconvert_exporter": "python",
   "pygments_lexer": "ipython3",
   "version": "3.9.12"
  },
  "toc-showcode": false
 },
 "nbformat": 4,
 "nbformat_minor": 5
}
