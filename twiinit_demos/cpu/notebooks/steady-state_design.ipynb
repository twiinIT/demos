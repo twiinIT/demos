{
 "cells": [
  {
   "cell_type": "markdown",
   "id": "7c63546c-f839-46a3-a355-8832ba12e9c0",
   "metadata": {
    "tags": []
   },
   "source": [
    "## Design a product\n",
    "\n",
    "The design of a product is the process of defining characteristics to meet others.\n",
    "\n",
    "Typically, geometries will be computed to reach physical specifications.\n",
    "\n",
    "\n",
    "### Definition of the specs\n",
    "\n",
    "Exchanger surface is evaluated so that maximum CPU temparature is 80°C when air temperature is 40° and CPU is running at its maximum."
   ]
  },
  {
   "cell_type": "code",
   "execution_count": 2,
   "id": "05aab7a7-ed84-478e-89e7-72feb2676074",
   "metadata": {},
   "outputs": [
    {
     "data": {
      "text/html": [
       "\n",
       "        <iframe\n",
       "            width=\"810px\"\n",
       "            height=\"650px\"\n",
       "            src=\"cpu.html\"\n",
       "            frameborder=\"0\"\n",
       "            allowfullscreen\n",
       "            \n",
       "        ></iframe>\n",
       "        "
      ],
      "text/markdown": [
       "\n",
       "### Child components\n",
       "\n",
       "- `controler`: FanController\n",
       "- `fan`: Fan\n",
       "- `exchanger`: HeatExchanger\n",
       "- `cpu`: CPU\n",
       "\n",
       "### Inputs\n",
       "\n",
       "- `inwards`: ExtensiblePort\n",
       "<div class='cosapp-port-table' style='margin-left: 25px; margin-top: -12px'><style type='text/css'>.cosapp-port-table >table >thead{display: none}.cosapp-port-table tbody tr{background: rgba(255, 255, 255, 0)!important}.cosapp-port-table tbody tr:hover{background: #e1f5fe!important}.cosapp-port-table >table {margin-left: unset; margin-right: unset}</style>\n",
       "\n",
       "|  |  |\n",
       "---|---\n",
       "  **T_cpu** &#128274;&#128274; : 20 degC | Metal temperature\n",
       "</div>\n"
      ],
      "text/plain": [
       "cpu - CPUSystem"
      ]
     },
     "execution_count": 2,
     "metadata": {},
     "output_type": "execute_result"
    }
   ],
   "source": [
    "from twiinit_demos.cpu.systems import CPUSystem\n",
    "\n",
    "# create a system model\n",
    "cpu = CPUSystem(\"cpu\")\n",
    "cpu"
   ]
  },
  {
   "cell_type": "code",
   "execution_count": 3,
   "id": "1a57f20d-cb9a-4b1b-ba97-6b50d111d9ba",
   "metadata": {},
   "outputs": [],
   "source": [
    "from cosapp.drivers import NonLinearSolver, RungeKutta, LinearDoE, Optimizer\n",
    "\n",
    "# add a design driver and its definition\n",
    "design = cpu.add_driver(NonLinearSolver('solver'))\n",
    "design.extend(cpu.design_methods[\"exchanger_surface\"])\n",
    "design.runner.set_values({\"fan.T_air\": 40., \"T_cpu\": 80., \"cpu.usage\": 100.})"
   ]
  },
  {
   "cell_type": "markdown",
   "id": "bfb2cc48-3466-44f9-9790-6c2cf8d525db",
   "metadata": {},
   "source": [
    "### The design itself\n",
    "\n",
    "You can then run one or more designs by changing the specifications.\n",
    "\n",
    "See also the [DoE (Design of Experiments)](doe.ipynb) to automatically run a set of cases."
   ]
  },
  {
   "cell_type": "code",
   "execution_count": 4,
   "id": "a469528b-0073-43a7-89a9-16444d0fdf52",
   "metadata": {},
   "outputs": [
    {
     "name": "stdout",
     "output_type": "stream",
     "text": [
      "0.008467741935483872\n"
     ]
    }
   ],
   "source": [
    "# run design\n",
    "cpu.run_drivers()\n",
    "print(cpu.exchanger.surface)"
   ]
  },
  {
   "cell_type": "code",
   "execution_count": 5,
   "id": "81ed5d71-abc5-428a-8bb2-6d03d3730e82",
   "metadata": {},
   "outputs": [
    {
     "name": "stdout",
     "output_type": "stream",
     "text": [
      "0.0067741935483870966\n"
     ]
    }
   ],
   "source": [
    "design.runner.set_values({\"fan.T_air\": 30., \"T_cpu\": 80., \"cpu.usage\": 100.})\n",
    "cpu.run_drivers()\n",
    "print(cpu.exchanger.surface)"
   ]
  },
  {
   "cell_type": "code",
   "execution_count": null,
   "id": "9c88023b-0132-4172-b5c1-c09d37e87cf6",
   "metadata": {},
   "outputs": [],
   "source": []
  }
 ],
 "metadata": {
  "kernelspec": {
   "display_name": "Python 3 (ipykernel)",
   "language": "python",
   "name": "python3"
  },
  "language_info": {
   "codemirror_mode": {
    "name": "ipython",
    "version": 3
   },
   "file_extension": ".py",
   "mimetype": "text/x-python",
   "name": "python",
   "nbconvert_exporter": "python",
   "pygments_lexer": "ipython3",
   "version": "3.9.12"
  },
  "toc-showcode": false
 },
 "nbformat": 4,
 "nbformat_minor": 5
}
