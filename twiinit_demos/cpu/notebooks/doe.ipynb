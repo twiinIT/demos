{
 "cells": [
  {
   "cell_type": "markdown",
   "id": "14731a29-e7cb-42d7-9787-e0db676fc76f",
   "metadata": {},
   "source": [
    "# Design of Experiments\n",
    "\n",
    "A Design of Experiments (DoE) is a convenient way to run multiple simulations.\n",
    "\n",
    "## Linear DoE\n",
    "\n",
    "The linear DoE generates an hypercube of the inputs, using a linspace.\n",
    "\n",
    "Here we illustrate how it works with a design DoE."
   ]
  },
  {
   "cell_type": "code",
   "execution_count": null,
   "id": "cb75600f-8427-478a-89df-c937255ffa7f",
   "metadata": {},
   "outputs": [],
   "source": [
    "from cosapp.drivers import NonLinearSolver, RungeKutta, LinearDoE\n",
    "from cosapp.recorders import DataFrameRecorder\n",
    "\n",
    "from twiinit_demos.cpu.systems import CPUSystem"
   ]
  },
  {
   "cell_type": "code",
   "execution_count": null,
   "id": "9b501070-1c02-40c2-9850-a009506d72db",
   "metadata": {},
   "outputs": [],
   "source": [
    "cpu = CPUSystem(\"cpu\")"
   ]
  },
  {
   "cell_type": "code",
   "execution_count": null,
   "id": "de552c76-078a-4c2a-a76a-beff6c19cf59",
   "metadata": {},
   "outputs": [],
   "source": [
    "doe = cpu.add_driver(LinearDoE('doe'))\n",
    "\n",
    "design = doe.add_child(NonLinearSolver('solver'))\n",
    "design.extend(cpu.design_methods[\"exchanger_surface\"])\n",
    "design.runner.set_values({\"T_cpu\": 80., \"cpu.usage\": 100.})\n",
    "\n",
    "doe.add_recorder(DataFrameRecorder(includes=['*']))\n",
    "doe.add_input_var({'fan.T_air': {\"lower\": 30.0, \"upper\": 60.0, \"count\": 31}})"
   ]
  },
  {
   "cell_type": "code",
   "execution_count": null,
   "id": "5325478f-3512-428a-8b1c-3b6149b359a6",
   "metadata": {},
   "outputs": [],
   "source": [
    "cpu.run_drivers()\n",
    "doe.recorder.data"
   ]
  }
 ],
 "metadata": {
  "kernelspec": {
   "display_name": "Python 3 (ipykernel)",
   "language": "python",
   "name": "python3"
  },
  "language_info": {
   "codemirror_mode": {
    "name": "ipython",
    "version": 3
   },
   "file_extension": ".py",
   "mimetype": "text/x-python",
   "name": "python",
   "nbconvert_exporter": "python",
   "pygments_lexer": "ipython3",
   "version": "3.9.12"
  }
 },
 "nbformat": 4,
 "nbformat_minor": 5
}
