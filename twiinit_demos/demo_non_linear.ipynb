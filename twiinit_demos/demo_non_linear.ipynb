{
 "cells": [
  {
   "cell_type": "code",
   "execution_count": 14,
   "id": "df9feba8-000f-4075-b147-d74f6de869a5",
   "metadata": {},
   "outputs": [],
   "source": [
    "from cosapp.systems import System\n",
    "from cosapp.utils import LogLevel, set_log"
   ]
  },
  {
   "cell_type": "code",
   "execution_count": 15,
   "id": "8459e549-0168-4fce-bb1b-49210a3babc4",
   "metadata": {},
   "outputs": [],
   "source": [
    "class TestModel(System):\n",
    "    \n",
    "    def setup(self):\n",
    "        self.add_inward(\"a\", 1., unit=\"\")\n",
    "        self.add_inward(\"b\", 1., unit=\"\")\n",
    "        self.add_inward(\"x\", 1., unit=\"\")\n",
    "        \n",
    "        self.add_outward(\"y\", 1., unit=\"\")\n",
    "        \n",
    "    def compute(self):\n",
    "        self.y = self.a * self.x**2 + self.b"
   ]
  },
  {
   "cell_type": "code",
   "execution_count": 60,
   "id": "b0034c81-3abc-4d87-9b34-c6c05ef42c05",
   "metadata": {},
   "outputs": [
    {
     "name": "stdout",
     "output_type": "stream",
     "text": [
      " ------------------------------------------------------------\n",
      " # Starting driver 'solver' on 'model'\n",
      "solver : solver   -> Converged (2.3297e-08) in 5 iterations, 4 complete, 0 partial Jacobian and 1 Broyden evaluation(s)\n",
      " # Ending driver 'solver' on 'model' in 0.005 seconds\n",
      "\n"
     ]
    }
   ],
   "source": [
    "from cosapp.drivers import NonLinearSolver\n",
    "\n",
    "m = TestModel(\"model\")\n",
    "design = m.add_driver(NonLinearSolver('solver', factor=1., tol=1e-5))\n",
    "\n",
    "design.runner.set_values({\"a\": 1., \"b\": 4.})\n",
    "design.runner.add_equation(\"y == 10.\").add_unknown(\"x\")\n",
    "\n",
    "set_log(level=LogLevel.INFO)\n",
    "m.run_drivers()"
   ]
  },
  {
   "cell_type": "code",
   "execution_count": 61,
   "id": "8f3028cd-b57a-4a39-ab0b-c7dd4aa4894c",
   "metadata": {},
   "outputs": [
    {
     "data": {
      "text/plain": [
       "2.4494897475385846"
      ]
     },
     "execution_count": 61,
     "metadata": {},
     "output_type": "execute_result"
    }
   ],
   "source": [
    "m.x"
   ]
  },
  {
   "cell_type": "code",
   "execution_count": 62,
   "id": "97abcc52-e658-41c0-8254-215f2fe04677",
   "metadata": {},
   "outputs": [
    {
     "data": {
      "text/plain": [
       "10.00000002329664"
      ]
     },
     "execution_count": 62,
     "metadata": {},
     "output_type": "execute_result"
    }
   ],
   "source": [
    "m.a * m.x **2 + m.b"
   ]
  },
  {
   "cell_type": "code",
   "execution_count": 63,
   "id": "3768ffd4-18b6-4e66-b7d7-342c4ec57ada",
   "metadata": {},
   "outputs": [
    {
     "data": {
      "text/plain": [
       "array([[4.90375938]])"
      ]
     },
     "execution_count": 63,
     "metadata": {},
     "output_type": "execute_result"
    }
   ],
   "source": [
    "design.jac"
   ]
  },
  {
   "cell_type": "code",
   "execution_count": null,
   "id": "1f9bad46-0fba-4d21-aa17-c3359cb208f2",
   "metadata": {},
   "outputs": [],
   "source": []
  }
 ],
 "metadata": {
  "kernelspec": {
   "display_name": "Python 3 (ipykernel)",
   "language": "python",
   "name": "python3"
  },
  "language_info": {
   "codemirror_mode": {
    "name": "ipython",
    "version": 3
   },
   "file_extension": ".py",
   "mimetype": "text/x-python",
   "name": "python",
   "nbconvert_exporter": "python",
   "pygments_lexer": "ipython3",
   "version": "3.9.10"
  }
 },
 "nbformat": 4,
 "nbformat_minor": 5
}
