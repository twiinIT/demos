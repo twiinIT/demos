{
 "cells": [
  {
   "cell_type": "code",
   "execution_count": 2,
   "id": "56d5b321-2d63-40fc-9134-649a98729e38",
   "metadata": {},
   "outputs": [
    {
     "ename": "ImportError",
     "evalue": "cannot import name 'CreateAxis' from 'pyoccad.create' (unknown location)",
     "output_type": "error",
     "traceback": [
      "\u001b[0;31m---------------------------------------------------------------------------\u001b[0m",
      "\u001b[0;31mImportError\u001b[0m                               Traceback (most recent call last)",
      "Input \u001b[0;32mIn [2]\u001b[0m, in \u001b[0;36m<module>\u001b[0;34m\u001b[0m\n\u001b[0;32m----> 1\u001b[0m \u001b[38;5;28;01mfrom\u001b[39;00m \u001b[38;5;21;01mpipe\u001b[39;00m \u001b[38;5;28;01mimport\u001b[39;00m Pipe\n\u001b[1;32m      3\u001b[0m p \u001b[38;5;241m=\u001b[39m Pipe(\u001b[38;5;124m\"\u001b[39m\u001b[38;5;124mp\u001b[39m\u001b[38;5;124m\"\u001b[39m)\n\u001b[1;32m      4\u001b[0m p\u001b[38;5;241m.\u001b[39m_cad_repr_()\n",
      "File \u001b[0;32m~/Documents/codes/twiinit/demos/demos/blogging/global_optimization/pipe.py:4\u001b[0m, in \u001b[0;36m<module>\u001b[0;34m\u001b[0m\n\u001b[1;32m      1\u001b[0m \u001b[38;5;28;01mfrom\u001b[39;00m \u001b[38;5;21;01mmath\u001b[39;00m \u001b[38;5;28;01mimport\u001b[39;00m pi\n\u001b[1;32m      3\u001b[0m \u001b[38;5;28;01mfrom\u001b[39;00m \u001b[38;5;21;01mcosapp\u001b[39;00m\u001b[38;5;21;01m.\u001b[39;00m\u001b[38;5;21;01msystems\u001b[39;00m \u001b[38;5;28;01mimport\u001b[39;00m System\n\u001b[0;32m----> 4\u001b[0m \u001b[38;5;28;01mfrom\u001b[39;00m \u001b[38;5;21;01mpyoccad\u001b[39;00m\u001b[38;5;21;01m.\u001b[39;00m\u001b[38;5;21;01mcreate\u001b[39;00m \u001b[38;5;28;01mimport\u001b[39;00m (\n\u001b[1;32m      5\u001b[0m     CreateAxis,\n\u001b[1;32m      6\u001b[0m     CreateCircle,\n\u001b[1;32m      7\u001b[0m     CreateDirection,\n\u001b[1;32m      8\u001b[0m     CreateExtrusion,\n\u001b[1;32m      9\u001b[0m     CreateLine,\n\u001b[1;32m     10\u001b[0m     CreateRevolution,\n\u001b[1;32m     11\u001b[0m )\n\u001b[1;32m     12\u001b[0m \u001b[38;5;28;01mfrom\u001b[39;00m \u001b[38;5;21;01mpyoccad\u001b[39;00m\u001b[38;5;21;01m.\u001b[39;00m\u001b[38;5;21;01mrender\u001b[39;00m \u001b[38;5;28;01mimport\u001b[39;00m JupyterThreeJSRenderer\n\u001b[1;32m     13\u001b[0m \u001b[38;5;28;01mfrom\u001b[39;00m \u001b[38;5;21;01mpyoccad\u001b[39;00m\u001b[38;5;21;01m.\u001b[39;00m\u001b[38;5;21;01mtransform\u001b[39;00m \u001b[38;5;28;01mimport\u001b[39;00m Sweep\n",
      "\u001b[0;31mImportError\u001b[0m: cannot import name 'CreateAxis' from 'pyoccad.create' (unknown location)"
     ]
    }
   ],
   "source": [
    "from pipe import Pipe\n",
    "\n",
    "p = Pipe(\"p\")\n",
    "p._cad_repr_()"
   ]
  },
  {
   "cell_type": "code",
   "execution_count": null,
   "id": "c7dc41ad-edc2-485e-b897-6ae9feca0c63",
   "metadata": {},
   "outputs": [],
   "source": [
    "from cosapp.drivers import LinearDoE, RunOnce\n",
    "from cosapp.recorders import DataFrameRecorder\n",
    "\n",
    "rec = DataFrameRecorder(includes=['radius', 'weight', 'pressure_loss'], hold=False)\n",
    "doe = p.add_driver(LinearDoE('doe'))\n",
    "doe.add_child(RunOnce('run'))\n",
    "doe.add_input_var(\"radius\", 0.02, 0.03, 20)\n",
    "doe.add_recorder(rec)\n",
    "\n",
    "p.run_drivers()"
   ]
  },
  {
   "cell_type": "code",
   "execution_count": null,
   "id": "be0bacc2-840e-47a1-942b-ff4d8bafffae",
   "metadata": {},
   "outputs": [],
   "source": [
    "rec.data"
   ]
  },
  {
   "cell_type": "code",
   "execution_count": null,
   "id": "1a7ee9e0-5b6a-43c3-ad2a-18af1aeabef2",
   "metadata": {},
   "outputs": [],
   "source": [
    "import plotly.graph_objs as go\n",
    "import numpy as np\n",
    "\n",
    "\n",
    "radius = np.asarray(rec.data['radius'])\n",
    "go.Figure(\n",
    "    data = [\n",
    "        go.Scatter(\n",
    "            x = radius,\n",
    "            y = rec.data['pressure_loss'],\n",
    "            mode = 'markers+lines',\n",
    "            marker_color = \"blue\",\n",
    "            marker_size = 10,\n",
    "            name = 'pressure loss',\n",
    "            yaxis = \"y1\",\n",
    "        ),\n",
    "        go.Scatter(\n",
    "            x = radius,\n",
    "            y = rec.data['weight'],\n",
    "            mode = 'markers+lines',\n",
    "            marker_color = \"red\",\n",
    "            marker_size = 10,\n",
    "            name = 'weight',\n",
    "            yaxis = \"y2\",\n",
    "        ),\n",
    "    ],\n",
    "    layout = go.Layout(\n",
    "        title = {'text': 'Pipe design analysis', 'font': {'size': 34}, 'x': 0.5},\n",
    "        width = 1200,\n",
    "        height = 600,\n",
    "        xaxis = {'title': {'text': 'radius (m)', 'font': {'size': 20}}, 'gridcolor': '#EBF0F8'},\n",
    "        yaxis = {'title': {'text': 'pressure loss (-)', 'font': {'size': 20}}, 'gridcolor': '#EBF0F8'},\n",
    "        yaxis2 = {'title': {'text': 'weight (kg)', 'font': {'size': 20}}, 'side': \"right\", 'gridcolor': '#EBF0F8', \"overlaying\": \"y\"},\n",
    "        legend = {'x': 0.85, 'y': 0.25, 'font': {'size': 20}, 'orientation': 'h', 'xanchor': 'center'},\n",
    "        plot_bgcolor = 'white',\n",
    "        hovermode = 'x',\n",
    "    )\n",
    ")"
   ]
  }
 ],
 "metadata": {
  "kernelspec": {
   "display_name": "Python 3 (ipykernel)",
   "language": "python",
   "name": "python3"
  },
  "language_info": {
   "codemirror_mode": {
    "name": "ipython",
    "version": 3
   },
   "file_extension": ".py",
   "mimetype": "text/x-python",
   "name": "python",
   "nbconvert_exporter": "python",
   "pygments_lexer": "ipython3",
   "version": "3.9.12"
  }
 },
 "nbformat": 4,
 "nbformat_minor": 5
}
